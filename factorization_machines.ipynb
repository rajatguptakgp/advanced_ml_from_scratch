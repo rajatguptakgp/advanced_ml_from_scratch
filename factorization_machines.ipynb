{
 "cells": [
  {
   "cell_type": "code",
   "execution_count": 1,
   "metadata": {},
   "outputs": [],
   "source": [
    "import numpy as np\n",
    "import pandas as pd\n",
    "from sklearn.datasets import load_diabetes\n",
    "from sklearn.model_selection import train_test_split\n",
    "from sklearn.metrics import mean_squared_error, r2_score\n",
    "\n",
    "from tqdm import tqdm\n",
    "import matplotlib.pyplot as plt"
   ]
  },
  {
   "cell_type": "markdown",
   "metadata": {},
   "source": [
    "### Factorization Machines\n",
    "\n",
    "Consider a regression task with target variable as continuous. In Simple Linear Regression, we try to minimize the difference between true values and predicted values using Ordinary Least Squares (OLS). Here, we consider the predictor to be a linear combination of features. \n",
    "\n",
    "However, interactions are not limited to be linear. In order to model higher-order interactions for better predictibility, we should consider cross-features. So if we consider pairwise combinations, this will increase the complexity of model to $O(N^2)$ from originally $O(N)$.\n",
    "\n",
    "\\begin{equation}\n",
    "\\hat{y}(\\mathbf{x})=w_{0}+\\sum_{i=1}^{n} w_{i} x_{i}+\\sum_{i=1}^{n} \\sum_{j=i+1}^{n} w_{i} w_{j}x_{i} x_{j}\n",
    "\\end{equation}\n",
    "\n",
    "Factorization Machines help in modelling the pairwise interactions efficiently. Every feature is represented as $K$-dimensional vector in latent space. This helps in reducing the number of weights from $O(N^2)$ to $O(KN)$. \n",
    "\n",
    "\\begin{equation}\n",
    "\\hat{y}(\\mathbf{x})=w_{0}+\\sum_{i=1}^{n} w_{i} x_{i}+\\sum_{i=1}^{n} \\sum_{j=i+1}^{n}\\left\\langle\\mathbf{v}_{i}, \\mathbf{v}_{j}\\right\\rangle x_{i} x_{j}\n",
    "\\end{equation}\n",
    "\n",
    "However, the time-complexity is still $O(N^2)$. We can reformulate the above equation as follows:\n",
    "\n",
    "\\begin{equation}\n",
    "\\hat{y}(\\mathbf{x})=w_{0}+\\sum_{i=1}^{n} w_{i} x_{i}+\\frac{1}{2} \\sum_{f=1}^{k}\\left(\\left(\\sum_{i}^{n} v_{i, f} x_{i}\\right)^{2}-\\sum_{i=1}^{n} v_{i, f}^{2} x_{i}^{2}\\right)\n",
    "\\end{equation}\n",
    "\n",
    "This makes the time-complexity of model linear i.e. $O(KN)$."
   ]
  },
  {
   "cell_type": "code",
   "execution_count": 2,
   "metadata": {},
   "outputs": [],
   "source": [
    "dataset = load_diabetes()\n",
    "df = pd.DataFrame(dataset['data'], columns=dataset['feature_names'])\n",
    "df['target'] = dataset['target']"
   ]
  },
  {
   "cell_type": "code",
   "execution_count": 3,
   "metadata": {},
   "outputs": [
    {
     "data": {
      "text/plain": [
       "((296, 10), (146, 10), (296,), (146,))"
      ]
     },
     "execution_count": 3,
     "metadata": {},
     "output_type": "execute_result"
    }
   ],
   "source": [
    "cols = df.columns.tolist()\n",
    "cols.remove('target')\n",
    "\n",
    "X = df[cols].values\n",
    "Y = df['target'].values\n",
    "\n",
    "X, X_val, Y, Y_val = train_test_split(X, Y, test_size=0.33, random_state=42)\n",
    "X.shape, X_val.shape, Y.shape, Y_val.shape"
   ]
  },
  {
   "cell_type": "code",
   "execution_count": 4,
   "metadata": {},
   "outputs": [],
   "source": [
    "def get_prediction(x, w, b, M):\n",
    "    cross_term = 0\n",
    "    for v in M.T:\n",
    "        cross_term += (v @ x)**2 - v**2 @ x**2\n",
    "    cross_term /= 2\n",
    "    prediction = b + w @ x + cross_term\n",
    "    return prediction\n",
    "\n",
    "def total_loss(Y, X, w, b, M):\n",
    "    y_pred = list(map(lambda x: get_prediction(x, w, b, M), X))\n",
    "    y_pred = np.array(y_pred)\n",
    "    total_loss = np.sum((Y - y_pred)**2) / len(Y)\n",
    "    return total_loss\n",
    "\n",
    "def matrix_gradients(feature_idx, factor_idx, Y, X, w, b, M):\n",
    "    y_pred = list(map(lambda x: get_prediction(x, w, b, M), X))\n",
    "    y_pred = np.array(y_pred)\n",
    "\n",
    "    const_sum = 0\n",
    "    for v, x in zip(M.T[factor_idx], X.T):\n",
    "        const_sum += v * x\n",
    "    grad = X[:, feature_idx] * (const_sum - M[feature_idx, factor_idx] * X[:, feature_idx])\n",
    "    fm_grad = -2 * (Y - y_pred) @ grad / len(Y)\n",
    "    return fm_grad\n",
    "        \n",
    "def gradients(Y, X, w, b, M):\n",
    "    N, k = M.shape\n",
    "\n",
    "    y_pred = list(map(lambda x: get_prediction(x, w, b, M), X))\n",
    "    y_pred = np.array(y_pred)\n",
    "\n",
    "    db = -2 * np.sum(Y - y_pred) / len(Y)\n",
    "    dw = np.array(list(map(lambda x: -2 * (Y - y_pred) @ x / len(Y), X.T)))\n",
    "\n",
    "    fm_grad = list(map(lambda feature_idx: list(map(lambda factor_idx: matrix_gradients(feature_idx, factor_idx, Y, X, w, b, M), range(k))), range(N)))\n",
    "    fm_grad = np.array(fm_grad)   \n",
    "    return db, dw, fm_grad"
   ]
  },
  {
   "cell_type": "code",
   "execution_count": 5,
   "metadata": {},
   "outputs": [],
   "source": [
    "def factorization_machine(Y, X, b_init, w_init, M_init, alpha, n_iters):\n",
    "    costs = []\n",
    "\n",
    "    b = b_init\n",
    "    w = w_init\n",
    "    M = M_init\n",
    "\n",
    "    for _ in tqdm(range(n_iters)):\n",
    "        db, dw, fm_grad = gradients(Y, X, w, b, M)\n",
    "        b -= alpha * db\n",
    "        w -= alpha * dw\n",
    "        M -= alpha * fm_grad\n",
    "\n",
    "        cost = total_loss(Y, X, w, b, M)\n",
    "        costs.append(cost)\n",
    "\n",
    "    return w, b, M, costs"
   ]
  },
  {
   "cell_type": "code",
   "execution_count": 6,
   "metadata": {},
   "outputs": [
    {
     "name": "stderr",
     "output_type": "stream",
     "text": [
      "100%|██████████| 200/200 [01:00<00:00,  3.30it/s]\n"
     ]
    },
    {
     "data": {
      "image/png": "[encoded data removed]",
      "text/plain": [
       "<Figure size 432x288 with 1 Axes>"
      ]
     },
     "metadata": {
      "needs_background": "light"
     },
     "output_type": "display_data"
    }
   ],
   "source": [
    "alpha = 1E-2 \n",
    "n_iters = 200\n",
    "num_factors = 5\n",
    "b_init = 0.2\n",
    "w_init = np.random.normal(size = (X.shape[1]))\n",
    "M_init = np.random.normal(size = (X.shape[1], num_factors))\n",
    "\n",
    "w, b, M, costs = factorization_machine(Y, X, b_init, w_init, M_init, alpha, n_iters)\n",
    "plt.plot(costs)\n",
    "plt.show()   "
   ]
  },
  {
   "cell_type": "code",
   "execution_count": 7,
   "metadata": {},
   "outputs": [
    {
     "data": {
      "text/plain": [
       "74.80727081843861"
      ]
     },
     "execution_count": 7,
     "metadata": {},
     "output_type": "execute_result"
    }
   ],
   "source": [
    "y_pred = list(map(lambda x: get_prediction(x, w, b, M), X_val))\n",
    "y_pred = np.array(y_pred)\n",
    "np.sqrt(mean_squared_error(Y_val, y_pred))"
   ]
  },
  {
   "cell_type": "code",
   "execution_count": null,
   "metadata": {},
   "outputs": [],
   "source": []
  }
 ],
 "metadata": {
  "interpreter": {
   "hash": "951daa5e1959839fcb325fff331f52e72634f7a1be998f6081ed7f433b63f1b3"
  },
  "kernelspec": {
   "display_name": "Python 3.8.11 ('base')",
   "language": "python",
   "name": "python3"
  },
  "language_info": {
   "codemirror_mode": {
    "name": "ipython",
    "version": 3
   },
   "file_extension": ".py",
   "mimetype": "text/x-python",
   "name": "python",
   "nbconvert_exporter": "python",
   "pygments_lexer": "ipython3",
   "version": "3.8.11"
  },
  "orig_nbformat": 4
 },
 "nbformat": 4,
 "nbformat_minor": 2
}
