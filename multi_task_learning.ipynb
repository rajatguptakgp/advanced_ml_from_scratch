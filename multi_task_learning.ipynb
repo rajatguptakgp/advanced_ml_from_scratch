{
 "cells": [
  {
   "cell_type": "code",
   "execution_count": 1,
   "metadata": {},
   "outputs": [],
   "source": [
    "import numpy as np\n",
    "import matplotlib.pyplot as plt\n",
    "from tensorflow import keras\n",
    "from keras.models import Sequential, Model\n",
    "from keras.layers import Conv2D, Dense, Flatten, MaxPool2D, Dropout, Input, Concatenate, BatchNormalization\n",
    "from tqdm import tqdm"
   ]
  },
  {
   "cell_type": "markdown",
   "metadata": {},
   "source": [
    "### Multi-Task Learning\n",
    "\n",
    "Multi-Task Learning is a type of learning where the model learns two tasks with same set or multiple sets of data. With the intention of learning two patterns (for example - regression and classification), instead of making two models, we can try building a single model with multiple heads at the end such that both these tasks augment/complement each other, thereby improving learning beyond what can be achieved by single task network.\n",
    "\n",
    "Multi-Task Learning is different from multi-output training as the former is a broader class where different sets of data can be used together to model a single network while the latter typically uses a single source of data to learn multiple outputs."
   ]
  },
  {
   "cell_type": "markdown",
   "metadata": {},
   "source": [
    "### Problem Formulation\n",
    "\n",
    "In this notebook, we will use the MNIST dataset to build a multi-task framework. We will stitch digit images together such that the model predict digits individually and sum of digits together. So there are two heads - classification and regression heads. Accordingly, there are two loss functions: \n",
    "1. Binary Cross Entropy for Multi-Label Classification, Activation at output - Sigmoid\n",
    "2. Mean Squared Error for Regression, Activation at output - ReLU"
   ]
  },
  {
   "cell_type": "code",
   "execution_count": 2,
   "metadata": {},
   "outputs": [],
   "source": [
    "img_size = 56\n",
    "num_classes = 10"
   ]
  },
  {
   "cell_type": "code",
   "execution_count": 3,
   "metadata": {},
   "outputs": [
    {
     "data": {
      "text/plain": [
       "((60000, 28, 28), (60000,), (10000, 28, 28), (10000,))"
      ]
     },
     "execution_count": 3,
     "metadata": {},
     "output_type": "execute_result"
    }
   ],
   "source": [
    "(X_train, y_train), (X_test, y_test) = keras.datasets.mnist.load_data()\n",
    "X_train.shape, y_train.shape, X_test.shape, y_test.shape"
   ]
  },
  {
   "cell_type": "code",
   "execution_count": 4,
   "metadata": {},
   "outputs": [],
   "source": [
    "train_idxs = np.arange(X_train.shape[0])\n",
    "np.random.shuffle(train_idxs)\n",
    "X_train = X_train[train_idxs]\n",
    "y_train = y_train[train_idxs]"
   ]
  },
  {
   "cell_type": "code",
   "execution_count": 5,
   "metadata": {},
   "outputs": [],
   "source": [
    "def make_example(X_train, y_train, batch):\n",
    "    idx1, idx2, idx3, idx4 = 4 * batch, 4 * batch + 1, 4 * batch + 2, 4 * batch + 3\n",
    "    r1 = np.hstack((X_train[idx1], X_train[idx2]))\n",
    "    r2 = np.hstack((X_train[idx3], X_train[idx4]))\n",
    "    img = np.vstack((r1, r2))\n",
    "    digits = keras.utils.to_categorical(y_train[[idx1, idx2, idx3, idx4]], num_classes = num_classes)\n",
    "    digits = np.sum(digits, axis=0)\n",
    "    digits_sum = np.sum(y_train[[idx1, idx2, idx3, idx4]])\n",
    "    return img, digits, digits_sum"
   ]
  },
  {
   "cell_type": "code",
   "execution_count": 6,
   "metadata": {},
   "outputs": [
    {
     "name": "stderr",
     "output_type": "stream",
     "text": [
      "100%|██████████| 15000/15000 [00:00<00:00, 21175.79it/s]\n"
     ]
    },
    {
     "data": {
      "text/plain": [
       "((15000, 56, 56), (15000, 10), (15000,))"
      ]
     },
     "execution_count": 6,
     "metadata": {},
     "output_type": "execute_result"
    }
   ],
   "source": [
    "num_images = 60000\n",
    "digits_per_image = 4\n",
    "imgs = []\n",
    "label1 = []\n",
    "label2 = []\n",
    "\n",
    "for batch in tqdm(range(num_images // digits_per_image)):\n",
    "    img, digits, digits_sum = make_example(X_train, y_train, batch)\n",
    "    imgs.append(img)\n",
    "    label1.append(digits)\n",
    "    label2.append(digits_sum)\n",
    "\n",
    "imgs = np.array(imgs)\n",
    "label1 = np.array(label1)\n",
    "label2 = np.array(label2)\n",
    "\n",
    "imgs.shape, label1.shape, label2.shape"
   ]
  },
  {
   "cell_type": "code",
   "execution_count": 7,
   "metadata": {},
   "outputs": [
    {
     "name": "stdout",
     "output_type": "stream",
     "text": [
      "Digits: [1. 0. 0. 0. 0. 0. 0. 1. 1. 1.]\n",
      "Digit Sum: 24\n"
     ]
    },
    {
     "data": {
      "image/png": "[encoded data removed]",
      "text/plain": [
       "<Figure size 432x288 with 1 Axes>"
      ]
     },
     "metadata": {
      "needs_background": "light"
     },
     "output_type": "display_data"
    }
   ],
   "source": [
    "idx = 0\n",
    "print('Digits:', label1[idx])\n",
    "print('Digit Sum:', label2[idx])\n",
    "plt.imshow(imgs[idx])\n",
    "plt.show()"
   ]
  },
  {
   "cell_type": "code",
   "execution_count": 8,
   "metadata": {},
   "outputs": [
    {
     "name": "stdout",
     "output_type": "stream",
     "text": [
      "Model: \"model\"\n",
      "__________________________________________________________________________________________________\n",
      " Layer (type)                   Output Shape         Param #     Connected to                     \n",
      "==================================================================================================\n",
      " input_1 (InputLayer)           [(None, 56, 56, 1)]  0           []                               \n",
      "                                                                                                  \n",
      " conv2d (Conv2D)                (None, 54, 54, 64)   640         ['input_1[0][0]']                \n",
      "                                                                                                  \n",
      " max_pooling2d (MaxPooling2D)   (None, 27, 27, 64)   0           ['conv2d[0][0]']                 \n",
      "                                                                                                  \n",
      " batch_normalization (BatchNorm  (None, 27, 27, 64)  256         ['max_pooling2d[0][0]']          \n",
      " alization)                                                                                       \n",
      "                                                                                                  \n",
      " dropout (Dropout)              (None, 27, 27, 64)   0           ['batch_normalization[0][0]']    \n",
      "                                                                                                  \n",
      " flatten (Flatten)              (None, 46656)        0           ['dropout[0][0]']                \n",
      "                                                                                                  \n",
      " dense (Dense)                  (None, 100)          4665700     ['flatten[0][0]']                \n",
      "                                                                                                  \n",
      " batch_normalization_1 (BatchNo  (None, 100)         400         ['dense[0][0]']                  \n",
      " rmalization)                                                                                     \n",
      "                                                                                                  \n",
      " dropout_1 (Dropout)            (None, 100)          0           ['batch_normalization_1[0][0]']  \n",
      "                                                                                                  \n",
      " classification (Dense)         (None, 10)           1010        ['dropout_1[0][0]']              \n",
      "                                                                                                  \n",
      " regression (Dense)             (None, 1)            101         ['dropout_1[0][0]']              \n",
      "                                                                                                  \n",
      "==================================================================================================\n",
      "Total params: 4,668,107\n",
      "Trainable params: 4,667,779\n",
      "Non-trainable params: 328\n",
      "__________________________________________________________________________________________________\n"
     ]
    },
    {
     "name": "stderr",
     "output_type": "stream",
     "text": [
      "2022-03-27 14:44:29.161051: I tensorflow/core/platform/cpu_feature_guard.cc:151] This TensorFlow binary is optimized with oneAPI Deep Neural Network Library (oneDNN) to use the following CPU instructions in performance-critical operations:  AVX2 FMA\n",
      "To enable them in other operations, rebuild TensorFlow with the appropriate compiler flags.\n"
     ]
    }
   ],
   "source": [
    "inp = Input(shape=(img_size, img_size, 1))\n",
    "x = Conv2D(64, kernel_size=(3,3), activation='relu')(inp)\n",
    "x = MaxPool2D(pool_size=(2,2))(x)\n",
    "x = BatchNormalization()(x)\n",
    "x = Dropout(0.25)(x)\n",
    "\n",
    "x = Flatten()(x)\n",
    "x = Dense(100, activation='relu')(x)\n",
    "x = BatchNormalization()(x)\n",
    "x = Dropout(0.5)(x)\n",
    "out1 = Dense(num_classes, activation='sigmoid', name='classification')(x)\n",
    "out2 = Dense(1, activation='relu', name='regression')(x)\n",
    "\n",
    "model = Model(inputs = inp, outputs = [out1, out2])\n",
    "model.summary()"
   ]
  },
  {
   "cell_type": "code",
   "execution_count": 9,
   "metadata": {},
   "outputs": [
    {
     "name": "stdout",
     "output_type": "stream",
     "text": [
      "Epoch 1/5\n",
      "12/12 [==============================] - 20s 2s/step - loss: 242.4154 - classification_loss: 0.9338 - regression_loss: 241.4816 - val_loss: 11109.4492 - val_classification_loss: 5.8328 - val_regression_loss: 11103.6162\n",
      "Epoch 2/5\n",
      "12/12 [==============================] - 19s 2s/step - loss: 198.3049 - classification_loss: 0.8302 - regression_loss: 197.4747 - val_loss: 2132.4333 - val_classification_loss: 2.1276 - val_regression_loss: 2130.3057\n",
      "Epoch 3/5\n",
      "12/12 [==============================] - 19s 2s/step - loss: 178.4510 - classification_loss: 0.7778 - regression_loss: 177.6731 - val_loss: 669.4128 - val_classification_loss: 1.2924 - val_regression_loss: 668.1204\n",
      "Epoch 4/5\n",
      "12/12 [==============================] - 18s 2s/step - loss: 161.4539 - classification_loss: 0.7474 - regression_loss: 160.7065 - val_loss: 316.8817 - val_classification_loss: 1.0965 - val_regression_loss: 315.7852\n",
      "Epoch 5/5\n",
      "12/12 [==============================] - 17s 1s/step - loss: 147.0352 - classification_loss: 0.7382 - regression_loss: 146.2970 - val_loss: 206.9346 - val_classification_loss: 1.2203 - val_regression_loss: 205.7143\n"
     ]
    }
   ],
   "source": [
    "loss_fn = {'classification':'binary_crossentropy', 'regression':'mean_squared_error'} \n",
    "model.compile(loss=loss_fn, optimizer=keras.optimizers.Adam())\n",
    "\n",
    "history = model.fit(imgs, [label1, label2], epochs = 5, shuffle = True, \n",
    "                    batch_size = 1024, validation_split = 0.2, verbose=1)"
   ]
  },
  {
   "cell_type": "code",
   "execution_count": 10,
   "metadata": {},
   "outputs": [],
   "source": [
    "def plotting(train_loss1, train_loss2, train_loss3, val_loss1, val_loss2, val_loss3):\n",
    "    plt.figure(figsize=(20,5))\n",
    "\n",
    "    plt.subplot(131)\n",
    "    plt.plot(train_loss1, label='Training')\n",
    "    plt.plot(val_loss1, label='Validation')\n",
    "    plt.title('Loss')\n",
    "    plt.legend()\n",
    "    \n",
    "    plt.subplot(132)\n",
    "    plt.plot(train_loss2, label='Training')\n",
    "    plt.plot(val_loss2, label='Validation')\n",
    "    plt.title('Classification Loss')\n",
    "    plt.legend()\n",
    "\n",
    "    plt.subplot(133)\n",
    "    plt.plot(train_loss3, label='Training')\n",
    "    plt.plot(val_loss3, label='Validation')\n",
    "    plt.title('Regression Loss')\n",
    "    plt.legend()\n",
    "    plt.show()"
   ]
  },
  {
   "cell_type": "code",
   "execution_count": 11,
   "metadata": {},
   "outputs": [
    {
     "data": {
      "image/png": "[encoded data removed]",
      "text/plain": [
       "<Figure size 1440x360 with 3 Axes>"
      ]
     },
     "metadata": {
      "needs_background": "light"
     },
     "output_type": "display_data"
    }
   ],
   "source": [
    "train_loss1 = history.history['loss']\n",
    "train_loss2 = history.history['classification_loss']\n",
    "train_loss3 = history.history['regression_loss']\n",
    "val_loss1 = history.history['val_loss']\n",
    "val_loss2 = history.history['val_classification_loss']\n",
    "val_loss3 = history.history['val_regression_loss']\n",
    "\n",
    "plotting(train_loss1, train_loss2, train_loss3, val_loss1, val_loss2, val_loss3)"
   ]
  },
  {
   "cell_type": "markdown",
   "metadata": {},
   "source": [
    "### Inference"
   ]
  },
  {
   "cell_type": "code",
   "execution_count": 12,
   "metadata": {},
   "outputs": [
    {
     "name": "stderr",
     "output_type": "stream",
     "text": [
      "100%|██████████| 2500/2500 [00:00<00:00, 16765.47it/s]\n"
     ]
    },
    {
     "data": {
      "text/plain": [
       "((2500, 56, 56), (2500, 10), (2500,))"
      ]
     },
     "execution_count": 12,
     "metadata": {},
     "output_type": "execute_result"
    }
   ],
   "source": [
    "num_images = 10000\n",
    "digits_per_image = 4\n",
    "test_imgs = []\n",
    "test_label1 = []\n",
    "test_label2 = []\n",
    "\n",
    "for batch in tqdm(range(num_images // digits_per_image)):\n",
    "    img, digits, digits_sum = make_example(X_test, y_test, batch)\n",
    "    test_imgs.append(img)\n",
    "    test_label1.append(digits)\n",
    "    test_label2.append(digits_sum)\n",
    "\n",
    "test_imgs = np.array(test_imgs)\n",
    "test_label1 = np.array(test_label1)\n",
    "test_label2 = np.array(test_label2)\n",
    "\n",
    "test_imgs.shape, test_label1.shape, test_label2.shape"
   ]
  },
  {
   "cell_type": "code",
   "execution_count": 13,
   "metadata": {},
   "outputs": [
    {
     "name": "stdout",
     "output_type": "stream",
     "text": [
      "Digits: [8 1 2 7]\n",
      "Digit Sum: 4.446935653686523\n"
     ]
    },
    {
     "data": {
      "image/png": "[encoded data removed]",
      "text/plain": [
       "<Figure size 432x288 with 1 Axes>"
      ]
     },
     "metadata": {
      "needs_background": "light"
     },
     "output_type": "display_data"
    }
   ],
   "source": [
    "idx = 56\n",
    "prediction = model.predict(np.expand_dims(test_imgs[idx], axis=0))\n",
    "\n",
    "digits = (np.argsort(np.squeeze(prediction[0]))+1)[:4]\n",
    "digit_sum = np.squeeze(prediction[1]).item()\n",
    "print('Digits:', digits)\n",
    "print('Digit Sum:', digit_sum)\n",
    "plt.imshow(test_imgs[idx])\n",
    "plt.show()"
   ]
  },
  {
   "cell_type": "markdown",
   "metadata": {},
   "source": [
    "### Final Notes:\n",
    "\n",
    "1. The network performs well on the classification task i.e. recognizing the digits. \n",
    "2. However, it performs poorly on regression task i.e. finding sum of digits. This is evident from the large variation in regression loss. \n",
    "    1. These results should improve with more training.\n",
    "    2. One can also try adding constraints in the optimization such that the digit sum can range from [0, 36] only, thereby making this a constrained optimization problem."
   ]
  },
  {
   "cell_type": "code",
   "execution_count": null,
   "metadata": {},
   "outputs": [],
   "source": []
  }
 ],
 "metadata": {
  "interpreter": {
   "hash": "951daa5e1959839fcb325fff331f52e72634f7a1be998f6081ed7f433b63f1b3"
  },
  "kernelspec": {
   "display_name": "Python 3.8.11 ('base')",
   "language": "python",
   "name": "python3"
  },
  "language_info": {
   "codemirror_mode": {
    "name": "ipython",
    "version": 3
   },
   "file_extension": ".py",
   "mimetype": "text/x-python",
   "name": "python",
   "nbconvert_exporter": "python",
   "pygments_lexer": "ipython3",
   "version": "3.8.11"
  },
  "orig_nbformat": 4
 },
 "nbformat": 4,
 "nbformat_minor": 2
}
