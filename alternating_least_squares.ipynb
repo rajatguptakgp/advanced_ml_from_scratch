{
 "cells": [
  {
   "cell_type": "code",
   "execution_count": 1,
   "metadata": {},
   "outputs": [],
   "source": [
    "import numpy as np\n",
    "import pandas as pd\n",
    "import matplotlib.pyplot as plt\n",
    "from sklearn.model_selection import train_test_split"
   ]
  },
  {
   "cell_type": "markdown",
   "metadata": {},
   "source": [
    "### Alternating Least Squares (ALS) \n",
    "#### Reference: [Document](http://stanford.edu/~rezab/classes/cme323/S15/notes/lec14.pdf)\n",
    "\n",
    "We are familiar with the matrix factorization approaches used in Recommendation Systems, where we try to factorize the ratings matrix (user indices as rows, item indices as columns and ratings as values) into two matrices representing user and item embeddings with a number of latent factors. Our objective is to minimize the reconstruction error between ratings matrix and low-rank approximation of it. Some of the ways by which we can learn this matrix is with Gradient Descent or Singular Value Decomposition.\n",
    "\n",
    "The loss/cost function in the case of Gradient Descent is given by:\n",
    "\n",
    "\\begin{equation}\n",
    "\\min _{X, Y} \\sum_{r_{u i} \\text { observed }}\\left(r_{u i}-x_{u}^{\\top} y_{i}\\right)^{2}+\\lambda\\left(\\sum_{u}\\left\\|x_{u}\\right\\|^{2}+\\sum_{i}\\left\\|y_{i}\\right\\|^{2}\\right)\n",
    "\\end{equation}\n",
    "\n",
    "However, the above cost function is non-convex because of the term: \n",
    "\\begin{equation}\n",
    "x_{u}^{T} y_{i}\n",
    "\\end{equation}\n",
    "\n",
    "And so, Gradient Descent might get stuck in local optima. However, if we fix $X$ and optimize for $Y$ only (and vice versa), then the function becomes convex. So our approach will be to fix X first and optimize for Y, and then fix Y and optimize for X. Hence, the term **Alternating Least Squares (ALS)**."
   ]
  },
  {
   "cell_type": "markdown",
   "metadata": {},
   "source": [
    "### Algorithm:\n",
    "\n",
    "Initialize $X, Y$\n",
    "repeat\n",
    "for $u=1 \\ldots n$ do\n",
    "$$\n",
    "x_{u}=\\left(\\sum_{r_{u i} \\in r_{u *}} y_{i} y_{i}^{\\top}+\\lambda I_{k}\\right)^{-1} \\sum_{r_{u i} \\in r_{u *}} r_{u i} y_{i}\n",
    "$$\n",
    "end for\n",
    "for $i=1 \\ldots m$ do\n",
    "$$\n",
    "y_{i}=\\left(\\sum_{r_{u i} \\in r_{* i}} x_{u} x_{u}^{\\top}+\\lambda I_{k}\\right)^{-1} \\sum_{r_{u i} \\in r_{* i}} r_{u i} x_{u}\n",
    "$$\n",
    "end for\n",
    "until convergence"
   ]
  },
  {
   "cell_type": "markdown",
   "metadata": {},
   "source": [
    "### Limitation\n",
    "\n",
    "Computing the dot product between $X$ and $Y$ is costly with computational cost $O(nmk)$ where: \n",
    "1. $n$ stands for number of users\n",
    "2. $m$ stands for number of movies\n",
    "3. $k$ stands for number of latent factors"
   ]
  },
  {
   "cell_type": "code",
   "execution_count": null,
   "metadata": {},
   "outputs": [],
   "source": [
    "# # download ML1M dataset\n",
    "# !wget https://files.grouplens.org/datasets/movielens/ml-1m.zip\n",
    "# !unzip ml-1m.zip"
   ]
  },
  {
   "cell_type": "code",
   "execution_count": 2,
   "metadata": {},
   "outputs": [],
   "source": [
    "# preprocessing movies data\n",
    "with open('ml-1m/movies.dat','r', encoding=\"ISO-8859-1\") as f:\n",
    "    data = f.read().splitlines()\n",
    "\n",
    "data = list(map(lambda x: x.split('::'), data))\n",
    "movies_df = pd.DataFrame(data, columns = ['movieID','title','genres'])\n",
    "movies_df['movieID'] = movies_df['movieID'].astype('int')"
   ]
  },
  {
   "cell_type": "code",
   "execution_count": 3,
   "metadata": {},
   "outputs": [],
   "source": [
    "# preprocessing ratings data\n",
    "with open('ml-1m/ratings.dat','r', encoding=\"ISO-8859-1\") as f:\n",
    "    data = f.read().splitlines()\n",
    "\n",
    "data = list(map(lambda x: x.split('::'), data))\n",
    "ratings_df = pd.DataFrame(data, columns = ['userID','movieID','rating','timestamp'])\n",
    "ratings_df[['userID','movieID','rating']] = ratings_df[['userID','movieID','rating']].astype('int')"
   ]
  },
  {
   "cell_type": "code",
   "execution_count": 4,
   "metadata": {},
   "outputs": [
    {
     "data": {
      "text/plain": [
       "((900188, 4), (100021, 4))"
      ]
     },
     "execution_count": 4,
     "metadata": {},
     "output_type": "execute_result"
    }
   ],
   "source": [
    "# splitting data into train and validation set \n",
    "ratings_df, ratings_val = train_test_split(ratings_df, test_size=0.1, random_state=42)\n",
    "ratings_df.shape, ratings_val.shape"
   ]
  },
  {
   "cell_type": "code",
   "execution_count": 5,
   "metadata": {},
   "outputs": [],
   "source": [
    "def get_users_movies(df):\n",
    "    users_list = df['userID'].unique().tolist()\n",
    "    movies_list = df['movieID'].unique().tolist()\n",
    "    n_users = len(users_list)\n",
    "    n_movies = len(movies_list)\n",
    "    \n",
    "    print('Number of Users:', n_users) \n",
    "    print('Number of Movies:', n_movies)\n",
    "    return users_list, movies_list, n_users, n_movies\n",
    "\n",
    "def get_sample(df, users_list, movies_list, sample_user_pct, sample_movie_pct):\n",
    "    n_users_sample = int(sample_user_pct * len(users_list))\n",
    "    n_movies_sample = int(sample_movie_pct * len(movies_list))\n",
    "\n",
    "    np.random.shuffle(users_list)\n",
    "    np.random.shuffle(movies_list)\n",
    "\n",
    "    sample_users = users_list[:n_users_sample]\n",
    "    sample_movies = movies_list[:n_movies_sample]\n",
    "\n",
    "    df = df[df.userID.isin(sample_users)]\n",
    "    df = df[df.movieID.isin(sample_movies)]\n",
    "    df = df.reset_index(drop=True)\n",
    "    return df"
   ]
  },
  {
   "cell_type": "code",
   "execution_count": 6,
   "metadata": {},
   "outputs": [
    {
     "name": "stdout",
     "output_type": "stream",
     "text": [
      "Number of Users: 6040\n",
      "Number of Movies: 3694\n",
      "\n",
      "Sample: \n",
      "Number of Users: 1208\n",
      "Number of Movies: 711\n"
     ]
    }
   ],
   "source": [
    "users_list, movies_list, n_users, n_movies = get_users_movies(ratings_df)\n",
    "\n",
    "sample_user_pct = 0.2\n",
    "sample_movie_pct = 0.2\n",
    "ratings_df = get_sample(ratings_df, users_list, movies_list, sample_user_pct, sample_movie_pct)\n",
    "print('\\nSample: ')\n",
    "users_list, movies_list, n_users, n_movies = get_users_movies(ratings_df)"
   ]
  },
  {
   "cell_type": "code",
   "execution_count": 7,
   "metadata": {},
   "outputs": [],
   "source": [
    "# relabelling userIDs\n",
    "userID2idx = dict(zip(users_list, range(n_users)))\n",
    "idx2userID = {v:k for k, v in userID2idx.items()}\n",
    "ratings_df['userID'].replace(userID2idx, inplace=True)\n",
    "\n",
    "# relabelling movieIDs\n",
    "movieID2idx = dict(zip(movies_list, range(n_movies)))\n",
    "idx2movieID = {v:k for k, v in movieID2idx.items()}\n",
    "movieID2name = dict(zip(movies_df['movieID'].values, movies_df['title'].values))\n",
    "ratings_df['movieID'].replace(movieID2idx, inplace=True)"
   ]
  },
  {
   "cell_type": "code",
   "execution_count": 8,
   "metadata": {},
   "outputs": [],
   "source": [
    "def get_ratings_mat(ratings_df):\n",
    "    # mapping users to their rated movies\n",
    "    interaction_dict = dict(ratings_df.groupby('userID')['movieID'].apply(lambda x: np.array(x)))\n",
    "    # mapping users to their ratings\n",
    "    ratings_dict = dict(ratings_df.groupby('userID')['rating'].apply(lambda x: np.array(x)))\n",
    "    ratings_mat = np.zeros((n_users, n_movies), dtype='int')\n",
    "    \n",
    "    for userID, movieIDs in interaction_dict.items():        \n",
    "        # highlight rating\n",
    "        ratings_mat[userID, movieIDs] = ratings_dict[userID]\n",
    "    return ratings_mat"
   ]
  },
  {
   "cell_type": "code",
   "execution_count": 9,
   "metadata": {},
   "outputs": [],
   "source": [
    "lamda = 0.5\n",
    "n_latent = 50\n",
    "eps = 1E-1"
   ]
  },
  {
   "cell_type": "code",
   "execution_count": 10,
   "metadata": {},
   "outputs": [],
   "source": [
    "def loss_fn(P, Q, R, lamda):\n",
    "    return np.sum(np.square(R - P.T @ Q)) + lamda * (np.sum(np.square(P)) + np.sum(np.square(Q)))\n",
    "\n",
    "def run_iteration(P, Q, lamda):\n",
    "    # keeping movie embeddings constant\n",
    "    for u in range(n_users):\n",
    "        rated_movie_idxs = np.nonzero(R[u, :])[0]\n",
    "        A = sum(map(lambda x: np.outer(Q[:, x], Q[:, x]), rated_movie_idxs)) + lamda * np.identity(n_latent)\n",
    "        B = sum(map(lambda x: R[u, x] * Q[:, x], rated_movie_idxs))\n",
    "        P[:, u] = np.linalg.inv(A) @ B\n",
    "\n",
    "    # keeping user embeddings constant\n",
    "    for v in range(n_movies):\n",
    "        rated_users_idxs = np.nonzero(R[:, v])[0]\n",
    "        A = sum(map(lambda x: np.outer(P[:, x], P[:, x]), rated_users_idxs)) + lamda * np.identity(n_latent)\n",
    "        B = sum(map(lambda x: R[x, v] * P[:, x], rated_users_idxs))\n",
    "        Q[:, v] = np.linalg.inv(A) @ B\n",
    "    return P, Q"
   ]
  },
  {
   "cell_type": "code",
   "execution_count": 11,
   "metadata": {},
   "outputs": [
    {
     "name": "stdout",
     "output_type": "stream",
     "text": [
      "Iteration: 10 | Cost: 5030677.18\n",
      "Iteration: 20 | Cost: 5141733.99\n",
      "Iteration: 30 | Cost: 5168718.68\n",
      "Iteration: 40 | Cost: 5168777.58\n",
      "Iteration: 50 | Cost: 5162455.88\n",
      "Iteration: 60 | Cost: 5156074.56\n",
      "Iteration: 70 | Cost: 5150138.91\n",
      "Iteration: 80 | Cost: 5145180.77\n",
      "Iteration: 90 | Cost: 5141126.37\n",
      "Iteration: 100 | Cost: 5137608.07\n",
      "Iteration: 110 | Cost: 5134618.17\n",
      "Iteration: 120 | Cost: 5132297.83\n",
      "Iteration: 130 | Cost: 5130666.69\n",
      "Iteration: 140 | Cost: 5129587.13\n",
      "Iteration: 150 | Cost: 5128857.91\n",
      "Iteration: 160 | Cost: 5128317.64\n",
      "Iteration: 170 | Cost: 5127889.66\n",
      "Iteration: 180 | Cost: 5127565.54\n",
      "Iteration: 190 | Cost: 5127365.7\n",
      "Iteration: 200 | Cost: 5127310.63\n",
      "Iteration: 210 | Cost: 5127409.37\n",
      "Iteration: 220 | Cost: 5127657.83\n",
      "Iteration: 230 | Cost: 5128041.46\n",
      "Iteration: 240 | Cost: 5128540.57\n",
      "Iteration: 250 | Cost: 5129135.64\n",
      "Iteration: 260 | Cost: 5129808.51\n",
      "Iteration: 270 | Cost: 5130539.2\n",
      "Iteration: 280 | Cost: 5131301.56\n",
      "Iteration: 290 | Cost: 5132061.81\n",
      "Iteration: 300 | Cost: 5132782.09\n",
      "Iteration: 310 | Cost: 5133427.67\n",
      "Iteration: 320 | Cost: 5133975.04\n",
      "Iteration: 330 | Cost: 5134417.33\n",
      "Iteration: 340 | Cost: 5134764.76\n",
      "Iteration: 350 | Cost: 5135039.9\n",
      "Iteration: 360 | Cost: 5135269.51\n",
      "Iteration: 370 | Cost: 5135476.22\n"
     ]
    }
   ],
   "source": [
    "R = get_ratings_mat(ratings_df)\n",
    "assert R.shape == (n_users, n_movies)\n",
    "\n",
    "P_init = np.random.normal(size=(n_latent, n_users))\n",
    "Q_init = np.random.normal(size=(n_latent, n_movies))\n",
    "\n",
    "P = P_init\n",
    "Q = Q_init\n",
    "P_prev = P_init + 1\n",
    "Q_prev = Q_init + 1\n",
    "costs = []\n",
    "n_iter = 0\n",
    "\n",
    "while (np.linalg.norm(P-P_prev) > eps) and (np.linalg.norm(Q-Q_prev) > eps):\n",
    "    P_prev = P.copy()\n",
    "    Q_prev = Q.copy()\n",
    "    P, Q = run_iteration(P, Q, lamda)\n",
    "    cost = loss_fn(P, Q, R, lamda)\n",
    "    costs.append(cost)\n",
    "    n_iter += 1\n",
    "\n",
    "    if n_iter % 10 == 0:\n",
    "        print(f'Iteration: {n_iter} | Cost: {cost.round(2)}')"
   ]
  },
  {
   "cell_type": "code",
   "execution_count": 12,
   "metadata": {},
   "outputs": [
    {
     "data": {
      "image/png": "[encoded data removed]",
      "text/plain": [
       "<Figure size 432x288 with 1 Axes>"
      ]
     },
     "metadata": {
      "needs_background": "light"
     },
     "output_type": "display_data"
    }
   ],
   "source": [
    "plt.plot(costs)\n",
    "plt.show()"
   ]
  },
  {
   "cell_type": "code",
   "execution_count": 13,
   "metadata": {},
   "outputs": [],
   "source": [
    "ratings_val['userID'].replace(userID2idx, inplace=True)\n",
    "ratings_val['movieID'].replace(movieID2idx, inplace=True)\n",
    "\n",
    "val_users = ratings_val['userID'].values\n",
    "val_movies = ratings_val['movieID'].values\n",
    "val_users = list(set(val_users).intersection(users_list))\n",
    "val_movies = list(set(val_movies).intersection(movies_list))\n",
    "\n",
    "ratings_val = ratings_val[ratings_val['userID'].isin(val_users) & ratings_val['movieID'].isin(val_movies)].reset_index(drop=True)"
   ]
  },
  {
   "cell_type": "code",
   "execution_count": 16,
   "metadata": {},
   "outputs": [],
   "source": [
    "R_val = get_ratings_mat(ratings_val)\n",
    "R_val = R_val[val_users][:, val_movies]\n",
    "R_pred = P.T @ Q\n",
    "R_pred = R_pred[val_users][:, val_movies]\n",
    "assert R_val.shape == R_pred.shape"
   ]
  },
  {
   "cell_type": "code",
   "execution_count": null,
   "metadata": {},
   "outputs": [],
   "source": []
  }
 ],
 "metadata": {
  "interpreter": {
   "hash": "951daa5e1959839fcb325fff331f52e72634f7a1be998f6081ed7f433b63f1b3"
  },
  "kernelspec": {
   "display_name": "Python 3.8.11 ('base')",
   "language": "python",
   "name": "python3"
  },
  "language_info": {
   "codemirror_mode": {
    "name": "ipython",
    "version": 3
   },
   "file_extension": ".py",
   "mimetype": "text/x-python",
   "name": "python",
   "nbconvert_exporter": "python",
   "pygments_lexer": "ipython3",
   "version": "3.8.11"
  },
  "orig_nbformat": 4
 },
 "nbformat": 4,
 "nbformat_minor": 2
}
