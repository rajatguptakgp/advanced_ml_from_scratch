{
 "cells": [
  {
   "cell_type": "code",
   "execution_count": 1,
   "metadata": {},
   "outputs": [],
   "source": [
    "import os\n",
    "import numpy as np\n",
    "import pandas as pd\n",
    "import matplotlib.pyplot as plt\n",
    "from tqdm import tqdm\n",
    "import json\n",
    "from sklearn.model_selection import train_test_split\n",
    "\n",
    "import scipy.sparse as sp\n",
    "from sklearn.feature_extraction.text import TfidfVectorizer\n",
    "from sklearn.linear_model import LogisticRegression\n",
    "from sklearn.metrics import accuracy_score\n",
    "\n",
    "from tensorflow import keras\n",
    "from keras.layers import Input, BatchNormalization, Dropout, Dense, Subtract\n",
    "from keras.models import Model, Sequential\n",
    "from tensorflow.keras.utils import plot_model\n",
    "\n",
    "os.environ[\"TOKENIZERS_PARALLELISM\"] = \"false\""
   ]
  },
  {
   "cell_type": "code",
   "execution_count": 2,
   "metadata": {},
   "outputs": [
    {
     "name": "stderr",
     "output_type": "stream",
     "text": [
      "Some weights of the model checkpoint at bert-base-uncased were not used when initializing BertModel: ['cls.predictions.transform.LayerNorm.weight', 'cls.predictions.transform.dense.bias', 'cls.predictions.transform.LayerNorm.bias', 'cls.predictions.decoder.weight', 'cls.seq_relationship.bias', 'cls.predictions.bias', 'cls.predictions.transform.dense.weight', 'cls.seq_relationship.weight']\n",
      "- This IS expected if you are initializing BertModel from the checkpoint of a model trained on another task or with another architecture (e.g. initializing a BertForSequenceClassification model from a BertForPreTraining model).\n",
      "- This IS NOT expected if you are initializing BertModel from the checkpoint of a model that you expect to be exactly identical (initializing a BertForSequenceClassification model from a BertForSequenceClassification model).\n"
     ]
    }
   ],
   "source": [
    "from transformers import AutoTokenizer\n",
    "from transformers import BertModel\n",
    "\n",
    "bert = BertModel.from_pretrained('bert-base-uncased')\n",
    "tokenizer = AutoTokenizer.from_pretrained(\"bert-base-uncased\")"
   ]
  },
  {
   "cell_type": "markdown",
   "metadata": {},
   "source": [
    "### Learning To Rank (LTR)\n",
    "\n",
    "The idea, as name suggests, is to make a model that can learn to rank data. Given a query $q$ and set of Documents $D$, the task is to rank these documents in order of relevance. There are different methods for LTR:\n",
    "\n",
    "1. **Pointwise LTR:** In this method, we are given with query, document and relevance in form of score. Under this scenario, we can an ordinal regression or classification model since we are given with explicit relevance scores.\n",
    "    1. Advantages: Simple model\n",
    "    2. Limitations: \n",
    "        1. Requires explicit relevance scores which might not be available every time.\n",
    "        2. Does not exploit the information of how documents relevant to a query are related.\n",
    "2. **Pairwise LTR:** Requires data to be pairwise combinations of documents relevant to a query with a binary label indicating whether $D1$ is more/less relevant to $D2$. Pairwise combinations of documents pertaining to query only are considered. The model learns to score a document $D1$ higher than other document $D2$ if $D1$ more relevant than $D2$.\n",
    "    1. Advantages: Learns to rank given two documents\n",
    "    2. Limitations: Although pairwise relevance, it still does not fully exploit the information of how documents relevant to a query are related. All the documents pertaining to a query are related in the sense that there is a unique order of relevance between them.\n",
    "3. **Listwise LTR:** Ideal form of LTR where given a query $q$, ranks the pertaining set of documents $D$ together. Methods include: LambdaNet, LambdaMART."
   ]
  },
  {
   "cell_type": "code",
   "execution_count": 3,
   "metadata": {},
   "outputs": [],
   "source": [
    "embedding_dim = 768\n",
    "learning_rate = 1E-6\n",
    "n_epochs = 100\n",
    "batch_size = 16\n",
    "\n",
    "save_embeddings = False"
   ]
  },
  {
   "cell_type": "markdown",
   "metadata": {},
   "source": [
    "We will look at two methods of LTR:\n",
    "1. **Pointwise LTR:** Classification task\n",
    "2. **Pairwise LTR:** RankNet - LTR using Gradient Descent"
   ]
  },
  {
   "cell_type": "code",
   "execution_count": 4,
   "metadata": {},
   "outputs": [],
   "source": [
    "def process_data(path, filename, output_format = 'dict'):\n",
    "    with open(path + filename) as file:\n",
    "        data = file.read().splitlines()\n",
    "\n",
    "    if output_format == 'dict':\n",
    "        data = dict(map(lambda x: x.split('\\t'), data))    \n",
    "    else:\n",
    "        data = list(map(lambda x: x.split('\\t'), data)) \n",
    "    return data"
   ]
  },
  {
   "cell_type": "code",
   "execution_count": 5,
   "metadata": {},
   "outputs": [],
   "source": [
    "path = 'nfcorpus/'\n",
    "docs = process_data(path, 'train.docs')\n",
    "queries = process_data(path, 'train.all.queries')  \n",
    "\n",
    "orig_data = process_data(path, 'train.2-1-0.qrel', output_format = 'list')\n",
    "orig_data = pd.DataFrame(orig_data, columns = ['query_id', '0', 'doc_id', 'relevance_level'])\n",
    "orig_data.drop(columns = '0', inplace=True)"
   ]
  },
  {
   "cell_type": "markdown",
   "metadata": {},
   "source": [
    "### RankNet\n",
    "\n",
    "In this method, given data in form of <D1, D2, Y> where Y (Target Variable) is 1 if D1 is more relevant than D2, 0 otherwise, our task is to model the NN such that it scores D1 higher than D2 if D1 is more relevant than D2. \n",
    "\n",
    "Mathematically, if $s1 = f(D1)$ and $s2 = f(D2)$, $s1 > s2$ if Y = 1.\n",
    "\n",
    "This can be achived using logistic function of $s1 - s2$ as $\\hat{y} = \\frac{1}{1 + e^{s1 - s2}}$ approaches 1 as $s1 - s2$ increases."
   ]
  },
  {
   "cell_type": "code",
   "execution_count": 6,
   "metadata": {},
   "outputs": [],
   "source": [
    "def get_training_data(data):\n",
    "    data = data.groupby(['query_id', 'relevance_level'])['doc_id'].first().reset_index()\n",
    "\n",
    "    # self-join\n",
    "    data_merged = pd.merge(data, data, on='query_id')\n",
    "    \n",
    "    # considering document pairs with different relevance levels\n",
    "    data_merged = data_merged[data_merged['relevance_level_x'] > data_merged['relevance_level_y']].reset_index(drop=True)\n",
    "    doc_pairs = data_merged[['doc_id_x', 'doc_id_y']].values\n",
    "\n",
    "    # randomizing document pairs\n",
    "    num_docs = len(doc_pairs)\n",
    "    idxs = np.arange(num_docs)\n",
    "    idxs1 = np.random.choice(idxs, int(0.5 * num_docs), replace=False)\n",
    "    idxs2 = np.delete(idxs, idxs1)\n",
    "\n",
    "    d1 = doc_pairs[idxs1][:, [0,1]]\n",
    "    d2 = doc_pairs[idxs2][:, [1,0]]\n",
    "    X = np.vstack((d1, d2))\n",
    "\n",
    "    # y = 1, if 1st document is more relevant than 2nd document\n",
    "    # y = 0, otherwise\n",
    "    y = np.array([1] * len(d1) + [0] * len(d2))\n",
    "    return X, y, data_merged"
   ]
  },
  {
   "cell_type": "code",
   "execution_count": 7,
   "metadata": {},
   "outputs": [],
   "source": [
    "def get_sent_embedding(sent):\n",
    "    encoded_input = tokenizer(sent, padding=True, truncation=True, return_tensors='pt')\n",
    "    output = bert(encoded_input['input_ids'])\n",
    "    sent_embedding = output['pooler_output'].detach().numpy()    \n",
    "    return sent_embedding.ravel().tolist()    \n",
    "\n",
    "def get_embedding_dict(data_merged, save_embeddings):\n",
    "    if save_embeddings:\n",
    "        embedding_dict = {}\n",
    "\n",
    "        all_doc_ids = list(set(data_merged['doc_id_x'].values).union(set(data_merged['doc_id_y'].values)))\n",
    "        for doc_id in tqdm(all_doc_ids, total = len(all_doc_ids)):\n",
    "            embedding_dict[doc_id] = get_sent_embedding(docs[doc_id])\n",
    "\n",
    "        with open('embedding_dict.json', 'w') as file:\n",
    "            json.dump(embedding_dict, file)    \n",
    "\n",
    "    else:\n",
    "        with open('embedding_dict.json') as file:\n",
    "            embedding_dict = json.load(file)\n",
    "    return embedding_dict    "
   ]
  },
  {
   "cell_type": "code",
   "execution_count": 8,
   "metadata": {},
   "outputs": [],
   "source": [
    "X, y, data_merged = get_training_data(orig_data)\n",
    "\n",
    "embedding_dict = get_embedding_dict(data_merged, save_embeddings)\n",
    "\n",
    "inp1 = np.array(list(map(lambda x: embedding_dict[x], X[:, 0])))\n",
    "inp2 = np.array(list(map(lambda x: embedding_dict[x], X[:, 1])))"
   ]
  },
  {
   "cell_type": "code",
   "execution_count": 9,
   "metadata": {},
   "outputs": [],
   "source": [
    "def projection(embedding_dim):\n",
    "    model = Sequential()\n",
    "    model.add(Dense(256, activation='relu'))\n",
    "    model.add(Dense(64, activation='relu'))\n",
    "    # model.add(Dropout(0.25))\n",
    "    model.add(BatchNormalization())\n",
    "    model.add(Dense(16, activation='relu'))\n",
    "    model.add(Dense(1))\n",
    "    model.build(input_shape = (None, embedding_dim))\n",
    "    return model"
   ]
  },
  {
   "cell_type": "code",
   "execution_count": 10,
   "metadata": {},
   "outputs": [
    {
     "name": "stdout",
     "output_type": "stream",
     "text": [
      "Model: \"model\"\n",
      "__________________________________________________________________________________________________\n",
      " Layer (type)                   Output Shape         Param #     Connected to                     \n",
      "==================================================================================================\n",
      " input_1 (InputLayer)           [(None, 768)]        0           []                               \n",
      "                                                                                                  \n",
      " input_2 (InputLayer)           [(None, 768)]        0           []                               \n",
      "                                                                                                  \n",
      " sequential (Sequential)        (None, 1)            214625      ['input_1[0][0]',                \n",
      "                                                                  'input_2[0][0]']                \n",
      "                                                                                                  \n",
      " subtract (Subtract)            (None, 1)            0           ['sequential[0][0]',             \n",
      "                                                                  'sequential[1][0]']             \n",
      "                                                                                                  \n",
      " dense_4 (Dense)                (None, 2)            4           ['subtract[0][0]']               \n",
      "                                                                                                  \n",
      "==================================================================================================\n",
      "Total params: 214,629\n",
      "Trainable params: 214,501\n",
      "Non-trainable params: 128\n",
      "__________________________________________________________________________________________________\n"
     ]
    },
    {
     "name": "stderr",
     "output_type": "stream",
     "text": [
      "2022-05-29 04:52:19.898487: I tensorflow/core/platform/cpu_feature_guard.cc:151] This TensorFlow binary is optimized with oneAPI Deep Neural Network Library (oneDNN) to use the following CPU instructions in performance-critical operations:  AVX2 FMA\n",
      "To enable them in other operations, rebuild TensorFlow with the appropriate compiler flags.\n"
     ]
    }
   ],
   "source": [
    "e1 = Input(shape = (embedding_dim))\n",
    "e2 = Input(shape = (embedding_dim))\n",
    "\n",
    "proj_model = projection(embedding_dim)\n",
    "s1 = proj_model(e1)\n",
    "s2 = proj_model(e2)\n",
    "\n",
    "diff = Subtract()([s1, s2])\n",
    "prob = Dense(2, activation='sigmoid')(diff)\n",
    "\n",
    "# final model\n",
    "model = Model(inputs = [e1, e2], outputs = prob)\n",
    "model.summary()"
   ]
  },
  {
   "cell_type": "code",
   "execution_count": 11,
   "metadata": {},
   "outputs": [
    {
     "data": {
      "image/png": "[encoded data removed]",
      "text/plain": [
       "<IPython.core.display.Image object>"
      ]
     },
     "execution_count": 11,
     "metadata": {},
     "output_type": "execute_result"
    }
   ],
   "source": [
    "plot_model(model, show_shapes=True, show_layer_names=True)"
   ]
  },
  {
   "cell_type": "code",
   "execution_count": 12,
   "metadata": {},
   "outputs": [
    {
     "name": "stdout",
     "output_type": "stream",
     "text": [
      "Epoch 1/100\n",
      "42/42 [==============================] - 1s 6ms/step - loss: 0.9202 - val_loss: 0.7494\n",
      "Epoch 2/100\n",
      "42/42 [==============================] - 0s 3ms/step - loss: 0.8670 - val_loss: 0.7631\n",
      "Epoch 3/100\n",
      "42/42 [==============================] - 0s 2ms/step - loss: 0.8612 - val_loss: 0.7788\n",
      "Epoch 4/100\n",
      "42/42 [==============================] - 0s 3ms/step - loss: 0.8559 - val_loss: 0.8055\n",
      "Epoch 5/100\n",
      "42/42 [==============================] - 0s 2ms/step - loss: 0.8233 - val_loss: 0.8336\n",
      "Epoch 6/100\n",
      "42/42 [==============================] - 0s 2ms/step - loss: 0.8121 - val_loss: 0.8580\n",
      "Epoch 7/100\n",
      "42/42 [==============================] - 0s 2ms/step - loss: 0.8011 - val_loss: 0.8760\n",
      "Epoch 8/100\n",
      "42/42 [==============================] - 0s 2ms/step - loss: 0.7994 - val_loss: 0.8811\n",
      "Epoch 9/100\n",
      "42/42 [==============================] - 0s 2ms/step - loss: 0.8070 - val_loss: 0.8849\n",
      "Epoch 10/100\n",
      "42/42 [==============================] - 0s 2ms/step - loss: 0.7990 - val_loss: 0.8802\n",
      "Epoch 11/100\n",
      "42/42 [==============================] - 0s 2ms/step - loss: 0.7791 - val_loss: 0.8788\n",
      "Epoch 12/100\n",
      "42/42 [==============================] - 0s 2ms/step - loss: 0.7718 - val_loss: 0.8738\n",
      "Epoch 13/100\n",
      "42/42 [==============================] - 0s 2ms/step - loss: 0.7785 - val_loss: 0.8691\n",
      "Epoch 14/100\n",
      "42/42 [==============================] - 0s 2ms/step - loss: 0.7644 - val_loss: 0.8659\n",
      "Epoch 15/100\n",
      "42/42 [==============================] - 0s 2ms/step - loss: 0.7726 - val_loss: 0.8675\n",
      "Epoch 16/100\n",
      "42/42 [==============================] - 0s 2ms/step - loss: 0.7707 - val_loss: 0.8671\n",
      "Epoch 17/100\n",
      "42/42 [==============================] - 0s 2ms/step - loss: 0.7658 - val_loss: 0.8662\n",
      "Epoch 18/100\n",
      "42/42 [==============================] - 0s 2ms/step - loss: 0.7550 - val_loss: 0.8651\n",
      "Epoch 19/100\n",
      "42/42 [==============================] - 0s 2ms/step - loss: 0.7520 - val_loss: 0.8631\n",
      "Epoch 20/100\n",
      "42/42 [==============================] - 0s 2ms/step - loss: 0.7482 - val_loss: 0.8597\n",
      "Epoch 21/100\n",
      "42/42 [==============================] - 0s 2ms/step - loss: 0.7492 - val_loss: 0.8604\n",
      "Epoch 22/100\n",
      "42/42 [==============================] - 0s 2ms/step - loss: 0.7613 - val_loss: 0.8594\n",
      "Epoch 23/100\n",
      "42/42 [==============================] - 0s 2ms/step - loss: 0.7332 - val_loss: 0.8553\n",
      "Epoch 24/100\n",
      "42/42 [==============================] - 0s 2ms/step - loss: 0.7506 - val_loss: 0.8546\n",
      "Epoch 25/100\n",
      "42/42 [==============================] - 0s 2ms/step - loss: 0.7555 - val_loss: 0.8520\n",
      "Epoch 26/100\n",
      "42/42 [==============================] - 0s 2ms/step - loss: 0.7483 - val_loss: 0.8539\n",
      "Epoch 27/100\n",
      "42/42 [==============================] - 0s 2ms/step - loss: 0.7487 - val_loss: 0.8523\n",
      "Epoch 28/100\n",
      "42/42 [==============================] - 0s 2ms/step - loss: 0.7315 - val_loss: 0.8500\n",
      "Epoch 29/100\n",
      "42/42 [==============================] - 0s 2ms/step - loss: 0.7395 - val_loss: 0.8502\n",
      "Epoch 30/100\n",
      "42/42 [==============================] - 0s 2ms/step - loss: 0.7257 - val_loss: 0.8499\n",
      "Epoch 31/100\n",
      "42/42 [==============================] - 0s 2ms/step - loss: 0.7202 - val_loss: 0.8503\n",
      "Epoch 32/100\n",
      "42/42 [==============================] - 0s 2ms/step - loss: 0.7330 - val_loss: 0.8508\n",
      "Epoch 33/100\n",
      "42/42 [==============================] - 0s 2ms/step - loss: 0.7222 - val_loss: 0.8514\n",
      "Epoch 34/100\n",
      "42/42 [==============================] - 0s 2ms/step - loss: 0.7178 - val_loss: 0.8489\n",
      "Epoch 35/100\n",
      "42/42 [==============================] - 0s 2ms/step - loss: 0.7281 - val_loss: 0.8462\n",
      "Epoch 36/100\n",
      "42/42 [==============================] - 0s 2ms/step - loss: 0.7367 - val_loss: 0.8456\n",
      "Epoch 37/100\n",
      "42/42 [==============================] - 0s 2ms/step - loss: 0.7310 - val_loss: 0.8431\n",
      "Epoch 38/100\n",
      "42/42 [==============================] - 0s 2ms/step - loss: 0.7253 - val_loss: 0.8446\n",
      "Epoch 39/100\n",
      "42/42 [==============================] - 0s 2ms/step - loss: 0.7246 - val_loss: 0.8426\n",
      "Epoch 40/100\n",
      "42/42 [==============================] - 0s 2ms/step - loss: 0.7219 - val_loss: 0.8390\n",
      "Epoch 41/100\n",
      "42/42 [==============================] - 0s 2ms/step - loss: 0.7333 - val_loss: 0.8425\n",
      "Epoch 42/100\n",
      "42/42 [==============================] - 0s 2ms/step - loss: 0.7318 - val_loss: 0.8422\n",
      "Epoch 43/100\n",
      "42/42 [==============================] - 0s 2ms/step - loss: 0.7119 - val_loss: 0.8388\n",
      "Epoch 44/100\n",
      "42/42 [==============================] - 0s 3ms/step - loss: 0.7297 - val_loss: 0.8387\n",
      "Epoch 45/100\n",
      "42/42 [==============================] - 0s 2ms/step - loss: 0.7205 - val_loss: 0.8368\n",
      "Epoch 46/100\n",
      "42/42 [==============================] - 0s 2ms/step - loss: 0.7278 - val_loss: 0.8384\n",
      "Epoch 47/100\n",
      "42/42 [==============================] - 0s 2ms/step - loss: 0.7179 - val_loss: 0.8376\n",
      "Epoch 48/100\n",
      "42/42 [==============================] - 0s 2ms/step - loss: 0.7187 - val_loss: 0.8368\n",
      "Epoch 49/100\n",
      "42/42 [==============================] - 0s 2ms/step - loss: 0.7195 - val_loss: 0.8374\n",
      "Epoch 50/100\n",
      "42/42 [==============================] - 0s 2ms/step - loss: 0.7061 - val_loss: 0.8376\n",
      "Epoch 51/100\n",
      "42/42 [==============================] - 0s 2ms/step - loss: 0.7232 - val_loss: 0.8343\n",
      "Epoch 52/100\n",
      "42/42 [==============================] - 0s 2ms/step - loss: 0.7169 - val_loss: 0.8339\n",
      "Epoch 53/100\n",
      "42/42 [==============================] - 0s 2ms/step - loss: 0.7080 - val_loss: 0.8324\n",
      "Epoch 54/100\n",
      "42/42 [==============================] - 0s 2ms/step - loss: 0.7087 - val_loss: 0.8320\n",
      "Epoch 55/100\n",
      "42/42 [==============================] - 0s 2ms/step - loss: 0.7122 - val_loss: 0.8313\n",
      "Epoch 56/100\n",
      "42/42 [==============================] - 0s 2ms/step - loss: 0.7034 - val_loss: 0.8319\n",
      "Epoch 57/100\n",
      "42/42 [==============================] - 0s 2ms/step - loss: 0.7006 - val_loss: 0.8326\n",
      "Epoch 58/100\n",
      "42/42 [==============================] - 0s 2ms/step - loss: 0.7056 - val_loss: 0.8330\n",
      "Epoch 59/100\n",
      "42/42 [==============================] - 0s 2ms/step - loss: 0.7142 - val_loss: 0.8293\n",
      "Epoch 60/100\n",
      "42/42 [==============================] - 0s 2ms/step - loss: 0.6989 - val_loss: 0.8288\n",
      "Epoch 61/100\n",
      "42/42 [==============================] - 0s 2ms/step - loss: 0.7047 - val_loss: 0.8300\n",
      "Epoch 62/100\n",
      "42/42 [==============================] - 0s 2ms/step - loss: 0.7008 - val_loss: 0.8287\n",
      "Epoch 63/100\n",
      "42/42 [==============================] - 0s 2ms/step - loss: 0.7039 - val_loss: 0.8303\n",
      "Epoch 64/100\n",
      "42/42 [==============================] - 0s 2ms/step - loss: 0.6984 - val_loss: 0.8313\n",
      "Epoch 65/100\n",
      "42/42 [==============================] - 0s 2ms/step - loss: 0.7068 - val_loss: 0.8313\n",
      "Epoch 66/100\n",
      "42/42 [==============================] - 0s 2ms/step - loss: 0.7001 - val_loss: 0.8299\n",
      "Epoch 67/100\n",
      "42/42 [==============================] - 0s 2ms/step - loss: 0.6885 - val_loss: 0.8274\n",
      "Epoch 68/100\n",
      "42/42 [==============================] - 0s 2ms/step - loss: 0.7081 - val_loss: 0.8274\n",
      "Epoch 69/100\n",
      "42/42 [==============================] - 0s 2ms/step - loss: 0.7030 - val_loss: 0.8283\n",
      "Epoch 70/100\n",
      "42/42 [==============================] - 0s 2ms/step - loss: 0.6887 - val_loss: 0.8235\n",
      "Epoch 71/100\n",
      "42/42 [==============================] - 0s 2ms/step - loss: 0.6993 - val_loss: 0.8231\n",
      "Epoch 72/100\n",
      "42/42 [==============================] - 0s 3ms/step - loss: 0.7031 - val_loss: 0.8227\n",
      "Epoch 73/100\n",
      "42/42 [==============================] - 0s 2ms/step - loss: 0.7067 - val_loss: 0.8254\n",
      "Epoch 74/100\n",
      "42/42 [==============================] - 0s 2ms/step - loss: 0.6922 - val_loss: 0.8242\n",
      "Epoch 75/100\n",
      "42/42 [==============================] - 0s 2ms/step - loss: 0.6881 - val_loss: 0.8232\n",
      "Epoch 76/100\n",
      "42/42 [==============================] - 0s 2ms/step - loss: 0.6884 - val_loss: 0.8220\n",
      "Epoch 77/100\n",
      "42/42 [==============================] - 0s 2ms/step - loss: 0.6912 - val_loss: 0.8223\n",
      "Epoch 78/100\n",
      "42/42 [==============================] - 0s 3ms/step - loss: 0.6951 - val_loss: 0.8218\n",
      "Epoch 79/100\n",
      "42/42 [==============================] - 0s 2ms/step - loss: 0.6985 - val_loss: 0.8226\n",
      "Epoch 80/100\n",
      "42/42 [==============================] - 0s 2ms/step - loss: 0.6838 - val_loss: 0.8194\n",
      "Epoch 81/100\n",
      "42/42 [==============================] - 0s 2ms/step - loss: 0.7000 - val_loss: 0.8187\n",
      "Epoch 82/100\n",
      "42/42 [==============================] - 0s 3ms/step - loss: 0.6927 - val_loss: 0.8193\n",
      "Epoch 83/100\n",
      "42/42 [==============================] - 0s 2ms/step - loss: 0.6915 - val_loss: 0.8181\n",
      "Epoch 84/100\n",
      "42/42 [==============================] - 0s 2ms/step - loss: 0.7022 - val_loss: 0.8194\n",
      "Epoch 85/100\n",
      "42/42 [==============================] - 0s 2ms/step - loss: 0.6890 - val_loss: 0.8184\n",
      "Epoch 86/100\n",
      "42/42 [==============================] - 0s 2ms/step - loss: 0.6834 - val_loss: 0.8176\n",
      "Epoch 87/100\n",
      "42/42 [==============================] - 0s 2ms/step - loss: 0.6854 - val_loss: 0.8184\n",
      "Epoch 88/100\n",
      "42/42 [==============================] - 0s 2ms/step - loss: 0.6935 - val_loss: 0.8171\n",
      "Epoch 89/100\n",
      "42/42 [==============================] - 0s 3ms/step - loss: 0.6792 - val_loss: 0.8162\n",
      "Epoch 90/100\n",
      "42/42 [==============================] - 0s 2ms/step - loss: 0.6740 - val_loss: 0.8162\n",
      "Epoch 91/100\n",
      "42/42 [==============================] - 0s 2ms/step - loss: 0.6941 - val_loss: 0.8131\n",
      "Epoch 92/100\n",
      "42/42 [==============================] - 0s 2ms/step - loss: 0.6853 - val_loss: 0.8139\n",
      "Epoch 93/100\n",
      "42/42 [==============================] - 0s 2ms/step - loss: 0.6800 - val_loss: 0.8136\n",
      "Epoch 94/100\n",
      "42/42 [==============================] - 0s 2ms/step - loss: 0.6831 - val_loss: 0.8113\n",
      "Epoch 95/100\n",
      "42/42 [==============================] - 0s 2ms/step - loss: 0.6882 - val_loss: 0.8084\n",
      "Epoch 96/100\n",
      "42/42 [==============================] - 0s 2ms/step - loss: 0.6783 - val_loss: 0.8081\n",
      "Epoch 97/100\n",
      "42/42 [==============================] - 0s 2ms/step - loss: 0.6930 - val_loss: 0.8118\n",
      "Epoch 98/100\n",
      "42/42 [==============================] - 0s 2ms/step - loss: 0.6735 - val_loss: 0.8089\n",
      "Epoch 99/100\n",
      "42/42 [==============================] - 0s 2ms/step - loss: 0.6796 - val_loss: 0.8095\n",
      "Epoch 100/100\n",
      "42/42 [==============================] - 0s 3ms/step - loss: 0.6767 - val_loss: 0.8090\n"
     ]
    }
   ],
   "source": [
    "optimizer = keras.optimizers.Adam(learning_rate=learning_rate)\n",
    "model.compile(loss='sparse_categorical_crossentropy', optimizer=optimizer)\n",
    "\n",
    "history = model.fit([inp1, inp2], y, epochs = n_epochs, shuffle = True, batch_size=batch_size, \n",
    "                    validation_split = 0.2, verbose=1)"
   ]
  },
  {
   "cell_type": "code",
   "execution_count": 13,
   "metadata": {},
   "outputs": [
    {
     "data": {
      "image/png": "[encoded data removed]",
      "text/plain": [
       "<Figure size 1080x360 with 2 Axes>"
      ]
     },
     "metadata": {
      "needs_background": "light"
     },
     "output_type": "display_data"
    }
   ],
   "source": [
    "def plotting(train_loss, val_loss):\n",
    "    plt.figure(figsize=(15,5))\n",
    "    plt.subplot(121)\n",
    "    plt.plot(range(1, n_epochs+1), train_loss, label = 'Train Loss')\n",
    "    plt.legend()\n",
    "    \n",
    "    plt.subplot(122)\n",
    "    plt.plot(range(1, n_epochs+1), val_loss, label = 'Validation Loss')\n",
    "    plt.legend()\n",
    "\n",
    "train_loss = history.history['loss']\n",
    "val_loss = history.history['val_loss']\n",
    "plotting(train_loss, val_loss)  "
   ]
  },
  {
   "cell_type": "markdown",
   "metadata": {},
   "source": [
    "### Pointwise LTR\n",
    "\n",
    "In this method, since we are given relevance levels explicitly, we can model this as classification task and predict relevance scores given query, document information."
   ]
  },
  {
   "cell_type": "code",
   "execution_count": 14,
   "metadata": {},
   "outputs": [
    {
     "data": {
      "text/plain": [
       "(8846, 2212)"
      ]
     },
     "execution_count": 14,
     "metadata": {},
     "output_type": "execute_result"
    }
   ],
   "source": [
    "sample_pct = 0.1\n",
    "data = orig_data.groupby('relevance_level', group_keys = False).apply(lambda x: x.sample(frac = sample_pct))\n",
    "\n",
    "train_df, val_df = train_test_split(data, stratify = data['relevance_level'], test_size=0.2, random_state=42)\n",
    "len(train_df), len(val_df)"
   ]
  },
  {
   "cell_type": "code",
   "execution_count": 15,
   "metadata": {},
   "outputs": [],
   "source": [
    "train_df['query'] = train_df['query_id'].apply(lambda x: queries[x])\n",
    "train_df['docs'] = train_df['doc_id'].apply(lambda x: docs[x])\n",
    "\n",
    "val_df['query'] = val_df['query_id'].apply(lambda x: queries[x])\n",
    "val_df['docs'] = val_df['doc_id'].apply(lambda x: docs[x])"
   ]
  },
  {
   "cell_type": "code",
   "execution_count": 16,
   "metadata": {},
   "outputs": [],
   "source": [
    "def featurizer(train_df, val_df, label):\n",
    "    vectorizer = TfidfVectorizer()\n",
    "    train_vecs = vectorizer.fit_transform(train_df[label])\n",
    "    val_vecs = vectorizer.transform(val_df[label])\n",
    "    return train_vecs, val_vecs\n",
    "\n",
    "train_query_vecs, val_query_vecs = featurizer(train_df, val_df, 'query')\n",
    "train_doc_vecs, val_doc_vecs = featurizer(train_df, val_df, 'docs')"
   ]
  },
  {
   "cell_type": "code",
   "execution_count": 17,
   "metadata": {},
   "outputs": [
    {
     "data": {
      "text/plain": [
       "((8846, 79603), (8846,), (2212, 79603), (2212,))"
      ]
     },
     "execution_count": 17,
     "metadata": {},
     "output_type": "execute_result"
    }
   ],
   "source": [
    "X_train = sp.hstack((train_query_vecs, train_doc_vecs))\n",
    "X_val = sp.hstack((val_query_vecs, val_doc_vecs))\n",
    "y_train = train_df['relevance_level'].astype('int').values\n",
    "y_val = val_df['relevance_level'].astype('int').values\n",
    "\n",
    "# relevance levels {1, 2} --> {0, 1}\n",
    "y_train -= 1\n",
    "y_val -= 1\n",
    "X_train.shape, y_train.shape, X_val.shape, y_val.shape"
   ]
  },
  {
   "cell_type": "code",
   "execution_count": 18,
   "metadata": {},
   "outputs": [
    {
     "name": "stdout",
     "output_type": "stream",
     "text": [
      "Sparsity: 0.993874840727315\n"
     ]
    }
   ],
   "source": [
    "X_train = X_train.toarray()\n",
    "sparsity = np.sum(X_train==0) / (X_train.shape[0] * X_train.shape[1])\n",
    "print('Sparsity:', sparsity)"
   ]
  },
  {
   "cell_type": "code",
   "execution_count": 19,
   "metadata": {},
   "outputs": [
    {
     "data": {
      "text/plain": [
       "0.961121157323689"
      ]
     },
     "execution_count": 19,
     "metadata": {},
     "output_type": "execute_result"
    }
   ],
   "source": [
    "clf = LogisticRegression()\n",
    "clf.fit(X_train, y_train)\n",
    "y_pred = clf.predict(X_val)\n",
    "\n",
    "accuracy_score(y_val, y_pred)"
   ]
  },
  {
   "cell_type": "code",
   "execution_count": null,
   "metadata": {},
   "outputs": [],
   "source": []
  }
 ],
 "metadata": {
  "interpreter": {
   "hash": "951daa5e1959839fcb325fff331f52e72634f7a1be998f6081ed7f433b63f1b3"
  },
  "kernelspec": {
   "display_name": "Python 3.8.11 64-bit ('base': conda)",
   "language": "python",
   "name": "python3"
  },
  "language_info": {
   "codemirror_mode": {
    "name": "ipython",
    "version": 3
   },
   "file_extension": ".py",
   "mimetype": "text/x-python",
   "name": "python",
   "nbconvert_exporter": "python",
   "pygments_lexer": "ipython3",
   "version": "3.8.11"
  },
  "orig_nbformat": 4
 },
 "nbformat": 4,
 "nbformat_minor": 2
}
