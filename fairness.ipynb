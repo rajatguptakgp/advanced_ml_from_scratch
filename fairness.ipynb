{
 "cells": [
  {
   "cell_type": "code",
   "execution_count": 1,
   "metadata": {},
   "outputs": [],
   "source": [
    "import numpy as np\n",
    "import pandas as pd\n",
    "import seaborn as sns\n",
    "import matplotlib.pyplot as plt\n",
    "from sklearn.model_selection import StratifiedKFold\n",
    "from sklearn.preprocessing import OneHotEncoder\n",
    "from sklearn.metrics import f1_score\n",
    "from lightgbm import LGBMClassifier\n",
    "\n",
    "import statsmodels.api as sm\n",
    "import scipy.stats as stats\n",
    "from scipy.stats import levene, ttest_ind, chi2_contingency, fisher_exact, shapiro, kstest\n",
    "\n",
    "import warnings\n",
    "warnings.filterwarnings('ignore')"
   ]
  },
  {
   "cell_type": "markdown",
   "metadata": {},
   "source": [
    "#### Kaggle Dataset Link: https://www.kaggle.com/mandalravi/loan-prediction-data"
   ]
  },
  {
   "cell_type": "markdown",
   "metadata": {},
   "source": [
    "#### Steps:\n",
    "\n",
    "1. **Data Preprocessing:** In order to focus on fairness aspects of model, we will do minimalistic data preprocessing.\n",
    "2. **Cross-Validation Framework:** Stratified KFold since the data is class-imbalanced.\n",
    "3. **Model Training:** LGBM\n",
    "4. **Model Prediction:** Predictions on test set\n",
    "5. **Fairness Testing:** Statistical tests"
   ]
  },
  {
   "cell_type": "code",
   "execution_count": 2,
   "metadata": {},
   "outputs": [
    {
     "data": {
      "text/plain": [
       "((981, 13), (614, 13), (367, 13))"
      ]
     },
     "execution_count": 2,
     "metadata": {},
     "output_type": "execute_result"
    }
   ],
   "source": [
    "train = pd.read_csv('fairness_dataset/train.csv')\n",
    "test = pd.read_csv('fairness_dataset/test.csv')\n",
    "test['Loan_Status'] = -1\n",
    "data = pd.concat([train, test])\n",
    "data.shape, train.shape, test.shape"
   ]
  },
  {
   "cell_type": "code",
   "execution_count": 3,
   "metadata": {},
   "outputs": [],
   "source": [
    "data.dropna(inplace=True)\n",
    "\n",
    "categorical_columns = ['Gender', 'Married', 'Dependents', 'Education', 'Self_Employed', 'Credit_History', 'Property_Area']\n",
    "for col in categorical_columns:\n",
    "    ohe = OneHotEncoder()\n",
    "    data[ohe.get_feature_names_out()] = ohe.fit_transform(data[[col]]).toarray()\n",
    "    data.drop(columns=col, inplace=True)"
   ]
  },
  {
   "cell_type": "code",
   "execution_count": 4,
   "metadata": {},
   "outputs": [],
   "source": [
    "train = data[data['Loan_Status']!=-1]\n",
    "test = data[data['Loan_Status']==-1]\n",
    "\n",
    "cols = data.columns.tolist()\n",
    "cols.remove('Loan_ID')\n",
    "cols.remove('Loan_Status')\n",
    "\n",
    "X = train[cols].values\n",
    "y = train['Loan_Status'].values\n",
    "y = np.where(y=='Y', 1, 0)\n",
    "X_test = test[cols].values"
   ]
  },
  {
   "cell_type": "markdown",
   "metadata": {},
   "source": [
    "#### Evaluation Metric:\n",
    "\n",
    "The model predicts the probability of giving a loan to applicant or not. Class 1 for 'Yes' and 0 for 'No'. Based on outcomes, we can have the following two costs:\n",
    "\n",
    "1. **False Positive:** Giving a loan to someone when they should not have been. This can be costly as the applicant can default. \n",
    "\n",
    "2. **False Negative:** Not giving a loan to someone when they should have been. This makes us lose opportunity cost.\n",
    "\n",
    "As per business scenarios, either of the above two costs can be costlier than other and accordingly, Precision or Recall can be taken as target metric for optimizing loan prediction ability. However, since both the costs are important in general, we will consider **F1 Score** as optimizing metric."
   ]
  },
  {
   "cell_type": "code",
   "execution_count": 5,
   "metadata": {},
   "outputs": [
    {
     "name": "stdout",
     "output_type": "stream",
     "text": [
      "F1 Score: 0.8431654676258994\n"
     ]
    }
   ],
   "source": [
    "y_pred = np.zeros(shape=(len(y)))\n",
    "\n",
    "skf = StratifiedKFold(n_splits=5, shuffle=True, random_state=0)\n",
    "for train_index, val_index in skf.split(X, y):\n",
    "    X_train, X_val = X[train_index], X[val_index]\n",
    "    y_train, y_val = y[train_index], y[val_index]\n",
    "\n",
    "    clf = LGBMClassifier()\n",
    "    clf.fit(X_train, y_train)\n",
    "    y_pred[val_index] = clf.predict(X_val)\n",
    "\n",
    "print('F1 Score:', f1_score(y, y_pred))"
   ]
  },
  {
   "cell_type": "code",
   "execution_count": 6,
   "metadata": {},
   "outputs": [],
   "source": [
    "clf.fit(X, y)\n",
    "y_pred_test = clf.predict(X_test)\n",
    "test.loc[:, 'Loan_Status'] = y_pred_test\n",
    "submit = test.loc[:, ['Loan_ID', 'Loan_Status']]\n",
    "\n",
    "test = pd.read_csv('fairness_dataset/test.csv')\n",
    "test = pd.merge(test, submit, how='inner', on='Loan_ID').reset_index(drop=True)"
   ]
  },
  {
   "cell_type": "markdown",
   "metadata": {},
   "source": [
    "### Fairness Testing in Models\n",
    "\n",
    "Now, we will look at whether our model is biased towards certain factors while giving loans or not.\n",
    "Since our target variable is categorical, there can be following types of tests:\n",
    "1. Categorical (Target) v/s Categorical (Dependent):\n",
    "    1. Contingency Table\n",
    "    2. Chi-square test\n",
    "2. Categorical (Target) v/s Numeric (Dependent):\n",
    "    1. T-Test:\n",
    "        1. If class samples are coming from populations of similar variances:\n",
    "            1. Pooled T-Test\n",
    "        2. Else:\n",
    "            1. Welch T-Test"
   ]
  },
  {
   "cell_type": "code",
   "execution_count": 7,
   "metadata": {},
   "outputs": [],
   "source": [
    "significance_level = 0.05"
   ]
  },
  {
   "cell_type": "code",
   "execution_count": 8,
   "metadata": {},
   "outputs": [
    {
     "name": "stdout",
     "output_type": "stream",
     "text": [
      "Number of loan applicants to be given loan as per model predictions:  74\n",
      "Number of loan applicants not to be given loan as per model predictions:  215\n"
     ]
    }
   ],
   "source": [
    "test0 = test[test['Loan_Status']==0]\n",
    "test1 = test[test['Loan_Status']==1]\n",
    "\n",
    "print('Number of loan applicants to be given loan as per model predictions: ', len(test0))\n",
    "print('Number of loan applicants not to be given loan as per model predictions: ', len(test1))"
   ]
  },
  {
   "cell_type": "markdown",
   "metadata": {},
   "source": [
    "We notice that sample sizes are different. For performing a t-test, the test statistic is supposed to follow Student's t distribution which is ratio of Standard Normal variate to Chi-Square variate."
   ]
  },
  {
   "cell_type": "code",
   "execution_count": 9,
   "metadata": {},
   "outputs": [],
   "source": [
    "def ttest(*args, **kwargs):\n",
    "    center = kwargs['center']\n",
    "    significance_level = kwargs['significance_level']\n",
    "    \n",
    "    # check homogeneity of variances\n",
    "    # center represents appropriate function to use for test\n",
    "    t_stat, p_value = levene(*args, center=center)\n",
    "    if p_value < significance_level:\n",
    "        # null hypothesis rejected \n",
    "        # samples coming from populations with different variances\n",
    "        # Welch t-test\n",
    "        print('Unequal variances')\n",
    "        t_stat, p_value = ttest_ind(*args, equal_var=False)\n",
    "    else:\n",
    "        # null hypothesis failed to reject\n",
    "        # samples coming from populations with similar variances\n",
    "        # Pooled t-test\n",
    "        print('Equal variances')\n",
    "        t_stat, p_value = ttest_ind(*args, equal_var=True)\n",
    "    return p_value"
   ]
  },
  {
   "cell_type": "code",
   "execution_count": 10,
   "metadata": {},
   "outputs": [],
   "source": [
    "def conclusion(label, p_value, significance_level):\n",
    "    print('P-Value: ', p_value)\n",
    "\n",
    "    if p_value < significance_level:\n",
    "        # null hypothesis rejected\n",
    "        # data is statistically different\n",
    "        print(f'Model biased towards {label}')\n",
    "    else:\n",
    "        # null hypothesis failed to reject\n",
    "        # data is not statistically different\n",
    "        print(f'Model not biased towards {label}')"
   ]
  },
  {
   "cell_type": "markdown",
   "metadata": {},
   "source": [
    "### Fairness Metrics\n",
    "\n",
    "Definitions:\n",
    "1. r1: Ratio of positive proportion among unprivileged group.\n",
    "2. r2: Ratio of positive proportion among privileged group.\n",
    "3. p1: P(x is in protected set | y=1)\n",
    "4. p2: P(x is not in protected set | y=1)\n",
    "\n",
    "Metrics:\n",
    "1. **Disparate Impact (DI):** r1 / r2, Ideal value = 1 \n",
    "2. **Difference in positive proportions of predicted labels (DPPL):** r1 - r2, Ideal value = 0\n",
    "3. **Statistical Parity:** p1 - p2\n",
    "\n",
    "**Positive Bias:** DI > 1 or DPPL > 0\n",
    "\n",
    "**Negative Bias:** DI < 1 or DPPL < 0"
   ]
  },
  {
   "cell_type": "code",
   "execution_count": 11,
   "metadata": {},
   "outputs": [
    {
     "data": {
      "text/html": [
       "<div>\n",
       "<style scoped>\n",
       "    .dataframe tbody tr th:only-of-type {\n",
       "        vertical-align: middle;\n",
       "    }\n",
       "\n",
       "    .dataframe tbody tr th {\n",
       "        vertical-align: top;\n",
       "    }\n",
       "\n",
       "    .dataframe thead th {\n",
       "        text-align: right;\n",
       "    }\n",
       "</style>\n",
       "<table border=\"1\" class=\"dataframe\">\n",
       "  <thead>\n",
       "    <tr style=\"text-align: right;\">\n",
       "      <th>Loan_Status</th>\n",
       "      <th>0</th>\n",
       "      <th>1</th>\n",
       "    </tr>\n",
       "    <tr>\n",
       "      <th>Gender</th>\n",
       "      <th></th>\n",
       "      <th></th>\n",
       "    </tr>\n",
       "  </thead>\n",
       "  <tbody>\n",
       "    <tr>\n",
       "      <th>Female</th>\n",
       "      <td>20</td>\n",
       "      <td>39</td>\n",
       "    </tr>\n",
       "    <tr>\n",
       "      <th>Male</th>\n",
       "      <td>54</td>\n",
       "      <td>176</td>\n",
       "    </tr>\n",
       "  </tbody>\n",
       "</table>\n",
       "</div>"
      ],
      "text/plain": [
       "Loan_Status   0    1\n",
       "Gender              \n",
       "Female       20   39\n",
       "Male         54  176"
      ]
     },
     "execution_count": 11,
     "metadata": {},
     "output_type": "execute_result"
    }
   ],
   "source": [
    "pd.crosstab(test['Gender'], test['Loan_Status'])"
   ]
  },
  {
   "cell_type": "code",
   "execution_count": 12,
   "metadata": {},
   "outputs": [
    {
     "name": "stdout",
     "output_type": "stream",
     "text": [
      "DI: 0.8638289676425269\n",
      "DPPL: -0.10420044215180546\n",
      "Statistical Parity: -0.6372093023255814\n"
     ]
    }
   ],
   "source": [
    "rate_female = np.sum((test['Gender']=='Female') & (test['Loan_Status']==1)) / np.sum(test['Gender']=='Female')\n",
    "rate_male = np.sum((test['Gender']=='Male') & (test['Loan_Status']==1)) / np.sum(test['Gender']=='Male')\n",
    "p1 = np.sum((test['Gender']=='Female') & (test['Loan_Status']==1)) / np.sum(test['Loan_Status']==1)\n",
    "p2 = np.sum((test['Gender']=='Male') & (test['Loan_Status']==1)) / np.sum(test['Loan_Status']==1)\n",
    "\n",
    "DI = rate_female / rate_male\n",
    "DPPL = rate_female - rate_male\n",
    "SP = p1 - p2\n",
    "\n",
    "print('DI:', DI)\n",
    "print('DPPL:', DPPL)\n",
    "print('Statistical Parity:', p1 - p2)"
   ]
  },
  {
   "cell_type": "markdown",
   "metadata": {},
   "source": [
    "DI and DPPL indicate that there is negative bias towards females. SP indicates that males have higher chance of being detected than females."
   ]
  },
  {
   "cell_type": "markdown",
   "metadata": {},
   "source": [
    "#### Bias towards Gender"
   ]
  },
  {
   "cell_type": "code",
   "execution_count": 13,
   "metadata": {},
   "outputs": [
    {
     "name": "stdout",
     "output_type": "stream",
     "text": [
      "Chi-Square Test\n",
      "P-Value:  0.14189259641142235\n",
      "Model not biased towards Gender\n"
     ]
    }
   ],
   "source": [
    "contingency_table = pd.crosstab(test['Gender'], test['Loan_Status']).values\n",
    "\n",
    "if np.min(contingency_table) < 5:\n",
    "    # perform Fisher's Exact Test\n",
    "    print(\"Fisher's Exact Test\")\n",
    "    odds_ratio, p_value = fisher_exact(contingency_table)\n",
    "else:\n",
    "    # perform Pearson's Chi-Square Test\n",
    "    print('Chi-Square Test')\n",
    "    chi2_stat, p_value, dof, expected_values = chi2_contingency(contingency_table)\n",
    "\n",
    "conclusion('Gender', p_value, significance_level)"
   ]
  },
  {
   "cell_type": "markdown",
   "metadata": {},
   "source": [
    "#### Bias towards Applicant Income\n",
    "\n",
    "We start by checking whether the sample is coming from normal distribution using normality tests like Shapiro-Wilk Test, Q-Q plot and KS-Test. However, it's not a necessary condition if the sample size is large enough."
   ]
  },
  {
   "cell_type": "code",
   "execution_count": 14,
   "metadata": {},
   "outputs": [],
   "source": [
    "data0 = test0['ApplicantIncome'].values\n",
    "data1 = test1['ApplicantIncome'].values"
   ]
  },
  {
   "cell_type": "code",
   "execution_count": 15,
   "metadata": {},
   "outputs": [
    {
     "data": {
      "image/png": "[encoded data removed]",
      "text/plain": [
       "<Figure size 360x360 with 1 Axes>"
      ]
     },
     "metadata": {
      "needs_background": "light"
     },
     "output_type": "display_data"
    }
   ],
   "source": [
    "sns.displot(data0)\n",
    "plt.show()"
   ]
  },
  {
   "cell_type": "code",
   "execution_count": 16,
   "metadata": {},
   "outputs": [
    {
     "name": "stdout",
     "output_type": "stream",
     "text": [
      "Performing Shapiro-Wilk Test..\n",
      "P-Value: 1.4426251482291264e-06\n",
      "Variable does not follow normal distribution\n",
      "\n",
      "Performing Kolmogorov-Smirnov Test..\n",
      "P-Value: 6.6420805605899745e-115\n",
      "Variable does not follow normal distribution\n"
     ]
    },
    {
     "data": {
      "image/png": "[encoded data removed]",
      "text/plain": [
       "<Figure size 432x288 with 1 Axes>"
      ]
     },
     "metadata": {
      "needs_background": "light"
     },
     "output_type": "display_data"
    }
   ],
   "source": [
    "t_stat, p_value = shapiro(data0)\n",
    "print('Performing Shapiro-Wilk Test..')\n",
    "print('P-Value:', p_value)\n",
    "if p_value < significance_level:\n",
    "    # null hypothesis rejected\n",
    "    print('Variable does not follow normal distribution')\n",
    "else:\n",
    "    # null hypothesis failed to reject\n",
    "    print('Variable follows normal distribution')\n",
    "\n",
    "X = np.random.normal(0, 1, 10000)\n",
    "cdf = []\n",
    "for x in X:\n",
    "    p = np.sum(X <= x) / len(X)\n",
    "    cdf.append(p)\n",
    "\n",
    "t_stat, p_value = kstest(data0, cdf) \n",
    "print('\\nPerforming Kolmogorov-Smirnov Test..')\n",
    "print('P-Value:', p_value)\n",
    "if p_value < significance_level:\n",
    "    # null hypothesis rejected\n",
    "    print('Variable does not follow normal distribution')\n",
    "else:\n",
    "    # null hypothesis failed to reject\n",
    "    print('Variable follows normal distribution')   \n",
    "\n",
    "sm.qqplot(data0, dist=stats.norm, line='45')\n",
    "plt.show()"
   ]
  },
  {
   "cell_type": "code",
   "execution_count": 17,
   "metadata": {},
   "outputs": [
    {
     "name": "stdout",
     "output_type": "stream",
     "text": [
      "Equal variances\n",
      "P-Value:  0.04272472604624704\n",
      "Model biased towards ApplicantIncome\n"
     ]
    }
   ],
   "source": [
    "data0 = test0['ApplicantIncome'].values\n",
    "data1 = test1['ApplicantIncome'].values\n",
    "\n",
    "p_value = ttest(data0, data1, center = 'mean', significance_level = 0.05)\n",
    "conclusion('ApplicantIncome', p_value, significance_level)"
   ]
  },
  {
   "cell_type": "code",
   "execution_count": null,
   "metadata": {},
   "outputs": [],
   "source": []
  }
 ],
 "metadata": {
  "interpreter": {
   "hash": "951daa5e1959839fcb325fff331f52e72634f7a1be998f6081ed7f433b63f1b3"
  },
  "kernelspec": {
   "display_name": "Python 3.8.11 64-bit ('base': conda)",
   "language": "python",
   "name": "python3"
  },
  "language_info": {
   "codemirror_mode": {
    "name": "ipython",
    "version": 3
   },
   "file_extension": ".py",
   "mimetype": "text/x-python",
   "name": "python",
   "nbconvert_exporter": "python",
   "pygments_lexer": "ipython3",
   "version": "3.8.11"
  },
  "orig_nbformat": 4
 },
 "nbformat": 4,
 "nbformat_minor": 2
}
