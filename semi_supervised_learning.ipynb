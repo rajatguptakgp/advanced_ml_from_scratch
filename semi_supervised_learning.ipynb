{
 "cells": [
  {
   "cell_type": "code",
   "execution_count": 1,
   "metadata": {},
   "outputs": [],
   "source": [
    "import numpy as np\n",
    "import pandas as pd\n",
    "import seaborn as sns\n",
    "import matplotlib.pyplot as plt\n",
    "from sklearn.model_selection import train_test_split\n",
    "from sklearn.preprocessing import OneHotEncoder\n",
    "from sklearn.metrics import precision_score\n",
    "\n",
    "import scipy.sparse as sp\n",
    "from lightgbm import LGBMClassifier\n",
    "\n",
    "from tqdm import tqdm"
   ]
  },
  {
   "cell_type": "markdown",
   "metadata": {},
   "source": [
    "### Semi-Supervised Learning \n",
    "\n",
    "Semi-Supervised Learning comes under the intersection of Supervised and Unsupervised Learning, in the sense that you do not have labels for all examples but for only a few. So basically, you have a small set of labelled data and large set of unlabelled data and you want to train the model under this scenario.\n",
    "\n",
    "Naturally, as we have a few labels, we would like to use those for our advantage. It's better than unsupervised learning since we have some additional information (some kind of prior knowledge if you will). So the general strategy is bootstrapping approach: training high-precision model on labelled examples, including examples in training with higher confidence in predictions with predicted label as ground truth label, and repeat.\n",
    "\n",
    "This is different from Self-Supervised Learning (which is more closer to unsupervised learning), because you do not have any labelled examples in that case, **rather you make labels yourself**. Examples include: \n",
    "1. Predicting the next word in sentence, so you make data as <code>{word1, word2}</code>\n",
    "2. Predicting masked words in sentence - Masked Language Modelling (MLM) as in BERT, so you mask 15% of tokens \n",
    "3. Word2Vec is self-supervised, making labels (context) as words within window size\n",
    "\n",
    "#### Dataset Link: [Kaggle](https://www.kaggle.com/datasets/uciml/adult-census-income)"
   ]
  },
  {
   "cell_type": "code",
   "execution_count": 2,
   "metadata": {},
   "outputs": [],
   "source": [
    "conf_threshold = 0.95\n",
    "sample_pct = 0.1\n",
    "n_iters = 150"
   ]
  },
  {
   "cell_type": "markdown",
   "metadata": {},
   "source": [
    "### Steps:\n",
    "\n",
    "1. Data Preprocessing:\n",
    "    1. Since data contains many categorical columns, we will one-hot-encode them\n",
    "    2. This results in highly sparse matrix, so we will perform low-rank approximation using SVD\n",
    "        1. Finding appropriate number of components for SVD using Elbow Method\n",
    "        2. Considering representation in latent space with dimension: <code>(n_examples, n_components)</code>\n",
    "2. Train-Validation Split\n",
    "3. **Self-Supervised Training:** The steps are as follows:\n",
    "    1. Model Training (Bootstrapping approach):\n",
    "        1. Train model with labelled examples that aims to maximize precision\n",
    "        2. Make predictions on unlabelled examples\n",
    "        3. Choose examples with high confidence in predictions and make them part of training\n",
    "        4. Repeat steps 1, 2, 3\n",
    "    2. Model Evaluation: \n",
    "        1. Evaluate on test set(hold-out set) \n",
    "        2. Check how model performance improves"
   ]
  },
  {
   "cell_type": "code",
   "execution_count": 3,
   "metadata": {},
   "outputs": [
    {
     "name": "stdout",
     "output_type": "stream",
     "text": [
      "Shape: (32561, 15)\n"
     ]
    },
    {
     "data": {
      "text/html": [
       "<div>\n",
       "<style scoped>\n",
       "    .dataframe tbody tr th:only-of-type {\n",
       "        vertical-align: middle;\n",
       "    }\n",
       "\n",
       "    .dataframe tbody tr th {\n",
       "        vertical-align: top;\n",
       "    }\n",
       "\n",
       "    .dataframe thead th {\n",
       "        text-align: right;\n",
       "    }\n",
       "</style>\n",
       "<table border=\"1\" class=\"dataframe\">\n",
       "  <thead>\n",
       "    <tr style=\"text-align: right;\">\n",
       "      <th></th>\n",
       "      <th>age</th>\n",
       "      <th>workclass</th>\n",
       "      <th>fnlwgt</th>\n",
       "      <th>education</th>\n",
       "      <th>education.num</th>\n",
       "      <th>marital.status</th>\n",
       "      <th>occupation</th>\n",
       "      <th>relationship</th>\n",
       "      <th>race</th>\n",
       "      <th>sex</th>\n",
       "      <th>capital.gain</th>\n",
       "      <th>capital.loss</th>\n",
       "      <th>hours.per.week</th>\n",
       "      <th>native.country</th>\n",
       "      <th>income</th>\n",
       "    </tr>\n",
       "  </thead>\n",
       "  <tbody>\n",
       "    <tr>\n",
       "      <th>0</th>\n",
       "      <td>90</td>\n",
       "      <td>?</td>\n",
       "      <td>77053</td>\n",
       "      <td>HS-grad</td>\n",
       "      <td>9</td>\n",
       "      <td>Widowed</td>\n",
       "      <td>?</td>\n",
       "      <td>Not-in-family</td>\n",
       "      <td>White</td>\n",
       "      <td>Female</td>\n",
       "      <td>0</td>\n",
       "      <td>4356</td>\n",
       "      <td>40</td>\n",
       "      <td>United-States</td>\n",
       "      <td>&lt;=50K</td>\n",
       "    </tr>\n",
       "    <tr>\n",
       "      <th>1</th>\n",
       "      <td>82</td>\n",
       "      <td>Private</td>\n",
       "      <td>132870</td>\n",
       "      <td>HS-grad</td>\n",
       "      <td>9</td>\n",
       "      <td>Widowed</td>\n",
       "      <td>Exec-managerial</td>\n",
       "      <td>Not-in-family</td>\n",
       "      <td>White</td>\n",
       "      <td>Female</td>\n",
       "      <td>0</td>\n",
       "      <td>4356</td>\n",
       "      <td>18</td>\n",
       "      <td>United-States</td>\n",
       "      <td>&lt;=50K</td>\n",
       "    </tr>\n",
       "  </tbody>\n",
       "</table>\n",
       "</div>"
      ],
      "text/plain": [
       "   age workclass  fnlwgt education  education.num marital.status  \\\n",
       "0   90         ?   77053   HS-grad              9        Widowed   \n",
       "1   82   Private  132870   HS-grad              9        Widowed   \n",
       "\n",
       "        occupation   relationship   race     sex  capital.gain  capital.loss  \\\n",
       "0                ?  Not-in-family  White  Female             0          4356   \n",
       "1  Exec-managerial  Not-in-family  White  Female             0          4356   \n",
       "\n",
       "   hours.per.week native.country income  \n",
       "0              40  United-States  <=50K  \n",
       "1              18  United-States  <=50K  "
      ]
     },
     "execution_count": 3,
     "metadata": {},
     "output_type": "execute_result"
    }
   ],
   "source": [
    "df = pd.read_csv('semi-supervised-dataset/adult.csv')\n",
    "print('Shape:', df.shape)\n",
    "df.head(2)"
   ]
  },
  {
   "cell_type": "code",
   "execution_count": 4,
   "metadata": {},
   "outputs": [],
   "source": [
    "categorical_columns = ['workclass', 'education', 'marital.status', 'occupation', 'relationship', 'race', 'sex', 'native.country']\n",
    "\n",
    "matrices = []\n",
    "for col in categorical_columns:\n",
    "    enc = OneHotEncoder()\n",
    "    ohe_matrix = enc.fit_transform(df[[col]])\n",
    "    matrices.append(ohe_matrix)"
   ]
  },
  {
   "cell_type": "code",
   "execution_count": 5,
   "metadata": {},
   "outputs": [
    {
     "name": "stdout",
     "output_type": "stream",
     "text": [
      "Shape: (32561, 102)\n",
      "Sparsity: 7.84%\n"
     ]
    }
   ],
   "source": [
    "mat = sp.hstack((matrices))\n",
    "sparsity = mat.sum() / (mat.shape[0] * mat.shape[1]) * 100\n",
    "\n",
    "print('Shape:', mat.shape)\n",
    "print(f'Sparsity: {sparsity.round(2)}%')"
   ]
  },
  {
   "cell_type": "code",
   "execution_count": 6,
   "metadata": {},
   "outputs": [
    {
     "name": "stdout",
     "output_type": "stream",
     "text": [
      "Number of Components: 5 | Error: 293.4\n",
      "Number of Components: 10 | Error: 239.77\n",
      "Number of Components: 15 | Error: 200.33\n",
      "Number of Components: 20 | Error: 167.61\n",
      "Number of Components: 25 | Error: 142.02\n",
      "Number of Components: 30 | Error: 118.5\n",
      "Number of Components: 40 | Error: 75.55\n",
      "Number of Components: 50 | Error: 47.02\n"
     ]
    },
    {
     "data": {
      "image/png": "[encoded data removed]",
      "text/plain": [
       "<Figure size 432x288 with 1 Axes>"
      ]
     },
     "metadata": {
      "needs_background": "light"
     },
     "output_type": "display_data"
    }
   ],
   "source": [
    "def reconstruction_error(P, Q):\n",
    "    # P and Q are sparse matrices\n",
    "    return sp.linalg.norm(P - Q)\n",
    "\n",
    "n_components = [5, 10, 15, 20, 25, 30, 40, 50]\n",
    "errors = []\n",
    "for k in n_components:\n",
    "    U, S, VT = sp.linalg.svds(mat, k = k)\n",
    "    approx_mat = U @ np.diag(S) @ VT\n",
    "    approx_mat = sp.csr_matrix(approx_mat)\n",
    "    error = reconstruction_error(mat, approx_mat)\n",
    "    errors.append(error)\n",
    "    print(f'Number of Components: {k} | Error: {error.round(2)}')\n",
    "\n",
    "plt.plot(errors)\n",
    "plt.show()"
   ]
  },
  {
   "cell_type": "code",
   "execution_count": 7,
   "metadata": {},
   "outputs": [],
   "source": [
    "U, _, _ = sp.linalg.svds(mat, k = 10)\n",
    "\n",
    "numeric_columns = ['age', 'fnlwgt', 'education.num', 'capital.gain', 'capital.loss', 'hours.per.week']\n",
    "X = df[numeric_columns].values\n",
    "X = np.hstack((X, U))\n",
    "\n",
    "y = df['income'].values\n",
    "y = np.where(y=='<=50K', 0, 1)"
   ]
  },
  {
   "cell_type": "code",
   "execution_count": 8,
   "metadata": {},
   "outputs": [
    {
     "data": {
      "text/plain": [
       "((26048, 16), (6513, 16), (26048,), (6513,))"
      ]
     },
     "execution_count": 8,
     "metadata": {},
     "output_type": "execute_result"
    }
   ],
   "source": [
    "X, X_test, y, y_test = train_test_split(X, y, test_size=0.2, stratify=y, random_state=42)\n",
    "X.shape, X_test.shape, y.shape, y_test.shape"
   ]
  },
  {
   "cell_type": "code",
   "execution_count": 9,
   "metadata": {},
   "outputs": [],
   "source": [
    "def bootstrapping(model, X_train, y_train, X_val, y_val, conf_threshold):\n",
    "    model.fit(X_train, y_train)\n",
    "    y_pred = model.predict(X_val)\n",
    "\n",
    "    # finding confidence in predictions\n",
    "    probs = np.max(model.predict_proba(X_val), axis=1)\n",
    "\n",
    "    # consider those whose confidence is higher than threshold\n",
    "    # regardless it's positive or negative prediction\n",
    "    include_idxs = np.where(probs >= conf_threshold)[0]\n",
    "    exclude_idxs = np.where(probs < conf_threshold)[0]\n",
    "    \n",
    "    new_X_train = X_val[include_idxs]\n",
    "    new_y_train = y_pred[include_idxs]\n",
    "    new_X_train = np.vstack((X_train, new_X_train))\n",
    "    new_y_train = np.hstack((y_train, new_y_train))\n",
    "\n",
    "    new_X_val = X_val[exclude_idxs]\n",
    "    new_y_val = y_val[exclude_idxs]\n",
    "    return new_X_train, new_y_train, new_X_val, new_y_val, model"
   ]
  },
  {
   "cell_type": "markdown",
   "metadata": {},
   "source": [
    "The evolution of model learning depends on initial set of examples. If the initial set changes, learning also changes. Hence, we can make different models in a way, with different sets of starting examples."
   ]
  },
  {
   "cell_type": "code",
   "execution_count": 10,
   "metadata": {},
   "outputs": [
    {
     "data": {
      "text/plain": [
       "((2604, 16), (2604,), (23444, 16), (23444,))"
      ]
     },
     "execution_count": 10,
     "metadata": {},
     "output_type": "execute_result"
    }
   ],
   "source": [
    "np.random.seed(42)\n",
    "\n",
    "idx = np.arange(len(X))\n",
    "np.random.shuffle(idx)\n",
    "\n",
    "train_size = int(sample_pct * len(X))\n",
    "train_idx = idx[:train_size]\n",
    "val_idx = idx[train_size:]\n",
    "\n",
    "X_train = X[train_idx]\n",
    "y_train = y[train_idx]\n",
    "X_val = X[val_idx]\n",
    "y_val = y[val_idx]\n",
    "\n",
    "X_train.shape, y_train.shape, X_val.shape, y_val.shape"
   ]
  },
  {
   "cell_type": "code",
   "execution_count": 11,
   "metadata": {},
   "outputs": [
    {
     "name": "stdout",
     "output_type": "stream",
     "text": [
      "Iteration: 1 | Precision: 0.699\n",
      "Iteration: 2 | Precision: 0.719\n",
      "Iteration: 3 | Precision: 0.729\n",
      "Iteration: 5 | Precision: 0.732\n",
      "Iteration: 7 | Precision: 0.738\n",
      "Iteration: 8 | Precision: 0.743\n",
      "Iteration: 10 | Precision: 0.746\n",
      "Iteration: 16 | Precision: 0.747\n",
      "Iteration: 20 | Precision: 0.752\n",
      "Iteration: 22 | Precision: 0.754\n",
      "Iteration: 28 | Precision: 0.755\n",
      "Iteration: 42 | Precision: 0.758\n",
      "Iteration: 51 | Precision: 0.759\n",
      "Iteration: 63 | Precision: 0.76\n",
      "Iteration: 67 | Precision: 0.762\n",
      "Iteration: 73 | Precision: 0.763\n",
      "Iteration: 74 | Precision: 0.765\n",
      "Iteration: 97 | Precision: 0.768\n"
     ]
    }
   ],
   "source": [
    "max_score = -float('inf')\n",
    "scores = []\n",
    "num_training_examples = []\n",
    "\n",
    "for n_iter in range(1, n_iters+1):\n",
    "    model = LGBMClassifier()\n",
    "    X_train, y_train, X_val, y_val, model = bootstrapping(model, X_train, y_train, X_val, y_val, conf_threshold)\n",
    "\n",
    "    # predicting on hold-out set (test set)\n",
    "    y_pred = model.predict(X_test)\n",
    "    score = precision_score(y_test, y_pred).round(3)\n",
    "    scores.append(score)\n",
    "    num_training_examples.append(len(X_train))\n",
    "    \n",
    "    if score > max_score:\n",
    "        max_score = score\n",
    "        print(f'Iteration: {n_iter} | Precision: {score}')"
   ]
  },
  {
   "cell_type": "code",
   "execution_count": 12,
   "metadata": {},
   "outputs": [
    {
     "data": {
      "image/png": "[encoded data removed]",
      "text/plain": [
       "<Figure size 1440x360 with 2 Axes>"
      ]
     },
     "metadata": {
      "needs_background": "light"
     },
     "output_type": "display_data"
    }
   ],
   "source": [
    "plt.figure(figsize=(20,5))\n",
    "plt.subplot(131)\n",
    "plt.title('Learning Curve: Precision')\n",
    "plt.plot(scores)\n",
    "\n",
    "plt.subplot(132)\n",
    "plt.title('Training Examples')\n",
    "plt.plot(num_training_examples)\n",
    "plt.show()"
   ]
  },
  {
   "cell_type": "markdown",
   "metadata": {},
   "source": [
    "### Observation:\n",
    "\n",
    "We note that the precison score improves as learning evolves. However, it converges and stops improving after a certain time"
   ]
  },
  {
   "cell_type": "code",
   "execution_count": null,
   "metadata": {},
   "outputs": [],
   "source": []
  }
 ],
 "metadata": {
  "interpreter": {
   "hash": "951daa5e1959839fcb325fff331f52e72634f7a1be998f6081ed7f433b63f1b3"
  },
  "kernelspec": {
   "display_name": "Python 3.8.11 64-bit ('base': conda)",
   "language": "python",
   "name": "python3"
  },
  "language_info": {
   "codemirror_mode": {
    "name": "ipython",
    "version": 3
   },
   "file_extension": ".py",
   "mimetype": "text/x-python",
   "name": "python",
   "nbconvert_exporter": "python",
   "pygments_lexer": "ipython3",
   "version": "3.8.11"
  },
  "orig_nbformat": 4
 },
 "nbformat": 4,
 "nbformat_minor": 2
}
