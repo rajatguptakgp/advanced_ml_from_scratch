{
 "cells": [
  {
   "cell_type": "code",
   "execution_count": 1,
   "metadata": {},
   "outputs": [],
   "source": [
    "import numpy as np\n",
    "import pandas as pd\n",
    "import matplotlib.pyplot as plt\n",
    "\n",
    "from tensorflow import keras\n",
    "from keras.models import Sequential\n",
    "from keras.layers import Dense, LSTM, Dropout, TimeDistributed\n",
    "from tensorflow.keras.callbacks import EarlyStopping\n",
    "\n",
    "from sklearn.model_selection import train_test_split"
   ]
  },
  {
   "cell_type": "markdown",
   "metadata": {},
   "source": [
    "### Named Entity Recognition\n",
    "\n",
    "Our task here is to predict the type of entity each word is in a sentence. Same word can have different entities in different sentences, so it's important to take sentences as sequence of words as input and not individual words independently. So, it's sequential modelling.\n",
    "\n",
    "It's important to note that the case is important in extracting entitites, so we should not lowercase every word and should treat lowercase and uppercase/titlecase of same word differently.\n",
    "\n",
    "#### Dataset Link: [Kaggle](https://www.kaggle.com/datasets/abhinavwalia95/entity-annotated-corpus)"
   ]
  },
  {
   "cell_type": "markdown",
   "metadata": {},
   "source": [
    "### Steps:\n",
    "\n",
    "1. **Data Preprocessing:**\n",
    "    1. Convert words into sentences\n",
    "    2. Map words/tags into unique IDs\n",
    "    3. Pad sentences to maximum sequence length using [PAD] token\n",
    "    4. Add Special Tokens:\n",
    "        1. [CLS]: Classification token to summarize sentence placed at beginning of sentence\n",
    "        2. [SEP]: Separator token to mark end of sentence, placed at end of sentence. Short sentences are padded after [SEP] token.\n",
    "        \n",
    "2. **Convert word ids to embeddings:**\n",
    "    1. Use one-hot encoding:\n",
    "        1. Increase data volume and sparsity\n",
    "        2. Considers words to independent of each other\n",
    "    2. Use embeddings of pre-defined length:\n",
    "        1. Learn an embedding layer\n",
    "        2. Pre-trained word embeddings from BERT, GLoVe, Word2Vec\n",
    "        3. Special tokens like [CLS], [SEP], [PAD] etc. have fixed embeddings (positional) from trained BERT models. However, these do not contain any information themselves.\n",
    "\n",
    "3. **Train sequence model:**\n",
    "    1. RNN/LSTM/GRU layers\n",
    "    2. Classification problem:\n",
    "        1. Softmax as final activation\n",
    "        2. Number of entities as unique classes\n",
    "\n",
    "4. **Inference:**\n",
    "    1. Prediction \n",
    "    2. Evaluation on metrics like Precision, Recall"
   ]
  },
  {
   "cell_type": "code",
   "execution_count": 2,
   "metadata": {},
   "outputs": [
    {
     "name": "stdout",
     "output_type": "stream",
     "text": [
      "Shape: (1048575, 4)\n"
     ]
    }
   ],
   "source": [
    "data = pd.read_csv('ner_dataset/ner_dataset.csv', encoding='Latin-1')\n",
    "print('Shape:', data.shape)"
   ]
  },
  {
   "cell_type": "code",
   "execution_count": 3,
   "metadata": {},
   "outputs": [
    {
     "data": {
      "text/html": [
       "<div>\n",
       "<style scoped>\n",
       "    .dataframe tbody tr th:only-of-type {\n",
       "        vertical-align: middle;\n",
       "    }\n",
       "\n",
       "    .dataframe tbody tr th {\n",
       "        vertical-align: top;\n",
       "    }\n",
       "\n",
       "    .dataframe thead th {\n",
       "        text-align: right;\n",
       "    }\n",
       "</style>\n",
       "<table border=\"1\" class=\"dataframe\">\n",
       "  <thead>\n",
       "    <tr style=\"text-align: right;\">\n",
       "      <th></th>\n",
       "      <th>Sentence #</th>\n",
       "      <th>Word</th>\n",
       "      <th>POS</th>\n",
       "      <th>Tag</th>\n",
       "    </tr>\n",
       "  </thead>\n",
       "  <tbody>\n",
       "    <tr>\n",
       "      <th>0</th>\n",
       "      <td>Sentence: 1</td>\n",
       "      <td>Thousands</td>\n",
       "      <td>NNS</td>\n",
       "      <td>O</td>\n",
       "    </tr>\n",
       "    <tr>\n",
       "      <th>1</th>\n",
       "      <td>Sentence: 1</td>\n",
       "      <td>of</td>\n",
       "      <td>IN</td>\n",
       "      <td>O</td>\n",
       "    </tr>\n",
       "  </tbody>\n",
       "</table>\n",
       "</div>"
      ],
      "text/plain": [
       "    Sentence #       Word  POS Tag\n",
       "0  Sentence: 1  Thousands  NNS   O\n",
       "1  Sentence: 1         of   IN   O"
      ]
     },
     "execution_count": 3,
     "metadata": {},
     "output_type": "execute_result"
    }
   ],
   "source": [
    "sample_size = 20000\n",
    "data = data[:sample_size]\n",
    "data = data.ffill(axis=0)\n",
    "data.head(2)"
   ]
  },
  {
   "cell_type": "code",
   "execution_count": 4,
   "metadata": {},
   "outputs": [
    {
     "data": {
      "text/plain": [
       "(4328, 17)"
      ]
     },
     "execution_count": 4,
     "metadata": {},
     "output_type": "execute_result"
    }
   ],
   "source": [
    "data.drop(columns = 'POS', inplace=True)\n",
    "num_words = data['Word'].nunique()\n",
    "num_entities = data['Tag'].nunique()\n",
    "\n",
    "num_words, num_entities"
   ]
  },
  {
   "cell_type": "code",
   "execution_count": 5,
   "metadata": {},
   "outputs": [],
   "source": [
    "# adding special tokens\n",
    "token2int = {}\n",
    "token2int['PAD'] = 0\n",
    "token2int['CLS'] = 1\n",
    "token2int['SEP'] = 2\n",
    "token2int.update(dict(zip(data['Word'].unique(), range(3, num_words+3))))\n",
    "\n",
    "int2token = {v:k for k, v in token2int.items()}\n",
    "\n",
    "tag2int = dict(zip(data['Tag'].unique(), range(num_entities)))\n",
    "int2tag = {v:k for k, v in tag2int.items()}"
   ]
  },
  {
   "cell_type": "code",
   "execution_count": 6,
   "metadata": {},
   "outputs": [],
   "source": [
    "data['Word'].replace(token2int, inplace=True)\n",
    "data['Tag'].replace(tag2int, inplace=True)"
   ]
  },
  {
   "cell_type": "code",
   "execution_count": 7,
   "metadata": {},
   "outputs": [
    {
     "name": "stdout",
     "output_type": "stream",
     "text": [
      "Shape: (903, 3)\n"
     ]
    },
    {
     "data": {
      "text/html": [
       "<div>\n",
       "<style scoped>\n",
       "    .dataframe tbody tr th:only-of-type {\n",
       "        vertical-align: middle;\n",
       "    }\n",
       "\n",
       "    .dataframe tbody tr th {\n",
       "        vertical-align: top;\n",
       "    }\n",
       "\n",
       "    .dataframe thead th {\n",
       "        text-align: right;\n",
       "    }\n",
       "</style>\n",
       "<table border=\"1\" class=\"dataframe\">\n",
       "  <thead>\n",
       "    <tr style=\"text-align: right;\">\n",
       "      <th></th>\n",
       "      <th>Sentence #</th>\n",
       "      <th>Word</th>\n",
       "      <th>Tag</th>\n",
       "    </tr>\n",
       "  </thead>\n",
       "  <tbody>\n",
       "    <tr>\n",
       "      <th>0</th>\n",
       "      <td>Sentence: 1</td>\n",
       "      <td>[3, 4, 5, 6, 7, 8, 9, 10, 11, 12, 13, 14, 15, ...</td>\n",
       "      <td>[0, 0, 0, 0, 0, 0, 1, 0, 0, 0, 0, 0, 1, 0, 0, ...</td>\n",
       "    </tr>\n",
       "    <tr>\n",
       "      <th>1</th>\n",
       "      <td>Sentence: 10</td>\n",
       "      <td>[127, 128, 129, 130, 131, 10, 132, 133, 10, 13...</td>\n",
       "      <td>[2, 0, 0, 0, 0, 0, 0, 0, 0, 0, 0, 0, 0, 0, 0, ...</td>\n",
       "    </tr>\n",
       "  </tbody>\n",
       "</table>\n",
       "</div>"
      ],
      "text/plain": [
       "     Sentence #                                               Word  \\\n",
       "0   Sentence: 1  [3, 4, 5, 6, 7, 8, 9, 10, 11, 12, 13, 14, 15, ...   \n",
       "1  Sentence: 10  [127, 128, 129, 130, 131, 10, 132, 133, 10, 13...   \n",
       "\n",
       "                                                 Tag  \n",
       "0  [0, 0, 0, 0, 0, 0, 1, 0, 0, 0, 0, 0, 1, 0, 0, ...  \n",
       "1  [2, 0, 0, 0, 0, 0, 0, 0, 0, 0, 0, 0, 0, 0, 0, ...  "
      ]
     },
     "execution_count": 7,
     "metadata": {},
     "output_type": "execute_result"
    }
   ],
   "source": [
    "df = data.groupby(['Sentence #'])[['Word', 'Tag']].agg(lambda x: list(x)).reset_index()\n",
    "print('Shape:', df.shape)\n",
    "df.head(2)"
   ]
  },
  {
   "cell_type": "code",
   "execution_count": 8,
   "metadata": {},
   "outputs": [
    {
     "name": "stdout",
     "output_type": "stream",
     "text": [
      "Maximum Sentence Length: 62\n"
     ]
    }
   ],
   "source": [
    "df['sent_length'] = df['Word'].apply(lambda x: len(x))\n",
    "max_length = np.max(df['sent_length'].values)\n",
    "max_tag_length = np.max(df['Tag'].apply(lambda x: len(x)).values)\n",
    "print('Maximum Sentence Length:', max_length)\n",
    "assert max_length == max_tag_length"
   ]
  },
  {
   "cell_type": "code",
   "execution_count": 9,
   "metadata": {},
   "outputs": [],
   "source": [
    "# adding BOS, EOS tokens\n",
    "df['Word'] = df['Word'].apply(lambda x: [token2int['CLS']] + x + [token2int['SEP']])\n",
    "\n",
    "# adding other tag for BOS, EOS tokens\n",
    "df['Tag'] = df['Tag'].apply(lambda x: [tag2int['O']] + x + [tag2int['O']])\n",
    "\n",
    "# adding padding tokens\n",
    "df['Padding'] = df['sent_length'].apply(lambda x: [0] * (max_length - x))\n",
    "df['Word'] = df['Word'] + df['Padding']\n",
    "df['Tag'] = df['Tag'] + df['Padding']"
   ]
  },
  {
   "cell_type": "code",
   "execution_count": 10,
   "metadata": {},
   "outputs": [
    {
     "data": {
      "text/plain": [
       "((903, 64, 4331), (903, 64))"
      ]
     },
     "execution_count": 10,
     "metadata": {},
     "output_type": "execute_result"
    }
   ],
   "source": [
    "# 3 extra tokens for PAD, CLS, SEP\n",
    "num_tokens = num_words + 3\n",
    "\n",
    "X = df['Word'].values\n",
    "X = np.array(list(map(lambda x: np.array(x), X)))\n",
    "X = keras.utils.to_categorical(X, num_classes=num_tokens)\n",
    "\n",
    "y = df['Tag'].values\n",
    "y = np.array(list(map(lambda x: np.array(x), y)))\n",
    "\n",
    "X.shape, y.shape"
   ]
  },
  {
   "cell_type": "code",
   "execution_count": 11,
   "metadata": {},
   "outputs": [
    {
     "data": {
      "text/plain": [
       "((722, 64, 4331), (181, 64, 4331), (722, 64), (181, 64))"
      ]
     },
     "execution_count": 11,
     "metadata": {},
     "output_type": "execute_result"
    }
   ],
   "source": [
    "X_train, X_test, y_train, y_test = train_test_split(X, y, test_size=0.2, random_state=42)\n",
    "X_train.shape, X_test.shape, y_train.shape, y_test.shape"
   ]
  },
  {
   "cell_type": "markdown",
   "metadata": {},
   "source": [
    "### Important Points:\n",
    "\n",
    "1. Since sequential data is temporal in nature, it has a time-associated component which is reflected by sequence length in its shape.\n",
    "2. **Shape of data:** [batch_size, time_steps, features]. We keep <code>return_sequences = True</code> so that the model outputs a vector at each timestep and not just at the end of sequence, to maintain the shape.\n",
    "3. Note that the sentences themselves are not temporally connected here, it's the words within a sentence that form a sequence. Hence: \n",
    "    1. We can shuffle sentences but not words\n",
    "    2. LSTM layers are **stateless**\n",
    "4. Since we already have a dimension for timesteps, applying a TimeDistributed wrapper over Dense layer is same as not applying it."
   ]
  },
  {
   "cell_type": "code",
   "execution_count": 12,
   "metadata": {},
   "outputs": [
    {
     "data": {
      "text/plain": [
       "(64, 4331)"
      ]
     },
     "execution_count": 12,
     "metadata": {},
     "output_type": "execute_result"
    }
   ],
   "source": [
    "_, num_timesteps, num_features = X.shape\n",
    "num_timesteps, num_features"
   ]
  },
  {
   "cell_type": "code",
   "execution_count": 13,
   "metadata": {},
   "outputs": [
    {
     "name": "stderr",
     "output_type": "stream",
     "text": [
      "2022-03-29 14:16:54.352851: I tensorflow/core/platform/cpu_feature_guard.cc:151] This TensorFlow binary is optimized with oneAPI Deep Neural Network Library (oneDNN) to use the following CPU instructions in performance-critical operations:  AVX2 FMA\n",
      "To enable them in other operations, rebuild TensorFlow with the appropriate compiler flags.\n"
     ]
    },
    {
     "name": "stdout",
     "output_type": "stream",
     "text": [
      "Model: \"sequential\"\n",
      "_________________________________________________________________\n",
      " Layer (type)                Output Shape              Param #   \n",
      "=================================================================\n",
      " lstm (LSTM)                 (None, 64, 100)           1772800   \n",
      "                                                                 \n",
      " dropout (Dropout)           (None, 64, 100)           0         \n",
      "                                                                 \n",
      " lstm_1 (LSTM)               (None, 64, 50)            30200     \n",
      "                                                                 \n",
      " dropout_1 (Dropout)         (None, 64, 50)            0         \n",
      "                                                                 \n",
      " dense (Dense)               (None, 64, 17)            867       \n",
      "                                                                 \n",
      "=================================================================\n",
      "Total params: 1,803,867\n",
      "Trainable params: 1,803,867\n",
      "Non-trainable params: 0\n",
      "_________________________________________________________________\n"
     ]
    }
   ],
   "source": [
    "model = Sequential()\n",
    "model.add(LSTM(100, activation='tanh', return_sequences=True, stateful=False))\n",
    "model.add(Dropout(0.25))\n",
    "model.add(LSTM(50, activation='tanh', return_sequences=True, stateful=False))\n",
    "model.add(Dropout(0.5))\n",
    "model.add(Dense(num_entities, activation='softmax'))\n",
    "\n",
    "model.build(input_shape=(None, num_timesteps, num_features))\n",
    "model.summary()"
   ]
  },
  {
   "cell_type": "code",
   "execution_count": 14,
   "metadata": {},
   "outputs": [
    {
     "name": "stdout",
     "output_type": "stream",
     "text": [
      "Epoch 1/50\n",
      "37/37 [==============================] - 13s 275ms/step - loss: 1.1842 - val_loss: 0.4582\n",
      "Epoch 2/50\n",
      "37/37 [==============================] - 9s 232ms/step - loss: 0.4130 - val_loss: 0.4071\n",
      "Epoch 3/50\n",
      "37/37 [==============================] - 9s 240ms/step - loss: 0.3900 - val_loss: 0.3906\n",
      "Epoch 4/50\n",
      "37/37 [==============================] - 9s 239ms/step - loss: 0.3746 - val_loss: 0.3791\n",
      "Epoch 5/50\n",
      "37/37 [==============================] - 9s 236ms/step - loss: 0.3605 - val_loss: 0.3647\n",
      "Epoch 6/50\n",
      "37/37 [==============================] - 9s 239ms/step - loss: 0.3478 - val_loss: 0.3457\n",
      "Epoch 7/50\n",
      "37/37 [==============================] - 10s 260ms/step - loss: 0.3290 - val_loss: 0.3225\n",
      "Epoch 8/50\n",
      "37/37 [==============================] - 9s 243ms/step - loss: 0.3057 - val_loss: 0.3097\n",
      "Epoch 9/50\n",
      "37/37 [==============================] - 8s 229ms/step - loss: 0.2845 - val_loss: 0.2896\n",
      "Epoch 10/50\n",
      "37/37 [==============================] - 8s 226ms/step - loss: 0.2672 - val_loss: 0.2755\n",
      "Epoch 11/50\n",
      "37/37 [==============================] - 8s 224ms/step - loss: 0.2526 - val_loss: 0.2789\n",
      "Epoch 12/50\n",
      "37/37 [==============================] - 8s 224ms/step - loss: 0.2396 - val_loss: 0.2543\n",
      "Epoch 13/50\n",
      "37/37 [==============================] - 8s 220ms/step - loss: 0.2294 - val_loss: 0.2450\n",
      "Epoch 14/50\n",
      "37/37 [==============================] - 8s 224ms/step - loss: 0.2131 - val_loss: 0.2336\n",
      "Epoch 15/50\n",
      "37/37 [==============================] - 8s 224ms/step - loss: 0.1973 - val_loss: 0.2440\n",
      "Epoch 16/50\n",
      "37/37 [==============================] - 8s 222ms/step - loss: 0.1809 - val_loss: 0.2829\n",
      "Epoch 17/50\n",
      "37/37 [==============================] - 9s 231ms/step - loss: 0.1708 - val_loss: 0.2080\n",
      "Epoch 18/50\n",
      "37/37 [==============================] - 9s 239ms/step - loss: 0.1529 - val_loss: 0.2011\n",
      "Epoch 19/50\n",
      "37/37 [==============================] - 9s 238ms/step - loss: 0.1676 - val_loss: 0.1880\n",
      "Epoch 20/50\n",
      "37/37 [==============================] - 9s 237ms/step - loss: 0.1387 - val_loss: 0.1889\n",
      "Epoch 21/50\n",
      "37/37 [==============================] - 9s 237ms/step - loss: 0.1263 - val_loss: 0.1879\n",
      "Epoch 22/50\n",
      "37/37 [==============================] - 9s 236ms/step - loss: 0.1198 - val_loss: 0.1946\n",
      "Epoch 23/50\n",
      "37/37 [==============================] - 9s 237ms/step - loss: 0.1132 - val_loss: 0.1905\n",
      "Epoch 24/50\n",
      "37/37 [==============================] - 9s 249ms/step - loss: 0.1076 - val_loss: 0.2047\n",
      "Epoch 25/50\n",
      "37/37 [==============================] - 9s 239ms/step - loss: 0.1025 - val_loss: 0.2029\n",
      "Epoch 26/50\n",
      "37/37 [==============================] - 8s 229ms/step - loss: 0.0986 - val_loss: 0.2122\n"
     ]
    }
   ],
   "source": [
    "model.compile(loss='sparse_categorical_crossentropy', optimizer=keras.optimizers.Adam())\n",
    "estop = EarlyStopping(patience=5)\n",
    "\n",
    "history = model.fit(X_train, y_train, epochs = 50, shuffle = True, \n",
    "                    batch_size = 16, validation_split = 0.2, verbose=1, callbacks=[estop])"
   ]
  },
  {
   "cell_type": "code",
   "execution_count": 15,
   "metadata": {},
   "outputs": [],
   "source": [
    "def plotting(train_loss, val_loss):\n",
    "    plt.figure(figsize=(15,5))\n",
    "    plt.subplot(121)\n",
    "    plt.plot(train_loss, label = 'Train Loss')\n",
    "    plt.legend()\n",
    "    plt.subplot(122)\n",
    "    plt.plot(val_loss, label = 'Validation Loss')\n",
    "    plt.legend()\n",
    "    plt.show()"
   ]
  },
  {
   "cell_type": "code",
   "execution_count": 16,
   "metadata": {},
   "outputs": [
    {
     "data": {
      "image/png": "[encoded data removed]",
      "text/plain": [
       "<Figure size 1080x360 with 2 Axes>"
      ]
     },
     "metadata": {
      "needs_background": "light"
     },
     "output_type": "display_data"
    }
   ],
   "source": [
    "train_loss = history.history['loss']\n",
    "val_loss = history.history['val_loss']\n",
    "plotting(train_loss, val_loss)"
   ]
  },
  {
   "cell_type": "code",
   "execution_count": 62,
   "metadata": {},
   "outputs": [],
   "source": [
    "y_pred = np.argmax(model.predict(X_test), axis=2)\n",
    "y_pred = np.array(list(map(lambda y: list(map(lambda x: int2tag[x], y)), y_pred)))"
   ]
  },
  {
   "cell_type": "code",
   "execution_count": 70,
   "metadata": {},
   "outputs": [],
   "source": [
    "def test_example(idx, y_pred):\n",
    "    sent = np.argmax(X_test[idx], axis=1)\n",
    "    sent = np.array(list(map(lambda x: int2token[x], sent)))\n",
    "    bos_id = np.where(sent=='CLS')[0][0]\n",
    "    eos_id = np.where(sent=='SEP')[0][0]\n",
    "\n",
    "    sent = sent[bos_id+1:eos_id]\n",
    "    pred_entities = y_pred[idx][bos_id+1:eos_id]\n",
    "    named_entities = np.where(pred_entities!='O')[0]\n",
    "\n",
    "    print('Named Entities: ', sent[named_entities])\n",
    "    print('Prediction: ', pred_entities[named_entities])\n",
    "    return "
   ]
  },
  {
   "cell_type": "code",
   "execution_count": 71,
   "metadata": {},
   "outputs": [
    {
     "name": "stdout",
     "output_type": "stream",
     "text": [
      "Named Entities:  ['Palestinian']\n",
      "Prediction:  ['B-gpe']\n"
     ]
    }
   ],
   "source": [
    "idx = 0\n",
    "test_example(idx, y_pred)"
   ]
  },
  {
   "cell_type": "code",
   "execution_count": 78,
   "metadata": {},
   "outputs": [
    {
     "name": "stdout",
     "output_type": "stream",
     "text": [
      "Named Entities:  ['Egyptian' 'Muslim' 'Brotherhood']\n",
      "Prediction:  ['B-gpe' 'B-geo' 'B-geo']\n"
     ]
    }
   ],
   "source": [
    "idx = 34\n",
    "test_example(idx, y_pred)"
   ]
  },
  {
   "cell_type": "code",
   "execution_count": null,
   "metadata": {},
   "outputs": [],
   "source": []
  }
 ],
 "metadata": {
  "interpreter": {
   "hash": "951daa5e1959839fcb325fff331f52e72634f7a1be998f6081ed7f433b63f1b3"
  },
  "kernelspec": {
   "display_name": "Python 3.8.11 64-bit ('base': conda)",
   "language": "python",
   "name": "python3"
  },
  "language_info": {
   "codemirror_mode": {
    "name": "ipython",
    "version": 3
   },
   "file_extension": ".py",
   "mimetype": "text/x-python",
   "name": "python",
   "nbconvert_exporter": "python",
   "pygments_lexer": "ipython3",
   "version": "3.8.11"
  },
  "orig_nbformat": 4
 },
 "nbformat": 4,
 "nbformat_minor": 2
}
