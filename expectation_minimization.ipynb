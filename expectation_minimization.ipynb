{
 "cells": [
  {
   "cell_type": "code",
   "execution_count": 1,
   "metadata": {},
   "outputs": [],
   "source": [
    "import numpy as np\n",
    "import seaborn as sns\n",
    "import matplotlib.pyplot as plt\n",
    "from tqdm import tqdm"
   ]
  },
  {
   "cell_type": "markdown",
   "metadata": {},
   "source": [
    "### Expectation - Minimization (E-M) algorithm\n",
    "\n",
    "Consider a scenario where you are given a set of data points coming from two classes / two different gaussian distributions. However, you don't know the class assignments and you would like to predict them. This is a simple case of unsupervised learning and one of the ways by which we can solve this by using K-Means Clustering algorithm.\n",
    "\n",
    "K-Means hard assigns the class labels i.e. it doesn't tell you the likelihood of a point belonging to two clusters. This can be important especially when the likelihood is near 0.5 for two class case i.e. the model is somewhat equally likely to assign to either of class. Nevertheless, you can try to get the likelihood by running K-Means a number of times with different inital clusters and finding the number of times each point is assigned to different classes. \n",
    "\n",
    "Expectation - Minimization (E-M) algorithm is a generative model that tries to model the distribution of various classes in data. It's an example of soft-assignment as it tells you the likelihood of a point belonging to different classes. Assuming that the data is coming from gaussian distributions, it assumes random gaussian priors initially and computes the following two steps:\n",
    "\n",
    "For each iteration:\n",
    "1. **E-Step:** Finding probability of each data point belonging to different classes $P(x|C_{i})$ and assigning it to the class where it's maximum\n",
    "2. **M-Step:** Once all the datapoints are assigned different classes in **E-Step**, updating priors by maximizing likelihood "
   ]
  },
  {
   "cell_type": "code",
   "execution_count": 2,
   "metadata": {},
   "outputs": [],
   "source": [
    "def make_distribution(mu, sigma, num_points):\n",
    "    return np.random.normal(mu, sigma, num_points)\n",
    "\n",
    "def make_data(mu1, mu2, sigma1, sigma2, num_points):\n",
    "    X1 = make_distribution(mu1, sigma1, num_points)\n",
    "    X2 = make_distribution(mu2, sigma2, num_points)\n",
    "    return X1, X2"
   ]
  },
  {
   "cell_type": "markdown",
   "metadata": {},
   "source": [
    "We will generate data from two independent gaussian distributions and mix them. The aim of E-M algorithm is to find the true distribution with which the data is generated."
   ]
  },
  {
   "cell_type": "code",
   "execution_count": 3,
   "metadata": {},
   "outputs": [],
   "source": [
    "mu1 = 5\n",
    "mu2 = 45\n",
    "sigma1 = 5\n",
    "sigma2 = 15\n",
    "num_points = 1000\n",
    "\n",
    "X1, X2 = make_data(mu1, mu2, sigma1, sigma2, num_points)\n",
    "X = np.hstack((X1, X2))\n",
    "np.random.shuffle(X)"
   ]
  },
  {
   "cell_type": "code",
   "execution_count": 4,
   "metadata": {},
   "outputs": [
    {
     "data": {
      "image/png": "[encoded data removed]",
      "text/plain": [
       "<Figure size 432x288 with 1 Axes>"
      ]
     },
     "metadata": {
      "needs_background": "light"
     },
     "output_type": "display_data"
    }
   ],
   "source": [
    "import warnings\n",
    "warnings.filterwarnings('ignore')\n",
    "\n",
    "sns.distplot(X1)\n",
    "sns.distplot(X2)\n",
    "plt.show()"
   ]
  },
  {
   "cell_type": "markdown",
   "metadata": {},
   "source": [
    "### Self-correcting mechanism of E-M algorithm\n",
    "\n",
    "Regardless of whatever initial priors you have, E-M algorithm works in a manner that it self-corrects with every iteration and converges to optimal distributions, as long as the data points are well-separated, otherwise, it may not work well.\n",
    "\n",
    "We can use uniform priors all the time i.e. not accounting for distribution of class points at every iteration, or we can keep updating the priors through the process."
   ]
  },
  {
   "cell_type": "code",
   "execution_count": 5,
   "metadata": {},
   "outputs": [],
   "source": [
    "def get_likelihood(x, mu, sigma):\n",
    "    return 1 / (sigma * np.sqrt(2 * np.pi)) * np.exp(-np.square((x - mu) / sigma))\n",
    "\n",
    "def get_probabilities(X, mean_iter1, mean_iter2, sigma_iter1, sigma_iter2):\n",
    "    # getting likelihoods for different classes\n",
    "    prob1 = list(map(lambda x: get_likelihood(x, mean_iter1, sigma_iter1), X))\n",
    "    prob2 = list(map(lambda x: get_likelihood(x, mean_iter2, sigma_iter2), X))\n",
    "\n",
    "    prob1 = np.array(prob1)\n",
    "    prob2 = np.array(prob2)\n",
    "\n",
    "    # normalizing probabilities\n",
    "    prob1, prob2 = prob1 / (prob1 + prob2), prob2 / (prob1 + prob2)\n",
    "    return prob1, prob2\n",
    "\n",
    "def get_class_points(prob1, prob2, prior=None):\n",
    "    if prior is not None:\n",
    "        prob1 = prior[0] * prob1\n",
    "        prob2 = prior[1] * prob2\n",
    "\n",
    "    labels = (prob2 > prob1) * 1\n",
    "    X1 = X[labels == 0]\n",
    "    X2 = X[labels == 1]\n",
    "    return X1, X2\n",
    "\n",
    "def get_MLE_estimates(X1, X2):\n",
    "    mean_iter1 = np.mean(X1)\n",
    "    sigma_iter1 = np.std(X1)\n",
    "\n",
    "    mean_iter2 = np.mean(X2)\n",
    "    sigma_iter2 = np.std(X2)\n",
    "    return mean_iter1, mean_iter2, sigma_iter1, sigma_iter2"
   ]
  },
  {
   "cell_type": "code",
   "execution_count": 6,
   "metadata": {},
   "outputs": [],
   "source": [
    "def run_E_M_algorithm(X, mean_iter1, mean_iter2, sigma_iter1, sigma_iter2, num_iters, use_priors=False):\n",
    "    estimates = []\n",
    "\n",
    "    # starting with uniform prior \n",
    "    prior = np.array([0.5, 0.5])\n",
    "\n",
    "    for _ in tqdm(range(num_iters)):\n",
    "        prob1, prob2 = get_probabilities(X, mean_iter1, mean_iter2, sigma_iter1, sigma_iter2)\n",
    "\n",
    "        # expectation step (E-Step)\n",
    "        if use_priors:\n",
    "            X1, X2 = get_class_points(prob1, prob2, prior)\n",
    "        else:\n",
    "            X1, X2 = get_class_points(prob1, prob2)\n",
    "        \n",
    "        # update priors\n",
    "        prior = np.array([len(X1) / len(X), 1 - len(X1) / len(X)])\n",
    "\n",
    "        # maximization step (M-Step)\n",
    "        mean_iter1, mean_iter2, sigma_iter1, sigma_iter2 = get_MLE_estimates(X1, X2)\n",
    "        estimates.append([mean_iter1, mean_iter2, sigma_iter1, sigma_iter2])\n",
    "\n",
    "    estimates = np.array(estimates)    \n",
    "    return estimates"
   ]
  },
  {
   "cell_type": "code",
   "execution_count": 7,
   "metadata": {},
   "outputs": [],
   "source": [
    "def plotting(estimates):\n",
    "    plt.figure(figsize=(20, 5))\n",
    "    plt.subplot(121)\n",
    "    plt.plot(estimates[:, 0], label='C1')\n",
    "    plt.plot(estimates[:, 1], label='C2')\n",
    "    plt.title('Mean')\n",
    "    plt.legend()\n",
    "\n",
    "    plt.subplot(122)\n",
    "    plt.title('Standard Deviation')\n",
    "    plt.plot(estimates[:, 2], label='C1')\n",
    "    plt.plot(estimates[:, 3], label='C2')\n",
    "    plt.legend()\n",
    "    plt.show()"
   ]
  },
  {
   "cell_type": "code",
   "execution_count": 8,
   "metadata": {},
   "outputs": [
    {
     "name": "stderr",
     "output_type": "stream",
     "text": [
      "100%|██████████| 200/200 [00:03<00:00, 60.85it/s]\n"
     ]
    },
    {
     "name": "stdout",
     "output_type": "stream",
     "text": [
      "Final Mean 1: 4.48\n",
      "Final Mean 2: 45.08\n",
      "Final Sigma 1: 4.74\n",
      "Final Sigma 2: 14.31\n"
     ]
    },
    {
     "data": {
      "image/png": "[encoded data removed]",
      "text/plain": [
       "<Figure size 1440x360 with 2 Axes>"
      ]
     },
     "metadata": {
      "needs_background": "light"
     },
     "output_type": "display_data"
    }
   ],
   "source": [
    "# initial random priors \n",
    "mean_iter1 = 1\n",
    "mean_iter2 = 100\n",
    "sigma_iter1 = 10\n",
    "sigma_iter2 = 10\n",
    "\n",
    "num_iters = 200\n",
    "\n",
    "estimates = run_E_M_algorithm(X, mean_iter1, mean_iter2, sigma_iter1, sigma_iter2, num_iters, use_priors=False)\n",
    "mean_iter1, mean_iter2, sigma_iter1, sigma_iter2 = estimates[-1]\n",
    "\n",
    "print('Final Mean 1:', mean_iter1.round(2))\n",
    "print('Final Mean 2:', mean_iter2.round(2))\n",
    "print('Final Sigma 1:', sigma_iter1.round(2))\n",
    "print('Final Sigma 2:', sigma_iter2.round(2))\n",
    "plotting(estimates)"
   ]
  },
  {
   "cell_type": "markdown",
   "metadata": {},
   "source": [
    "We can notice how the E-M algorithm self-corrects and converges around the true distribution parameters"
   ]
  },
  {
   "cell_type": "code",
   "execution_count": null,
   "metadata": {},
   "outputs": [],
   "source": []
  }
 ],
 "metadata": {
  "interpreter": {
   "hash": "951daa5e1959839fcb325fff331f52e72634f7a1be998f6081ed7f433b63f1b3"
  },
  "kernelspec": {
   "display_name": "Python 3.8.11 ('base')",
   "language": "python",
   "name": "python3"
  },
  "language_info": {
   "codemirror_mode": {
    "name": "ipython",
    "version": 3
   },
   "file_extension": ".py",
   "mimetype": "text/x-python",
   "name": "python",
   "nbconvert_exporter": "python",
   "pygments_lexer": "ipython3",
   "version": "3.8.11"
  },
  "orig_nbformat": 4
 },
 "nbformat": 4,
 "nbformat_minor": 2
}
