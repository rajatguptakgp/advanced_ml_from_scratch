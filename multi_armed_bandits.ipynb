{
 "cells": [
  {
   "cell_type": "code",
   "execution_count": 1,
   "metadata": {},
   "outputs": [],
   "source": [
    "import numpy as np\n",
    "import pandas as pd\n",
    "from tqdm import tqdm"
   ]
  },
  {
   "cell_type": "markdown",
   "metadata": {},
   "source": [
    "### Multi-Armed Bandits\n",
    "\n",
    "Consider a scenario where you are staying at an unknown place for some days. There are a few restaurants in that area and there is a certain amount of happiness you get from eating food from each restaurant. The happiness is numerically given by happiness index which is assumed to be normally distributed with known mean and variance (as you might not get same amount of happiness each time you eat food from a restaurant based on a lot of factors - cooking style, food quality, your mood etc.)\n",
    "\n",
    "As a rational person, your objective is to maximize the happiness index for yourself. So you are in a dilemma of whether to keep going at the same restaurant where you had supposedly best food among visited restaurants so far, or keep exploring in search of having better food. The former is called Exploitation, while the latter is called Exploration. \n",
    "\n",
    "You can do either on a day, so you are in a **Exploration-Exploitation Tradeoff**.\n",
    "\n",
    "In this notebook, we will examine and evaluate strategies that help us determine which strategy should one choose based on given parameters from a statistical standpoint."
   ]
  },
  {
   "cell_type": "code",
   "execution_count": 2,
   "metadata": {},
   "outputs": [],
   "source": [
    "n_days = 300\n",
    "n_choices = 3\n",
    "means = [10, 8, 5]\n",
    "std_devs = [5, 4, 25]\n",
    "n_iterations = 100\n",
    "eps = 0.1"
   ]
  },
  {
   "cell_type": "markdown",
   "metadata": {},
   "source": [
    "We will examine the following strategies:\n",
    "1. **Explore only:** Randomly choose a restaurant each day \n",
    "2. **Exploit only:** Test each restaurant once and have food at the restaurant from where you had the best food for the rest of days\n",
    "3. **Epsilon-Greedy:** Mix of both explore and exploit strategy:\n",
    "    1. For epsilon equal to 10%:\n",
    "        1. Explore 10%: Randomly choose a restaurant \n",
    "        2. Exploit 90%: Choose the restaurant which has given highest average reward so far\n",
    "4. **UCB-1 (Upper Confidence Bound - 1) Strategy:** \n",
    "    1. Limitation of Epsilon Greedy strategy: While calculating highest average reward, not accounting for number of visits. This is crucial in the example where you have visited a restaurant only once but happiness index encountered for that restaurant was the lowest/highest which is not a correct measure of average.\n",
    "    2. Improvement over Epsilon Greedy strategy with accounting number of visits."
   ]
  },
  {
   "cell_type": "code",
   "execution_count": 3,
   "metadata": {},
   "outputs": [],
   "source": [
    "def explore_only(means, std_devs):\n",
    "    total_reward = 0\n",
    "    n_iters = int(n_days / n_choices)\n",
    "\n",
    "    for mean, std_dev in zip(means, std_devs):\n",
    "        total_reward += np.sum(np.random.normal(mean, std_dev, n_iters))\n",
    "    return total_reward\n",
    "\n",
    "def exploit_only(means, std_devs):\n",
    "    total_reward = 0\n",
    "    rewards = []\n",
    "    for mean, std in zip(means, std_devs):\n",
    "        reward = np.random.normal(mean, std)\n",
    "        rewards.append(reward)\n",
    "        total_reward += reward\n",
    "\n",
    "    best_idx = rewards.index(max(rewards)) \n",
    "    total_reward += np.sum(np.random.normal(means[best_idx], std_devs[best_idx], n_days - n_choices))\n",
    "    return total_reward"
   ]
  },
  {
   "cell_type": "markdown",
   "metadata": {},
   "source": [
    "#### Epsilon - Greedy Strategy"
   ]
  },
  {
   "cell_type": "code",
   "execution_count": 4,
   "metadata": {},
   "outputs": [],
   "source": [
    "def get_best_strategy_eps(rewards, choices):\n",
    "    rewards = np.array(rewards)\n",
    "    choices = np.array(choices)\n",
    "\n",
    "    avg_rewards = []\n",
    "    for choice_idx in range(n_choices):\n",
    "        idxs = np.where(choices==choice_idx)[0]\n",
    "        \n",
    "        if len(idxs):\n",
    "            avg_reward = np.mean(rewards[idxs])\n",
    "        else:\n",
    "            avg_reward = 0\n",
    "\n",
    "        avg_rewards.append(avg_reward)\n",
    "    choice_idx = avg_rewards.index(max(avg_rewards))\n",
    "    return choice_idx\n",
    "\n",
    "def eps_greedy(means, std_devs):\n",
    "    total_reward = 0\n",
    "    rewards = []\n",
    "    choices = []\n",
    "\n",
    "    for _ in range(n_days):\n",
    "        strategy = np.random.choice([0,1], p=[eps, 1-eps])\n",
    "\n",
    "        if strategy==0:\n",
    "            # explore\n",
    "            choice_idx = np.random.choice(n_choices)\n",
    "        else:\n",
    "            # exploit\n",
    "            # choose based on maximum average reward so far\n",
    "            choice_idx = get_best_strategy_eps(rewards, choices)\n",
    "\n",
    "        reward = np.random.normal(means[choice_idx], std_devs[choice_idx])\n",
    "        total_reward += reward\n",
    "        rewards.append(reward)\n",
    "        choices.append(choice_idx)\n",
    "    return total_reward"
   ]
  },
  {
   "cell_type": "markdown",
   "metadata": {},
   "source": [
    "#### UCB1 Strategy"
   ]
  },
  {
   "cell_type": "code",
   "execution_count": 5,
   "metadata": {},
   "outputs": [],
   "source": [
    "def get_best_strategy_ucb(time_idx, rewards, choices):\n",
    "    rewards = np.array(rewards)\n",
    "    choices = np.array(choices)\n",
    "\n",
    "    avg_rewards = []\n",
    "    for choice_idx in range(n_choices):\n",
    "        idxs = np.where(choices==choice_idx)[0]\n",
    "        \n",
    "        if len(idxs):\n",
    "            avg_reward = np.mean(rewards[idxs]) + np.sqrt(2 * np.log(time_idx) / len(idxs))\n",
    "        else:\n",
    "            avg_reward = 0\n",
    "\n",
    "        avg_rewards.append(avg_reward)\n",
    "    choice_idx = avg_rewards.index(max(avg_rewards))\n",
    "    return choice_idx\n",
    "\n",
    "def ucb1_strategy(means, std_devs):\n",
    "    total_reward = 0\n",
    "    rewards = []\n",
    "    choices = []\n",
    "\n",
    "    for time_idx in range(1, n_days+1):\n",
    "        strategy = np.random.choice([0,1], p=[eps, 1-eps])\n",
    "\n",
    "        if strategy==0:\n",
    "            # explore\n",
    "            choice_idx = np.random.choice(n_choices)\n",
    "        else:\n",
    "            # exploit\n",
    "            # choose based on maximum average reward so far\n",
    "            choice_idx = get_best_strategy_ucb(time_idx, rewards, choices)\n",
    "\n",
    "        reward = np.random.normal(means[choice_idx], std_devs[choice_idx])\n",
    "        total_reward += reward\n",
    "        rewards.append(reward)\n",
    "        choices.append(choice_idx)\n",
    "    return total_reward"
   ]
  },
  {
   "cell_type": "markdown",
   "metadata": {},
   "source": [
    "### Comparison between strategies"
   ]
  },
  {
   "cell_type": "code",
   "execution_count": 6,
   "metadata": {},
   "outputs": [
    {
     "name": "stdout",
     "output_type": "stream",
     "text": [
      "Explore Only: 2252\n",
      "Exploit Only: 2274\n",
      "Epsilon Greedy: 2881\n",
      "UCB1: 2861\n"
     ]
    }
   ],
   "source": [
    "def get_expected_reward(strategy, means, std_devs):\n",
    "    expected_reward = []\n",
    "    for _ in range(n_iterations):\n",
    "        expected_reward.append(strategy(means, std_devs))\n",
    "    return int(np.mean(expected_reward))\n",
    "\n",
    "print('Explore Only:', get_expected_reward(explore_only, means, std_devs))\n",
    "print('Exploit Only:', get_expected_reward(exploit_only, means, std_devs))\n",
    "print('Epsilon Greedy:', get_expected_reward(eps_greedy, means, std_devs))\n",
    "print('UCB1:', get_expected_reward(ucb1_strategy, means, std_devs))"
   ]
  },
  {
   "cell_type": "markdown",
   "metadata": {},
   "source": [
    "#### Points to note:\n",
    "1. We can see that Epsilon Greedy strategy which is a mixture of exploitation-exploration is a better strategy compared to exploration or exploitation only **given the parameters**. However, it may not always be the case and one should evaluate all strategies based on given parameters.\n",
    "2. Since the number of choices of restaurants was low here, UCB1 strategy might not have been able to stand out from Epsilon Greedy strategy."
   ]
  },
  {
   "cell_type": "markdown",
   "metadata": {},
   "source": [
    "Let's consider a general scenario with a large number of restaurants/choices."
   ]
  },
  {
   "cell_type": "code",
   "execution_count": 7,
   "metadata": {},
   "outputs": [],
   "source": [
    "n_days = 300\n",
    "mean_factor = 3\n",
    "num_choices = [3, 10, 100]\n",
    "deviation_ratios = [0.1, 0.5, 1]\n",
    "n_iterations = 100\n",
    "eps = 0.1"
   ]
  },
  {
   "cell_type": "code",
   "execution_count": 8,
   "metadata": {},
   "outputs": [],
   "source": [
    "def get_mean_std(mean_factor, n_choices, deviation_ratio):\n",
    "    means = mean_factor * np.arange(1, n_choices+1)\n",
    "    std_devs = means * deviation_ratio\n",
    "    return means, std_devs\n",
    "\n",
    "def get_rewards(means, std_devs):\n",
    "    val1 = get_expected_reward(explore_only, means, std_devs)\n",
    "    val2 = get_expected_reward(exploit_only, means, std_devs)\n",
    "    val3 = get_expected_reward(eps_greedy, means, std_devs)\n",
    "    val4 = get_expected_reward(ucb1_strategy, means, std_devs)\n",
    "    return [val1, val2, val3, val4]"
   ]
  },
  {
   "cell_type": "code",
   "execution_count": 9,
   "metadata": {},
   "outputs": [
    {
     "name": "stderr",
     "output_type": "stream",
     "text": [
      "100%|██████████| 3/3 [01:59<00:00, 39.81s/it]\n"
     ]
    }
   ],
   "source": [
    "vals = []\n",
    "for n_choices in tqdm(num_choices):\n",
    "    for deviation_ratio in deviation_ratios:\n",
    "        means, std_devs = get_mean_std(mean_factor, n_choices, deviation_ratio)    \n",
    "        val = [n_choices] + [deviation_ratio] + get_rewards(means, std_devs)\n",
    "        vals.append(val)"
   ]
  },
  {
   "cell_type": "code",
   "execution_count": 10,
   "metadata": {},
   "outputs": [
    {
     "data": {
      "text/html": [
       "<div>\n",
       "<style scoped>\n",
       "    .dataframe tbody tr th:only-of-type {\n",
       "        vertical-align: middle;\n",
       "    }\n",
       "\n",
       "    .dataframe tbody tr th {\n",
       "        vertical-align: top;\n",
       "    }\n",
       "\n",
       "    .dataframe thead th {\n",
       "        text-align: right;\n",
       "    }\n",
       "</style>\n",
       "<table border=\"1\" class=\"dataframe\">\n",
       "  <thead>\n",
       "    <tr style=\"text-align: right;\">\n",
       "      <th></th>\n",
       "      <th>n_choices</th>\n",
       "      <th>deviation_ratio</th>\n",
       "      <th>explore</th>\n",
       "      <th>exploit</th>\n",
       "      <th>eps_greedy</th>\n",
       "      <th>ucb1_strategy</th>\n",
       "    </tr>\n",
       "  </thead>\n",
       "  <tbody>\n",
       "    <tr>\n",
       "      <th>0</th>\n",
       "      <td>3</td>\n",
       "      <td>0.1</td>\n",
       "      <td>1801</td>\n",
       "      <td>2692</td>\n",
       "      <td>2488</td>\n",
       "      <td>2497</td>\n",
       "    </tr>\n",
       "    <tr>\n",
       "      <th>1</th>\n",
       "      <td>3</td>\n",
       "      <td>0.5</td>\n",
       "      <td>1801</td>\n",
       "      <td>2374</td>\n",
       "      <td>2433</td>\n",
       "      <td>2462</td>\n",
       "    </tr>\n",
       "    <tr>\n",
       "      <th>2</th>\n",
       "      <td>3</td>\n",
       "      <td>1.0</td>\n",
       "      <td>1796</td>\n",
       "      <td>2235</td>\n",
       "      <td>2338</td>\n",
       "      <td>2338</td>\n",
       "    </tr>\n",
       "    <tr>\n",
       "      <th>3</th>\n",
       "      <td>10</td>\n",
       "      <td>0.1</td>\n",
       "      <td>4948</td>\n",
       "      <td>8708</td>\n",
       "      <td>7779</td>\n",
       "      <td>7801</td>\n",
       "    </tr>\n",
       "    <tr>\n",
       "      <th>4</th>\n",
       "      <td>10</td>\n",
       "      <td>0.5</td>\n",
       "      <td>4948</td>\n",
       "      <td>7675</td>\n",
       "      <td>7579</td>\n",
       "      <td>7539</td>\n",
       "    </tr>\n",
       "    <tr>\n",
       "      <th>5</th>\n",
       "      <td>10</td>\n",
       "      <td>1.0</td>\n",
       "      <td>4989</td>\n",
       "      <td>7462</td>\n",
       "      <td>7145</td>\n",
       "      <td>7152</td>\n",
       "    </tr>\n",
       "    <tr>\n",
       "      <th>6</th>\n",
       "      <td>100</td>\n",
       "      <td>0.1</td>\n",
       "      <td>45489</td>\n",
       "      <td>73203</td>\n",
       "      <td>73998</td>\n",
       "      <td>75458</td>\n",
       "    </tr>\n",
       "    <tr>\n",
       "      <th>7</th>\n",
       "      <td>100</td>\n",
       "      <td>0.5</td>\n",
       "      <td>45292</td>\n",
       "      <td>70288</td>\n",
       "      <td>72056</td>\n",
       "      <td>71434</td>\n",
       "    </tr>\n",
       "    <tr>\n",
       "      <th>8</th>\n",
       "      <td>100</td>\n",
       "      <td>1.0</td>\n",
       "      <td>45897</td>\n",
       "      <td>67521</td>\n",
       "      <td>68164</td>\n",
       "      <td>68930</td>\n",
       "    </tr>\n",
       "  </tbody>\n",
       "</table>\n",
       "</div>"
      ],
      "text/plain": [
       "   n_choices  deviation_ratio  explore  exploit  eps_greedy  ucb1_strategy\n",
       "0          3              0.1     1801     2692        2488           2497\n",
       "1          3              0.5     1801     2374        2433           2462\n",
       "2          3              1.0     1796     2235        2338           2338\n",
       "3         10              0.1     4948     8708        7779           7801\n",
       "4         10              0.5     4948     7675        7579           7539\n",
       "5         10              1.0     4989     7462        7145           7152\n",
       "6        100              0.1    45489    73203       73998          75458\n",
       "7        100              0.5    45292    70288       72056          71434\n",
       "8        100              1.0    45897    67521       68164          68930"
      ]
     },
     "execution_count": 10,
     "metadata": {},
     "output_type": "execute_result"
    }
   ],
   "source": [
    "cols = ['n_choices', 'deviation_ratio', 'explore', 'exploit', 'eps_greedy', 'ucb1_strategy']\n",
    "data = np.array(vals)\n",
    "df = pd.DataFrame(data, columns = cols)\n",
    "cols.remove('deviation_ratio')\n",
    "df[cols] = df[cols].astype('int')\n",
    "df"
   ]
  },
  {
   "cell_type": "markdown",
   "metadata": {},
   "source": [
    "### Observations:\n",
    "\n",
    "1. Exploration only is never the best strategy. In other terms, randomization is not really a strategy. "
   ]
  },
  {
   "cell_type": "code",
   "execution_count": 11,
   "metadata": {},
   "outputs": [
    {
     "data": {
      "text/html": [
       "<div>\n",
       "<style scoped>\n",
       "    .dataframe tbody tr th:only-of-type {\n",
       "        vertical-align: middle;\n",
       "    }\n",
       "\n",
       "    .dataframe tbody tr th {\n",
       "        vertical-align: top;\n",
       "    }\n",
       "\n",
       "    .dataframe thead th {\n",
       "        text-align: right;\n",
       "    }\n",
       "</style>\n",
       "<table border=\"1\" class=\"dataframe\">\n",
       "  <thead>\n",
       "    <tr style=\"text-align: right;\">\n",
       "      <th></th>\n",
       "      <th>n_choices</th>\n",
       "      <th>deviation_ratio</th>\n",
       "      <th>explore</th>\n",
       "      <th>exploit</th>\n",
       "      <th>eps_greedy</th>\n",
       "      <th>ucb1_strategy</th>\n",
       "    </tr>\n",
       "  </thead>\n",
       "  <tbody>\n",
       "    <tr>\n",
       "      <th>0</th>\n",
       "      <td>3</td>\n",
       "      <td>0.1</td>\n",
       "      <td>1801</td>\n",
       "      <td>2692</td>\n",
       "      <td>2488</td>\n",
       "      <td>2497</td>\n",
       "    </tr>\n",
       "    <tr>\n",
       "      <th>3</th>\n",
       "      <td>10</td>\n",
       "      <td>0.1</td>\n",
       "      <td>4948</td>\n",
       "      <td>8708</td>\n",
       "      <td>7779</td>\n",
       "      <td>7801</td>\n",
       "    </tr>\n",
       "    <tr>\n",
       "      <th>6</th>\n",
       "      <td>100</td>\n",
       "      <td>0.1</td>\n",
       "      <td>45489</td>\n",
       "      <td>73203</td>\n",
       "      <td>73998</td>\n",
       "      <td>75458</td>\n",
       "    </tr>\n",
       "  </tbody>\n",
       "</table>\n",
       "</div>"
      ],
      "text/plain": [
       "   n_choices  deviation_ratio  explore  exploit  eps_greedy  ucb1_strategy\n",
       "0          3              0.1     1801     2692        2488           2497\n",
       "3         10              0.1     4948     8708        7779           7801\n",
       "6        100              0.1    45489    73203       73998          75458"
      ]
     },
     "execution_count": 11,
     "metadata": {},
     "output_type": "execute_result"
    }
   ],
   "source": [
    "df[df['deviation_ratio']==0.1]"
   ]
  },
  {
   "cell_type": "code",
   "execution_count": 12,
   "metadata": {},
   "outputs": [
    {
     "data": {
      "text/html": [
       "<div>\n",
       "<style scoped>\n",
       "    .dataframe tbody tr th:only-of-type {\n",
       "        vertical-align: middle;\n",
       "    }\n",
       "\n",
       "    .dataframe tbody tr th {\n",
       "        vertical-align: top;\n",
       "    }\n",
       "\n",
       "    .dataframe thead th {\n",
       "        text-align: right;\n",
       "    }\n",
       "</style>\n",
       "<table border=\"1\" class=\"dataframe\">\n",
       "  <thead>\n",
       "    <tr style=\"text-align: right;\">\n",
       "      <th></th>\n",
       "      <th>n_choices</th>\n",
       "      <th>deviation_ratio</th>\n",
       "      <th>explore</th>\n",
       "      <th>exploit</th>\n",
       "      <th>eps_greedy</th>\n",
       "      <th>ucb1_strategy</th>\n",
       "    </tr>\n",
       "  </thead>\n",
       "  <tbody>\n",
       "    <tr>\n",
       "      <th>2</th>\n",
       "      <td>3</td>\n",
       "      <td>1.0</td>\n",
       "      <td>1796</td>\n",
       "      <td>2235</td>\n",
       "      <td>2338</td>\n",
       "      <td>2338</td>\n",
       "    </tr>\n",
       "    <tr>\n",
       "      <th>5</th>\n",
       "      <td>10</td>\n",
       "      <td>1.0</td>\n",
       "      <td>4989</td>\n",
       "      <td>7462</td>\n",
       "      <td>7145</td>\n",
       "      <td>7152</td>\n",
       "    </tr>\n",
       "    <tr>\n",
       "      <th>8</th>\n",
       "      <td>100</td>\n",
       "      <td>1.0</td>\n",
       "      <td>45897</td>\n",
       "      <td>67521</td>\n",
       "      <td>68164</td>\n",
       "      <td>68930</td>\n",
       "    </tr>\n",
       "  </tbody>\n",
       "</table>\n",
       "</div>"
      ],
      "text/plain": [
       "   n_choices  deviation_ratio  explore  exploit  eps_greedy  ucb1_strategy\n",
       "2          3              1.0     1796     2235        2338           2338\n",
       "5         10              1.0     4989     7462        7145           7152\n",
       "8        100              1.0    45897    67521       68164          68930"
      ]
     },
     "execution_count": 12,
     "metadata": {},
     "output_type": "execute_result"
    }
   ],
   "source": [
    "df[df['deviation_ratio']==1]"
   ]
  },
  {
   "cell_type": "markdown",
   "metadata": {},
   "source": [
    "### Observations:\n",
    "\n",
    "1. If deviation ratio is less, that means that there isn't much variation in happiness and so we need not explore it much. So, exploitation strategy dominates. \n",
    "2. However, if number of choices are high, it can compensate for lower deviation ratio, so mixture of exploitation-exploration is necessary.\n",
    "3. At the same time, if deviation ratio is high, there is large variation in happiness which will be gauged after enough exploration and so exploration is necessary, so combination of exploration-exploitation dominates."
   ]
  },
  {
   "cell_type": "code",
   "execution_count": 13,
   "metadata": {},
   "outputs": [
    {
     "data": {
      "text/html": [
       "<div>\n",
       "<style scoped>\n",
       "    .dataframe tbody tr th:only-of-type {\n",
       "        vertical-align: middle;\n",
       "    }\n",
       "\n",
       "    .dataframe tbody tr th {\n",
       "        vertical-align: top;\n",
       "    }\n",
       "\n",
       "    .dataframe thead th {\n",
       "        text-align: right;\n",
       "    }\n",
       "</style>\n",
       "<table border=\"1\" class=\"dataframe\">\n",
       "  <thead>\n",
       "    <tr style=\"text-align: right;\">\n",
       "      <th></th>\n",
       "      <th>n_choices</th>\n",
       "      <th>deviation_ratio</th>\n",
       "      <th>explore</th>\n",
       "      <th>exploit</th>\n",
       "      <th>eps_greedy</th>\n",
       "      <th>ucb1_strategy</th>\n",
       "    </tr>\n",
       "  </thead>\n",
       "  <tbody>\n",
       "    <tr>\n",
       "      <th>6</th>\n",
       "      <td>100</td>\n",
       "      <td>0.1</td>\n",
       "      <td>45489</td>\n",
       "      <td>73203</td>\n",
       "      <td>73998</td>\n",
       "      <td>75458</td>\n",
       "    </tr>\n",
       "    <tr>\n",
       "      <th>7</th>\n",
       "      <td>100</td>\n",
       "      <td>0.5</td>\n",
       "      <td>45292</td>\n",
       "      <td>70288</td>\n",
       "      <td>72056</td>\n",
       "      <td>71434</td>\n",
       "    </tr>\n",
       "    <tr>\n",
       "      <th>8</th>\n",
       "      <td>100</td>\n",
       "      <td>1.0</td>\n",
       "      <td>45897</td>\n",
       "      <td>67521</td>\n",
       "      <td>68164</td>\n",
       "      <td>68930</td>\n",
       "    </tr>\n",
       "  </tbody>\n",
       "</table>\n",
       "</div>"
      ],
      "text/plain": [
       "   n_choices  deviation_ratio  explore  exploit  eps_greedy  ucb1_strategy\n",
       "6        100              0.1    45489    73203       73998          75458\n",
       "7        100              0.5    45292    70288       72056          71434\n",
       "8        100              1.0    45897    67521       68164          68930"
      ]
     },
     "execution_count": 13,
     "metadata": {},
     "output_type": "execute_result"
    }
   ],
   "source": [
    "df[df['n_choices']==100]"
   ]
  },
  {
   "cell_type": "markdown",
   "metadata": {},
   "source": [
    "### Observations:\n",
    "\n",
    "1. If number of choices increase, exploitation strategy doesn't dominate as you need exploration."
   ]
  },
  {
   "cell_type": "code",
   "execution_count": null,
   "metadata": {},
   "outputs": [],
   "source": []
  }
 ],
 "metadata": {
  "interpreter": {
   "hash": "951daa5e1959839fcb325fff331f52e72634f7a1be998f6081ed7f433b63f1b3"
  },
  "kernelspec": {
   "display_name": "Python 3.8.11 64-bit ('base': conda)",
   "language": "python",
   "name": "python3"
  },
  "language_info": {
   "codemirror_mode": {
    "name": "ipython",
    "version": 3
   },
   "file_extension": ".py",
   "mimetype": "text/x-python",
   "name": "python",
   "nbconvert_exporter": "python",
   "pygments_lexer": "ipython3",
   "version": "3.8.11"
  },
  "orig_nbformat": 4
 },
 "nbformat": 4,
 "nbformat_minor": 2
}
