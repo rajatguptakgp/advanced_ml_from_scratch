{
 "cells": [
  {
   "cell_type": "code",
   "execution_count": 1,
   "metadata": {},
   "outputs": [],
   "source": [
    "import cv2\n",
    "import numpy as np\n",
    "import matplotlib.pyplot as plt\n",
    "import tensorflow as tf\n",
    "from tensorflow import keras\n",
    "from keras.layers import Conv2D, Conv2DTranspose, MaxPool2D, Input, BatchNormalization, Dropout, Dense, Flatten\n",
    "from keras.models import Model, Sequential\n",
    "from keras.preprocessing.image import ImageDataGenerator\n",
    "from sklearn.metrics import balanced_accuracy_score"
   ]
  },
  {
   "cell_type": "markdown",
   "metadata": {},
   "source": [
    "### Denoising Autoencoder (DAE)\n",
    "\n",
    "Denoising Autoencoders or DAEs come under the set of unsupervised approaches in Machine Learning. The idea of DAEs is to make the model robust by feeding the model noisy input so that it can learn better. By adding noise to input, we are making it difficult for the NN to learn, similar to dropout where we randomly turn off neurons. The latter (similar to former) also aims to induce some amount of regularization (or randomness) in learning therby making the model robust and prevent overfitting.\n",
    "\n",
    "DAEs can also be used to dimensionally reduce the data. In the reduced latent/embedding space, in order to be able to recognize objects in image or perform other tasks, the model is going to focus on the most informative parts of input and learn to store that information in embedded (constrained) space therby eliminating noise as well."
   ]
  },
  {
   "cell_type": "code",
   "execution_count": 2,
   "metadata": {},
   "outputs": [],
   "source": [
    "img_size = 28\n",
    "num_classes = 10\n",
    "learning_rate = 1E-4\n",
    "n_epochs = 15\n",
    "batch_size = 64\n",
    "sample_pct = 0.05"
   ]
  },
  {
   "cell_type": "markdown",
   "metadata": {},
   "source": [
    "In this notebook, we build DAE on MNIST dataset. We will build a small model having downsampling (encoder) and upsampling (decoder) path, similar to UNet, ensuring the size of output is same as that of input, and minimize the reconstruction loss using MSE loss function."
   ]
  },
  {
   "cell_type": "code",
   "execution_count": 3,
   "metadata": {},
   "outputs": [
    {
     "data": {
      "text/plain": [
       "((3000, 28, 28), (3000,), (10000, 28, 28), (10000,))"
      ]
     },
     "execution_count": 3,
     "metadata": {},
     "output_type": "execute_result"
    }
   ],
   "source": [
    "(X, y), (X_test, y_test) = keras.datasets.mnist.load_data()\n",
    "idx = np.arange(len(X))\n",
    "np.random.shuffle(idx)\n",
    "\n",
    "# sampling for faster training\n",
    "sample_size = int(sample_pct * len(X))\n",
    "sample_idxs = idx[:sample_size]\n",
    "X = X[sample_idxs]\n",
    "y = y[sample_idxs]\n",
    "\n",
    "X.shape, y.shape, X_test.shape, y_test.shape"
   ]
  },
  {
   "cell_type": "code",
   "execution_count": 4,
   "metadata": {},
   "outputs": [
    {
     "name": "stdout",
     "output_type": "stream",
     "text": [
      "Label: 2\n",
      "Noise strength: 44 pixels\n"
     ]
    },
    {
     "data": {
      "image/png": "[encoded data removed]",
      "text/plain": [
       "<Figure size 1440x360 with 2 Axes>"
      ]
     },
     "metadata": {
      "needs_background": "light"
     },
     "output_type": "display_data"
    }
   ],
   "source": [
    "def add_noise(img, print_strength=False):\n",
    "    mu = np.mean(img)\n",
    "    sigma = np.std(img)\n",
    "    img = (img - mu) / sigma\n",
    "\n",
    "    std_noise = np.abs(np.random.normal())\n",
    "    std_noise = np.clip(std_noise, -1, 1)\n",
    "\n",
    "    if print_strength:\n",
    "        print(f'Noise strength: {int(std_noise * 255)} pixels')\n",
    "    noise = np.random.normal(0, std_noise, img.shape)\n",
    "    \n",
    "    img += noise\n",
    "    img = img * sigma + mu\n",
    "    img = np.clip(img, 0, 255)\n",
    "    img = img.astype('uint8')\n",
    "    return img\n",
    "    \n",
    "idx = 89\n",
    "label = y[idx]\n",
    "img = X[idx]\n",
    "print('Label:', label)\n",
    "\n",
    "plt.figure(figsize=(20,5))\n",
    "plt.subplot(131)\n",
    "plt.imshow(img)\n",
    "plt.title('Original Image')\n",
    "\n",
    "plt.subplot(132)\n",
    "noised_image = add_noise(img, print_strength=True)\n",
    "plt.imshow(noised_image)\n",
    "plt.title('Noised Image')\n",
    "plt.show()"
   ]
  },
  {
   "cell_type": "code",
   "execution_count": 5,
   "metadata": {},
   "outputs": [
    {
     "name": "stdout",
     "output_type": "stream",
     "text": [
      "Model: \"model\"\n",
      "_________________________________________________________________\n",
      " Layer (type)                Output Shape              Param #   \n",
      "=================================================================\n",
      " input_1 (InputLayer)        [(None, 28, 28, 1)]       0         \n",
      "                                                                 \n",
      " conv2d (Conv2D)             (None, 27, 27, 64)        320       \n",
      "                                                                 \n",
      " conv2d_1 (Conv2D)           (None, 26, 26, 128)       32896     \n",
      "                                                                 \n",
      " max_pooling2d (MaxPooling2D  (None, 13, 13, 128)      0         \n",
      " )                                                               \n",
      "                                                                 \n",
      " batch_normalization (BatchN  (None, 13, 13, 128)      512       \n",
      " ormalization)                                                   \n",
      "                                                                 \n",
      " embedding (Dropout)         (None, 13, 13, 128)       0         \n",
      "                                                                 \n",
      " conv2d_transpose (Conv2DTra  (None, 27, 27, 128)      65664     \n",
      " nspose)                                                         \n",
      "                                                                 \n",
      " conv2d_transpose_1 (Conv2DT  (None, 28, 28, 64)       32832     \n",
      " ranspose)                                                       \n",
      "                                                                 \n",
      " conv2d_transpose_2 (Conv2DT  (None, 28, 28, 1)        65        \n",
      " ranspose)                                                       \n",
      "                                                                 \n",
      "=================================================================\n",
      "Total params: 132,289\n",
      "Trainable params: 132,033\n",
      "Non-trainable params: 256\n",
      "_________________________________________________________________\n"
     ]
    },
    {
     "name": "stderr",
     "output_type": "stream",
     "text": [
      "2022-04-04 14:34:28.517822: I tensorflow/core/platform/cpu_feature_guard.cc:151] This TensorFlow binary is optimized with oneAPI Deep Neural Network Library (oneDNN) to use the following CPU instructions in performance-critical operations:  AVX2 FMA\n",
      "To enable them in other operations, rebuild TensorFlow with the appropriate compiler flags.\n"
     ]
    }
   ],
   "source": [
    "inp = Input(shape=(img_size, img_size, 1))\n",
    "\n",
    "# encoder\n",
    "x = Conv2D(64, kernel_size=(2,2), activation='relu')(inp)\n",
    "x = Conv2D(128, kernel_size=(2,2), activation='relu')(x)\n",
    "x = MaxPool2D(pool_size=(2,2))(x)\n",
    "\n",
    "# embedding\n",
    "x = BatchNormalization()(x)\n",
    "emb = Dropout(0.25, name='embedding')(x)\n",
    "\n",
    "# decoder\n",
    "x = Conv2DTranspose(128, kernel_size=(2,2), strides=(2,2), output_padding=(1,1), activation='relu')(emb)\n",
    "x = Conv2DTranspose(64, kernel_size=(2,2), activation='relu')(x)\n",
    "out = Conv2DTranspose(1, kernel_size=(1,1), activation='relu')(x)\n",
    "\n",
    "model = Model(inputs = inp, outputs = out)\n",
    "model.summary()"
   ]
  },
  {
   "cell_type": "code",
   "execution_count": 6,
   "metadata": {},
   "outputs": [],
   "source": [
    "def add_noise(img):\n",
    "    std_noise = np.abs(np.random.normal())\n",
    "    std_noise = np.clip(std_noise, -1, 1)\n",
    "    noise = np.random.normal(0, std_noise, img.shape)\n",
    "    img += noise\n",
    "    img = np.clip(img, 0, 255)\n",
    "    return img\n",
    "\n",
    "datagen = ImageDataGenerator(samplewise_center=True, samplewise_std_normalization=True, \n",
    "                            dtype='uint8', preprocessing_function = add_noise, validation_split=0.2)\n",
    "\n",
    "X = np.expand_dims(X, axis=3)\n",
    "X_test = np.expand_dims(X_test, axis=3)\n",
    "train_img_generator = datagen.flow(X, X, batch_size=batch_size, subset='training')\n",
    "val_img_generator = datagen.flow(X, X, batch_size=batch_size, subset='validation')"
   ]
  },
  {
   "cell_type": "code",
   "execution_count": 7,
   "metadata": {},
   "outputs": [
    {
     "name": "stdout",
     "output_type": "stream",
     "text": [
      "Epoch 1/15\n",
      "38/38 [==============================] - 8s 197ms/step - loss: 6948.4043 - val_loss: 7123.0498\n",
      "Epoch 2/15\n",
      "38/38 [==============================] - 7s 191ms/step - loss: 6003.2124 - val_loss: 6762.1890\n",
      "Epoch 3/15\n",
      "38/38 [==============================] - 8s 218ms/step - loss: 3673.5837 - val_loss: 5585.6309\n",
      "Epoch 4/15\n",
      "38/38 [==============================] - 8s 204ms/step - loss: 1467.3507 - val_loss: 4346.4570\n",
      "Epoch 5/15\n",
      "38/38 [==============================] - 8s 217ms/step - loss: 931.6094 - val_loss: 3935.5520\n",
      "Epoch 6/15\n",
      "38/38 [==============================] - 8s 214ms/step - loss: 830.6100 - val_loss: 3764.6262\n",
      "Epoch 7/15\n",
      "38/38 [==============================] - 8s 205ms/step - loss: 744.6379 - val_loss: 3467.0830\n",
      "Epoch 8/15\n",
      "38/38 [==============================] - 7s 193ms/step - loss: 656.8395 - val_loss: 3249.1863\n",
      "Epoch 9/15\n",
      "38/38 [==============================] - 8s 209ms/step - loss: 564.7885 - val_loss: 2925.0881\n",
      "Epoch 10/15\n",
      "38/38 [==============================] - 8s 210ms/step - loss: 477.4083 - val_loss: 2576.4697\n",
      "Epoch 11/15\n",
      "38/38 [==============================] - 8s 201ms/step - loss: 400.5104 - val_loss: 2111.2915\n",
      "Epoch 12/15\n",
      "38/38 [==============================] - 7s 196ms/step - loss: 339.7397 - val_loss: 1604.0522\n",
      "Epoch 13/15\n",
      "38/38 [==============================] - 7s 196ms/step - loss: 294.6545 - val_loss: 1174.8157\n",
      "Epoch 14/15\n",
      "38/38 [==============================] - 8s 202ms/step - loss: 262.7781 - val_loss: 793.7055\n",
      "Epoch 15/15\n",
      "38/38 [==============================] - 8s 205ms/step - loss: 237.8786 - val_loss: 527.7601\n"
     ]
    }
   ],
   "source": [
    "optimizer = keras.optimizers.Adam(learning_rate=learning_rate)\n",
    "model.compile(loss='mean_squared_error', optimizer=optimizer)\n",
    "\n",
    "history = model.fit(train_img_generator, epochs = n_epochs, shuffle = True, \n",
    "                    validation_data = val_img_generator, verbose=1)"
   ]
  },
  {
   "cell_type": "code",
   "execution_count": 8,
   "metadata": {},
   "outputs": [
    {
     "data": {
      "image/png": "[encoded data removed]",
      "text/plain": [
       "<Figure size 1080x360 with 2 Axes>"
      ]
     },
     "metadata": {
      "needs_background": "light"
     },
     "output_type": "display_data"
    }
   ],
   "source": [
    "def plotting(train_loss, val_loss):\n",
    "    plt.figure(figsize=(15,5))\n",
    "    plt.subplot(121)\n",
    "    plt.plot(range(1, n_epochs+1), train_loss, label = 'Train Loss')\n",
    "    plt.legend()\n",
    "    \n",
    "    plt.subplot(122)\n",
    "    plt.plot(range(1, n_epochs+1), val_loss, label = 'Validation Loss')\n",
    "    plt.legend()\n",
    "\n",
    "train_loss = history.history['loss']\n",
    "val_loss = history.history['val_loss']\n",
    "plotting(train_loss, val_loss)    "
   ]
  },
  {
   "cell_type": "code",
   "execution_count": 9,
   "metadata": {},
   "outputs": [],
   "source": [
    "def predict_example(idx, X_true, X_pred):\n",
    "    gt = np.squeeze(X_true[idx])\n",
    "    prediction = np.squeeze(X_pred[idx])\n",
    "\n",
    "    plt.subplot(121)\n",
    "    plt.imshow(gt)\n",
    "\n",
    "    plt.subplot(122)\n",
    "    plt.imshow(prediction)\n",
    "    plt.show()"
   ]
  },
  {
   "cell_type": "code",
   "execution_count": 10,
   "metadata": {},
   "outputs": [
    {
     "data": {
      "image/png": "[encoded data removed]",
      "text/plain": [
       "<Figure size 432x288 with 2 Axes>"
      ]
     },
     "metadata": {
      "needs_background": "light"
     },
     "output_type": "display_data"
    }
   ],
   "source": [
    "X_pred = model.predict(X_test)\n",
    "\n",
    "idx = 45\n",
    "predict_example(idx, X_test, X_pred)"
   ]
  },
  {
   "cell_type": "markdown",
   "metadata": {},
   "source": [
    "### Finetuning for MNIST Classification\n",
    "#### Using pre-trained weights from DAE \n",
    "\n",
    "We will now train a multi-class classifier with learnt weights from Autoencoder. We will freeze the model till embeddings (latent representations) and add another head (classifier) with additional trainable layers, thereby finetuning a classfication model with learnt/pre-trained weights."
   ]
  },
  {
   "cell_type": "code",
   "execution_count": 11,
   "metadata": {},
   "outputs": [
    {
     "name": "stdout",
     "output_type": "stream",
     "text": [
      "Model: \"sequential\"\n",
      "_________________________________________________________________\n",
      " Layer (type)                Output Shape              Param #   \n",
      "=================================================================\n",
      " conv2d (Conv2D)             (None, 27, 27, 64)        320       \n",
      "                                                                 \n",
      " conv2d_1 (Conv2D)           (None, 26, 26, 128)       32896     \n",
      "                                                                 \n",
      " max_pooling2d (MaxPooling2D  (None, 13, 13, 128)      0         \n",
      " )                                                               \n",
      "                                                                 \n",
      " batch_normalization (BatchN  (None, 13, 13, 128)      512       \n",
      " ormalization)                                                   \n",
      "                                                                 \n",
      " embedding (Dropout)         (None, 13, 13, 128)       0         \n",
      "                                                                 \n",
      " conv2d_2 (Conv2D)           (None, 11, 11, 128)       147584    \n",
      "                                                                 \n",
      " max_pooling2d_1 (MaxPooling  (None, 3, 3, 128)        0         \n",
      " 2D)                                                             \n",
      "                                                                 \n",
      " batch_normalization_1 (Batc  (None, 3, 3, 128)        512       \n",
      " hNormalization)                                                 \n",
      "                                                                 \n",
      " dropout (Dropout)           (None, 3, 3, 128)         0         \n",
      "                                                                 \n",
      " flatten (Flatten)           (None, 1152)              0         \n",
      "                                                                 \n",
      " dense (Dense)               (None, 10)                11530     \n",
      "                                                                 \n",
      "=================================================================\n",
      "Total params: 193,354\n",
      "Trainable params: 159,370\n",
      "Non-trainable params: 33,984\n",
      "_________________________________________________________________\n"
     ]
    }
   ],
   "source": [
    "model_clf = Sequential()\n",
    "for layer in model.layers:\n",
    "    layer.trainable = False\n",
    "    model_clf.add(layer)\n",
    "    if layer.name=='embedding':\n",
    "        break\n",
    "\n",
    "model_clf.add(Conv2D(128, kernel_size=(3,3), activation='relu'))\n",
    "model_clf.add(MaxPool2D(pool_size=(3,3)))\n",
    "model_clf.add(BatchNormalization())\n",
    "model_clf.add(Dropout(0.5))\n",
    "model_clf.add(Flatten())\n",
    "model_clf.add(Dense(num_classes, activation='softmax'))\n",
    "model_clf.summary()"
   ]
  },
  {
   "cell_type": "code",
   "execution_count": 12,
   "metadata": {},
   "outputs": [],
   "source": [
    "X = np.squeeze(X)\n",
    "X_test = np.squeeze(X_test)"
   ]
  },
  {
   "cell_type": "code",
   "execution_count": 13,
   "metadata": {},
   "outputs": [
    {
     "name": "stdout",
     "output_type": "stream",
     "text": [
      "Epoch 1/20\n",
      "75/75 [==============================] - 4s 49ms/step - loss: 2.3582 - val_loss: 0.9880\n",
      "Epoch 2/20\n",
      "75/75 [==============================] - 3s 39ms/step - loss: 1.2015 - val_loss: 0.5256\n",
      "Epoch 3/20\n",
      "75/75 [==============================] - 3s 36ms/step - loss: 0.8534 - val_loss: 0.4130\n",
      "Epoch 4/20\n",
      "75/75 [==============================] - 3s 43ms/step - loss: 0.6807 - val_loss: 0.3735\n",
      "Epoch 5/20\n",
      "75/75 [==============================] - 4s 48ms/step - loss: 0.5717 - val_loss: 0.3326\n",
      "Epoch 6/20\n",
      "75/75 [==============================] - 3s 43ms/step - loss: 0.4706 - val_loss: 0.3009\n",
      "Epoch 7/20\n",
      "75/75 [==============================] - 3s 41ms/step - loss: 0.4501 - val_loss: 0.2881\n",
      "Epoch 8/20\n",
      "75/75 [==============================] - 3s 40ms/step - loss: 0.4028 - val_loss: 0.2685\n",
      "Epoch 9/20\n",
      "75/75 [==============================] - 3s 40ms/step - loss: 0.3484 - val_loss: 0.2624\n",
      "Epoch 10/20\n",
      "75/75 [==============================] - 3s 40ms/step - loss: 0.3385 - val_loss: 0.2467\n",
      "Epoch 11/20\n",
      "75/75 [==============================] - 3s 43ms/step - loss: 0.3160 - val_loss: 0.2346\n",
      "Epoch 12/20\n",
      "75/75 [==============================] - 3s 44ms/step - loss: 0.2903 - val_loss: 0.2304\n",
      "Epoch 13/20\n",
      "75/75 [==============================] - 3s 42ms/step - loss: 0.2610 - val_loss: 0.2196\n",
      "Epoch 14/20\n",
      "75/75 [==============================] - 3s 42ms/step - loss: 0.2626 - val_loss: 0.2158\n",
      "Epoch 15/20\n",
      "75/75 [==============================] - 3s 41ms/step - loss: 0.2249 - val_loss: 0.2078\n",
      "Epoch 16/20\n",
      "75/75 [==============================] - 3s 39ms/step - loss: 0.2035 - val_loss: 0.1977\n",
      "Epoch 17/20\n",
      "75/75 [==============================] - 3s 38ms/step - loss: 0.2138 - val_loss: 0.1915\n",
      "Epoch 18/20\n",
      "75/75 [==============================] - 3s 38ms/step - loss: 0.1960 - val_loss: 0.1836\n",
      "Epoch 19/20\n",
      "75/75 [==============================] - 3s 39ms/step - loss: 0.1872 - val_loss: 0.1849\n",
      "Epoch 20/20\n",
      "75/75 [==============================] - 3s 38ms/step - loss: 0.1793 - val_loss: 0.1832\n"
     ]
    }
   ],
   "source": [
    "learning_rate = 1E-4\n",
    "n_epochs = 20\n",
    "batch_size = 64\n",
    "\n",
    "optimizer = keras.optimizers.Adam(learning_rate=learning_rate)\n",
    "model_clf.compile(loss='sparse_categorical_crossentropy', optimizer=optimizer)\n",
    "\n",
    "history = model_clf.fit(X, y, epochs = n_epochs, shuffle = True, \n",
    "                    validation_split = 0.2, verbose=1)"
   ]
  },
  {
   "cell_type": "code",
   "execution_count": 14,
   "metadata": {},
   "outputs": [
    {
     "data": {
      "image/png": "[encoded data removed]",
      "text/plain": [
       "<Figure size 1080x360 with 2 Axes>"
      ]
     },
     "metadata": {
      "needs_background": "light"
     },
     "output_type": "display_data"
    }
   ],
   "source": [
    "train_loss = history.history['loss']\n",
    "val_loss = history.history['val_loss']\n",
    "plotting(train_loss, val_loss)    "
   ]
  },
  {
   "cell_type": "code",
   "execution_count": 15,
   "metadata": {},
   "outputs": [
    {
     "name": "stdout",
     "output_type": "stream",
     "text": [
      "Accuracy Score: 0.96\n"
     ]
    }
   ],
   "source": [
    "y_pred = model_clf.predict(X_test)\n",
    "y_pred = np.argmax(y_pred, axis=1)\n",
    "\n",
    "acc_score = balanced_accuracy_score(y_test, y_pred)\n",
    "print('Accuracy Score:', acc_score.round(2))"
   ]
  },
  {
   "cell_type": "code",
   "execution_count": null,
   "metadata": {},
   "outputs": [],
   "source": []
  }
 ],
 "metadata": {
  "interpreter": {
   "hash": "951daa5e1959839fcb325fff331f52e72634f7a1be998f6081ed7f433b63f1b3"
  },
  "kernelspec": {
   "display_name": "Python 3.8.11 64-bit ('base': conda)",
   "language": "python",
   "name": "python3"
  },
  "language_info": {
   "codemirror_mode": {
    "name": "ipython",
    "version": 3
   },
   "file_extension": ".py",
   "mimetype": "text/x-python",
   "name": "python",
   "nbconvert_exporter": "python",
   "pygments_lexer": "ipython3",
   "version": "3.8.11"
  },
  "orig_nbformat": 4
 },
 "nbformat": 4,
 "nbformat_minor": 2
}
