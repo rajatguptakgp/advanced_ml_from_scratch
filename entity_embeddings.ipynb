{
 "cells": [
  {
   "cell_type": "code",
   "execution_count": 1,
   "metadata": {},
   "outputs": [],
   "source": [
    "import numpy as np\n",
    "import pandas as pd\n",
    "import matplotlib.pyplot as plt\n",
    "from sklearn.preprocessing import LabelEncoder\n",
    "from sklearn.model_selection import train_test_split\n",
    "\n",
    "from tensorflow import keras\n",
    "from keras import layers\n",
    "from keras.models import Model\n",
    "from tensorflow.keras.callbacks import EarlyStopping"
   ]
  },
  {
   "cell_type": "markdown",
   "metadata": {},
   "source": [
    "### Entity Embeddings\n",
    "\n",
    "Variables are of two types: Categorical and Numeric. Categorical variables are those which discrete set of values in form of categories. In a dataset, there can be many categorical variables which can have categories in form of text or numbers. However, we need to preprocess such variables for the ML model to interpret them appropriately. For example, if we have a variable as gender having values as 'Male' and 'Female', we need to map these categories appropriately such that we represent them through numbers. At the same time, there is no relation between mapped values of 'Male' and 'Female' as these categories are independent.\n",
    "\n",
    "There are many preprocessing techniques like One Hot Encoding, Label Encoding etc. However, these techniques have certain limitations:\n",
    "1. One Hot Encoding: Increase volume of dataset drastically while transforming high cardinalility features and making it sparse\n",
    "2. Label Encoding: Inducing dependency between categories\n",
    "\n",
    "And so, we can go with an approach like Entity Embeddings when we have a very large number of categorical variables. The idea behind Entity Embeddings is that it uses a Neural Network to learn embeddings for each categorical variable with minimizing the objective. "
   ]
  },
  {
   "cell_type": "markdown",
   "metadata": {},
   "source": [
    "#### Kaggle Dataset Link: https://www.kaggle.com/c/cat-in-the-dat"
   ]
  },
  {
   "cell_type": "code",
   "execution_count": 2,
   "metadata": {},
   "outputs": [],
   "source": [
    "num_classes = 2\n",
    "sample_frac = 1\n",
    "\n",
    "max_ebd_size = 20\n",
    "dense_dim = 50\n",
    "dropout_rate = 0.5\n",
    "\n",
    "learning_rate = 5E-5\n",
    "n_epochs = 30\n",
    "batch_size = 1024\n",
    "\n",
    "data = pd.read_csv('cat-in-the-dat/train.csv')"
   ]
  },
  {
   "cell_type": "code",
   "execution_count": 3,
   "metadata": {},
   "outputs": [],
   "source": [
    "# taking small sample of data for faster training\n",
    "data1 = data[data['target']==0].sample(frac=sample_frac)\n",
    "data2 = data[data['target']==1].sample(frac=sample_frac)\n",
    "data = pd.concat([data1, data2])"
   ]
  },
  {
   "cell_type": "code",
   "execution_count": 4,
   "metadata": {},
   "outputs": [
    {
     "data": {
      "text/plain": [
       "(240000, 60000)"
      ]
     },
     "execution_count": 4,
     "metadata": {},
     "output_type": "execute_result"
    }
   ],
   "source": [
    "train, val = train_test_split(data, test_size=0.2, stratify=data['target'], random_state=0)\n",
    "len(train), len(val)"
   ]
  },
  {
   "cell_type": "markdown",
   "metadata": {},
   "source": [
    "Important Points:\n",
    "\n",
    "1. Note that there is an Embedding layer for each categorical variable which is connected to its own layer only and not to other input variables or embeddings. \n",
    "2. In that sense, the Neural Network will have an input layer for each variable in data. So there are **multiple inputs** in this NN. \n",
    "3. The Embedding layers are flattened and concatenated into a dense layer. \n",
    "4. Post that, additional set of Dense, Dropout, Batch Normalization layers are added accordingly to build the NN with the target objective.\n"
   ]
  },
  {
   "cell_type": "code",
   "execution_count": 5,
   "metadata": {},
   "outputs": [
    {
     "name": "stderr",
     "output_type": "stream",
     "text": [
      "2022-03-14 15:38:40.119972: I tensorflow/core/platform/cpu_feature_guard.cc:151] This TensorFlow binary is optimized with oneAPI Deep Neural Network Library (oneDNN) to use the following CPU instructions in performance-critical operations:  AVX2 FMA\n",
      "To enable them in other operations, rebuild TensorFlow with the appropriate compiler flags.\n"
     ]
    }
   ],
   "source": [
    "cols = data.columns.tolist()\n",
    "cols.remove('id')\n",
    "cols.remove('target')\n",
    "\n",
    "inputs = []\n",
    "outputs = []\n",
    "for col in cols:\n",
    "    lbl_enc = LabelEncoder()\n",
    "    lbl_enc.fit(data[col].values)\n",
    "    \n",
    "    # transforming variables to numeric form\n",
    "    train.loc[:, col] = lbl_enc.transform(train[col].values)\n",
    "    val.loc[:, col] = lbl_enc.transform(val[col].values)\n",
    "    \n",
    "    num_unique_values = data[col].nunique()\n",
    "    \n",
    "    # add one for unknown\n",
    "    input_size = num_unique_values + 1\n",
    "    \n",
    "    # embedding size\n",
    "    output_size = min(num_unique_values // 2, max_ebd_size)\n",
    "    \n",
    "    ebd_layer = layers.Embedding(input_size, output_size)\n",
    "    inp = layers.Input(shape=(1,))\n",
    "    out = ebd_layer(inp)\n",
    "    out = layers.Reshape(target_shape=(output_size, ))(out)\n",
    "    \n",
    "    inputs.append(inp)\n",
    "    outputs.append(out)"
   ]
  },
  {
   "cell_type": "code",
   "execution_count": 6,
   "metadata": {},
   "outputs": [
    {
     "name": "stdout",
     "output_type": "stream",
     "text": [
      "Number of parameters: 336806\n"
     ]
    }
   ],
   "source": [
    "x = layers.Concatenate()(outputs)\n",
    "x = layers.Dense(dense_dim, activation='relu')(x)\n",
    "x = layers.BatchNormalization()(x)\n",
    "x = layers.Dropout(dropout_rate)(x)\n",
    "y = layers.Dense(num_classes, activation='softmax')(x)\n",
    "model = Model(inputs=inputs, outputs=y)\n",
    "print('Number of parameters:', model.count_params())"
   ]
  },
  {
   "cell_type": "code",
   "execution_count": 7,
   "metadata": {},
   "outputs": [
    {
     "data": {
      "text/plain": [
       "(23, 23, 240000, 60000)"
      ]
     },
     "execution_count": 7,
     "metadata": {},
     "output_type": "execute_result"
    }
   ],
   "source": [
    "X_train = [train.loc[:, c].values for c in cols]\n",
    "X_val = [val.loc[:, c].values for c in cols]\n",
    "y_train = train['target'].values\n",
    "y_val = val['target'].values\n",
    "\n",
    "len(X_train), len(X_val), len(y_train), len(y_val)"
   ]
  },
  {
   "cell_type": "code",
   "execution_count": 8,
   "metadata": {},
   "outputs": [
    {
     "name": "stdout",
     "output_type": "stream",
     "text": [
      "Epoch 1/30\n",
      "235/235 - 4s - loss: 0.8474 - accuracy: 0.5257 - val_loss: 0.6635 - val_accuracy: 0.6862 - 4s/epoch - 18ms/step\n",
      "Epoch 2/30\n",
      "235/235 - 1s - loss: 0.7143 - accuracy: 0.5790 - val_loss: 0.6373 - val_accuracy: 0.6887 - 1s/epoch - 6ms/step\n",
      "Epoch 3/30\n",
      "235/235 - 1s - loss: 0.6536 - accuracy: 0.6283 - val_loss: 0.6138 - val_accuracy: 0.6916 - 1s/epoch - 5ms/step\n",
      "Epoch 4/30\n",
      "235/235 - 1s - loss: 0.6182 - accuracy: 0.6690 - val_loss: 0.5906 - val_accuracy: 0.7048 - 1s/epoch - 6ms/step\n",
      "Epoch 5/30\n",
      "235/235 - 1s - loss: 0.5918 - accuracy: 0.6929 - val_loss: 0.5670 - val_accuracy: 0.7184 - 1s/epoch - 6ms/step\n",
      "Epoch 6/30\n",
      "235/235 - 1s - loss: 0.5697 - accuracy: 0.7113 - val_loss: 0.5481 - val_accuracy: 0.7282 - 1s/epoch - 6ms/step\n",
      "Epoch 7/30\n",
      "235/235 - 1s - loss: 0.5541 - accuracy: 0.7213 - val_loss: 0.5359 - val_accuracy: 0.7340 - 1s/epoch - 6ms/step\n",
      "Epoch 8/30\n",
      "235/235 - 1s - loss: 0.5409 - accuracy: 0.7300 - val_loss: 0.5265 - val_accuracy: 0.7395 - 1s/epoch - 5ms/step\n",
      "Epoch 9/30\n",
      "235/235 - 1s - loss: 0.5301 - accuracy: 0.7377 - val_loss: 0.5202 - val_accuracy: 0.7423 - 1s/epoch - 6ms/step\n",
      "Epoch 10/30\n",
      "235/235 - 2s - loss: 0.5216 - accuracy: 0.7426 - val_loss: 0.5151 - val_accuracy: 0.7446 - 2s/epoch - 7ms/step\n",
      "Epoch 11/30\n",
      "235/235 - 2s - loss: 0.5139 - accuracy: 0.7466 - val_loss: 0.5116 - val_accuracy: 0.7465 - 2s/epoch - 6ms/step\n",
      "Epoch 12/30\n",
      "235/235 - 1s - loss: 0.5084 - accuracy: 0.7504 - val_loss: 0.5083 - val_accuracy: 0.7485 - 1s/epoch - 6ms/step\n",
      "Epoch 13/30\n",
      "235/235 - 1s - loss: 0.5021 - accuracy: 0.7551 - val_loss: 0.5053 - val_accuracy: 0.7512 - 1s/epoch - 6ms/step\n",
      "Epoch 14/30\n",
      "235/235 - 1s - loss: 0.4960 - accuracy: 0.7575 - val_loss: 0.5027 - val_accuracy: 0.7523 - 1s/epoch - 5ms/step\n",
      "Epoch 15/30\n",
      "235/235 - 1s - loss: 0.4903 - accuracy: 0.7616 - val_loss: 0.5007 - val_accuracy: 0.7535 - 1s/epoch - 5ms/step\n",
      "Epoch 16/30\n",
      "235/235 - 1s - loss: 0.4854 - accuracy: 0.7653 - val_loss: 0.4993 - val_accuracy: 0.7539 - 1s/epoch - 5ms/step\n",
      "Epoch 17/30\n",
      "235/235 - 1s - loss: 0.4805 - accuracy: 0.7679 - val_loss: 0.4983 - val_accuracy: 0.7548 - 1s/epoch - 5ms/step\n",
      "Epoch 18/30\n",
      "235/235 - 1s - loss: 0.4757 - accuracy: 0.7707 - val_loss: 0.4976 - val_accuracy: 0.7546 - 1s/epoch - 5ms/step\n",
      "Epoch 19/30\n",
      "235/235 - 1s - loss: 0.4700 - accuracy: 0.7744 - val_loss: 0.4974 - val_accuracy: 0.7545 - 1s/epoch - 5ms/step\n",
      "Epoch 20/30\n",
      "235/235 - 1s - loss: 0.4662 - accuracy: 0.7772 - val_loss: 0.4972 - val_accuracy: 0.7543 - 1s/epoch - 5ms/step\n",
      "Epoch 21/30\n",
      "235/235 - 1s - loss: 0.4617 - accuracy: 0.7799 - val_loss: 0.4976 - val_accuracy: 0.7540 - 1s/epoch - 5ms/step\n",
      "Epoch 22/30\n",
      "235/235 - 1s - loss: 0.4577 - accuracy: 0.7824 - val_loss: 0.4978 - val_accuracy: 0.7535 - 1s/epoch - 5ms/step\n",
      "Epoch 23/30\n",
      "235/235 - 1s - loss: 0.4543 - accuracy: 0.7834 - val_loss: 0.4985 - val_accuracy: 0.7532 - 1s/epoch - 5ms/step\n"
     ]
    }
   ],
   "source": [
    "model.compile(loss='sparse_categorical_crossentropy', optimizer=keras.optimizers.Adam(learning_rate=learning_rate), metrics=['accuracy'])\n",
    "estop = EarlyStopping(patience=3)\n",
    "\n",
    "history = model.fit(X_train, y_train, epochs = n_epochs, shuffle = True, \n",
    "                    batch_size = batch_size, validation_data = (X_val, y_val), callbacks = [estop], verbose=2)"
   ]
  },
  {
   "cell_type": "code",
   "execution_count": 9,
   "metadata": {},
   "outputs": [
    {
     "data": {
      "image/png": "[encoded data removed]",
      "text/plain": [
       "<Figure size 1440x360 with 2 Axes>"
      ]
     },
     "metadata": {
      "needs_background": "light"
     },
     "output_type": "display_data"
    }
   ],
   "source": [
    "plt.figure(figsize=(20,5))\n",
    "\n",
    "train_loss = history.history['loss']\n",
    "val_loss = history.history['val_loss']\n",
    "\n",
    "plt.subplot(121)\n",
    "plt.plot(train_loss)\n",
    "plt.title('Training Loss')\n",
    "\n",
    "plt.subplot(122)\n",
    "plt.plot(val_loss)\n",
    "plt.title('Validation Loss')\n",
    "plt.show()"
   ]
  },
  {
   "cell_type": "code",
   "execution_count": null,
   "metadata": {},
   "outputs": [],
   "source": []
  },
  {
   "cell_type": "code",
   "execution_count": null,
   "metadata": {},
   "outputs": [],
   "source": []
  }
 ],
 "metadata": {
  "interpreter": {
   "hash": "951daa5e1959839fcb325fff331f52e72634f7a1be998f6081ed7f433b63f1b3"
  },
  "kernelspec": {
   "display_name": "Python 3.8.11 64-bit ('base': conda)",
   "language": "python",
   "name": "python3"
  },
  "language_info": {
   "codemirror_mode": {
    "name": "ipython",
    "version": 3
   },
   "file_extension": ".py",
   "mimetype": "text/x-python",
   "name": "python",
   "nbconvert_exporter": "python",
   "pygments_lexer": "ipython3",
   "version": "3.8.11"
  },
  "orig_nbformat": 4
 },
 "nbformat": 4,
 "nbformat_minor": 2
}
